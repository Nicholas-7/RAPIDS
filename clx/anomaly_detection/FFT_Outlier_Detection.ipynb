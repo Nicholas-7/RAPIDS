{
 "cells": [
  {
   "cell_type": "markdown",
   "metadata": {},
   "source": [
    "# Fourier Transform Based Outlier Detection in Time Series data using CuPy and CLX libraries"
   ]
  },
  {
   "cell_type": "markdown",
   "metadata": {},
   "source": [
    "## Authors:\n",
    "   Gorkem Batmaz (Nvidia)"
   ]
  },
  {
   "cell_type": "markdown",
   "metadata": {},
   "source": [
    "## Contents\n",
    "\n",
    "* Introduction\n",
    "* Implementation using CuPy and CLX\n",
    "* References"
   ]
  },
  {
   "cell_type": "markdown",
   "metadata": {},
   "source": [
    "## Introduction"
   ]
  },
  {
   "cell_type": "markdown",
   "metadata": {},
   "source": [
    "Outlier detection is a  technique for detecting outliers in the observed data or in time series. In real life, signals of interest can have many sinusoidal components and a lot of noise. Therefore it is not always straightforward to create rules to catch anomalies. We will demonstrate how we can detect outliers in time series data using Fourier transform.\n",
    "We quote from -Brighan, 1974, The FFT- \"..., the essence of the Fourier Transform of a waveform is to decompose or separate the waveform into a sum of sinusoids of different frequencies. If these sinusoids sum to the original waveform then we have determined the Fourier Transform of the waveform.\" Mathematically, this transform is stated as:"
   ]
  },
  {
   "cell_type": "markdown",
   "metadata": {},
   "source": [
    "$X(\\omega)=\\int_{-\\infty}^{\\infty} x(t) e^{-t \\omega t} d t$"
   ]
  },
  {
   "cell_type": "markdown",
   "metadata": {},
   "source": [
    "We will use discrete Fourier transform for performing Fourier analysis of discrete-time sequences. It will help us denoise the signal and allow us to employ statistical methods to detect anomalies."
   ]
  },
  {
   "cell_type": "markdown",
   "metadata": {},
   "source": [
    "The Discrete Fourier Transform $ X[k] $ of $ x[n] $ is the discrete-time signal is  \n",
    "\n",
    "$ X[k]=\\sum_{k=0}^{N−1} x[n].e^{−J.2pi.kn/N} $\n",
    "\n",
    "where $ x[n] $ is a discrete-time signal with Period N.\n",
    "\n",
    "The Inverse Discrete Fourier transform is\n",
    "\n",
    "$ x[n]=(1/N)\\sum_{k=0}^{N−1} X[k].e^{J.2pi.kn/N} $"
   ]
  },
  {
   "cell_type": "markdown",
   "metadata": {},
   "source": [
    "To do this, we will first move the signal into the frequency domain. Then we will apply kind of a filter to remove components that have too high frequencies. Once we have a more precise signal, it will be possible to use techniques such as rolling z score to detect anomalies.\n",
    "In this notebook, we will use an alternative dataset not to disclose internal information. We will use a dataset of daily minimum temperature measurements taken in Melbourne, Australia between 1981 and 1990. This dataset is available to download at https://www.kaggle.com/paulbrabban/daily-minimum-temperatures-in-melbourne"
   ]
  },
  {
   "cell_type": "markdown",
   "metadata": {},
   "source": [
    "### Implementation"
   ]
  },
  {
   "cell_type": "markdown",
   "metadata": {},
   "source": [
    "#### Importing the libraries"
   ]
  },
  {
   "cell_type": "code",
   "execution_count": 1,
   "metadata": {},
   "outputs": [],
   "source": [
    "import cupy as cp\n",
    "import cudf\n",
    "try:\n",
    "    import clx \n",
    "except ImportError:\n",
    "    !conda install -c rapidsai -y clx\n",
    "    import clx \n",
    "from clx.analytics.stats import rzscore\n",
    "import numpy as np\n",
    "try:\n",
    "    import matplotlib as pyplot\n",
    "except ImportError:\n",
    "    !conda install -c rapidsai -y matplotlib\n",
    "import matplotlib.pyplot as pyplot\n",
    "\n",
    "try:\n",
    "    import cuxfilter\n",
    "except ModuleNotFoundError:\n",
    "    os.system('conda install -c rapidsai -y cuxfilter')   \n",
    "import cuxfilter\n",
    "from cuxfilter.charts import scatter, bokeh, line\n",
    "from cuxfilter import DataFrame, themes, layouts\n",
    "from cuxfilter.assets.custom_tiles import get_provider, Vendors\n",
    "from bokeh.palettes import Magma, Inferno, Plasma, Viridis, Cividis, Category20c"
   ]
  },
  {
   "cell_type": "markdown",
   "metadata": {},
   "source": [
    "#### Read the data into GPU memory"
   ]
  },
  {
   "cell_type": "code",
   "execution_count": 2,
   "metadata": {},
   "outputs": [],
   "source": [
    "gdf=cudf.read_csv(\"daily-min-temperatures.txt\")"
   ]
  },
  {
   "cell_type": "code",
   "execution_count": 3,
   "metadata": {},
   "outputs": [
    {
     "data": {
      "text/plain": [
       "0       20.7\n",
       "1       17.9\n",
       "2       18.8\n",
       "3       14.6\n",
       "4       15.8\n",
       "        ... \n",
       "3645    14.0\n",
       "3646    13.6\n",
       "3647    13.5\n",
       "3648    15.7\n",
       "3649    13.0\n",
       "Name: Temp, Length: 3650, dtype: float64"
      ]
     },
     "execution_count": 3,
     "metadata": {},
     "output_type": "execute_result"
    }
   ],
   "source": [
    "gdf['Temp']"
   ]
  },
  {
   "cell_type": "markdown",
   "metadata": {},
   "source": [
    "#### Convert cudf series into CuPy to utilise the Fast Fourier Transform functions"
   ]
  },
  {
   "cell_type": "code",
   "execution_count": 4,
   "metadata": {},
   "outputs": [],
   "source": [
    "a = cp.fromDlpack(gdf['Temp'].to_dlpack())"
   ]
  },
  {
   "cell_type": "code",
   "execution_count": 5,
   "metadata": {},
   "outputs": [
    {
     "data": {
      "text/plain": [
       "array([20.7, 17.9, 18.8, ..., 13.5, 15.7, 13. ])"
      ]
     },
     "execution_count": 5,
     "metadata": {},
     "output_type": "execute_result"
    }
   ],
   "source": [
    "a"
   ]
  },
  {
   "cell_type": "markdown",
   "metadata": {},
   "source": [
    "#### Visualise the data"
   ]
  },
  {
   "cell_type": "code",
   "execution_count": 6,
   "metadata": {},
   "outputs": [
    {
     "data": {
      "text/plain": [
       "[<matplotlib.lines.Line2D at 0x7ff8b02f6510>]"
      ]
     },
     "execution_count": 6,
     "metadata": {},
     "output_type": "execute_result"
    },
    {
     "data": {
      "image/png": "[encoded data removed]",
      "text/plain": [
       "<Figure size 432x288 with 1 Axes>"
      ]
     },
     "metadata": {
      "needs_background": "light"
     },
     "output_type": "display_data"
    }
   ],
   "source": [
    "pyplot.plot(cp.asnumpy(a))"
   ]
  },
  {
   "cell_type": "markdown",
   "metadata": {},
   "source": [
    "We can also now visualize our data using the `cuxfilter` library."
   ]
  },
  {
   "cell_type": "code",
   "execution_count": 7,
   "metadata": {},
   "outputs": [
    {
     "name": "stdout",
     "output_type": "stream",
     "text": [
      "      index     0\n",
      "0         0  20.7\n",
      "1         1  17.9\n",
      "2         2  18.8\n",
      "3         3  14.6\n",
      "4         4  15.8\n",
      "...     ...   ...\n",
      "3645   3645  14.0\n",
      "3646   3646  13.6\n",
      "3647   3647  13.5\n",
      "3648   3648  15.7\n",
      "3649   3649  13.0\n",
      "\n",
      "[3650 rows x 2 columns]\n"
     ]
    }
   ],
   "source": [
    "reshaped_df = cudf.DataFrame(a)\n",
    "reshaped_df = reshaped_df.reset_index()\n",
    "print(reshaped_df)"
   ]
  },
  {
   "cell_type": "code",
   "execution_count": 8,
   "metadata": {},
   "outputs": [
    {
     "name": "stdout",
     "output_type": "stream",
     "text": [
      "         x     y\n",
      "0        0  20.7\n",
      "1        1  17.9\n",
      "2        2  18.8\n",
      "3        3  14.6\n",
      "4        4  15.8\n",
      "...    ...   ...\n",
      "3645  3645  14.0\n",
      "3646  3646  13.6\n",
      "3647  3647  13.5\n",
      "3648  3648  15.7\n",
      "3649  3649  13.0\n",
      "\n",
      "[3650 rows x 2 columns]\n"
     ]
    }
   ],
   "source": [
    "reshaped_df.columns =['x' , 'y']\n",
    "print(reshaped_df)"
   ]
  },
  {
   "cell_type": "code",
   "execution_count": 9,
   "metadata": {},
   "outputs": [
    {
     "data": {
      "application/javascript": [
       "\n",
       "(function(root) {\n",
       "  function now() {\n",
       "    return new Date();\n",
       "  }\n",
       "\n",
       "  var force = true;\n",
       "\n",
       "  if (typeof root._bokeh_onload_callbacks === \"undefined\" || force === true) {\n",
       "    root._bokeh_onload_callbacks = [];\n",
       "    root._bokeh_is_loading = undefined;\n",
       "  }\n",
       "\n",
       "  if (typeof (root._bokeh_timeout) === \"undefined\" || force === true) {\n",
       "    root._bokeh_timeout = Date.now() + 5000;\n",
       "    root._bokeh_failed_load = false;\n",
       "  }\n",
       "\n",
       "  function run_callbacks() {\n",
       "    try {\n",
       "      root._bokeh_onload_callbacks.forEach(function(callback) {\n",
       "        if (callback != null)\n",
       "          callback();\n",
       "      });\n",
       "    } finally {\n",
       "      delete root._bokeh_onload_callbacks\n",
       "    }\n",
       "    console.debug(\"Bokeh: all callbacks have finished\");\n",
       "  }\n",
       "\n",
       "  function load_libs(css_urls, js_urls, callback) {\n",
       "    if (css_urls == null) css_urls = [];\n",
       "    if (js_urls == null) js_urls = [];\n",
       "\n",
       "    root._bokeh_onload_callbacks.push(callback);\n",
       "    if (root._bokeh_is_loading > 0) {\n",
       "      console.debug(\"Bokeh: BokehJS is being loaded, scheduling callback at\", now());\n",
       "      return null;\n",
       "    }\n",
       "    if (js_urls == null || js_urls.length === 0) {\n",
       "      run_callbacks();\n",
       "      return null;\n",
       "    }\n",
       "    console.debug(\"Bokeh: BokehJS not loaded, scheduling load and callback at\", now());\n",
       "    root._bokeh_is_loading = css_urls.length + js_urls.length;\n",
       "\n",
       "    function on_load() {\n",
       "      root._bokeh_is_loading--;\n",
       "      if (root._bokeh_is_loading === 0) {\n",
       "        console.debug(\"Bokeh: all BokehJS libraries/stylesheets loaded\");\n",
       "        run_callbacks()\n",
       "      }\n",
       "    }\n",
       "\n",
       "    function on_error() {\n",
       "      console.error(\"failed to load \" + url);\n",
       "    }\n",
       "\n",
       "    for (var i = 0; i < css_urls.length; i++) {\n",
       "      var url = css_urls[i];\n",
       "      const element = document.createElement(\"link\");\n",
       "      element.onload = on_load;\n",
       "      element.onerror = on_error;\n",
       "      element.rel = \"stylesheet\";\n",
       "      element.type = \"text/css\";\n",
       "      element.href = url;\n",
       "      console.debug(\"Bokeh: injecting link tag for BokehJS stylesheet: \", url);\n",
       "      document.body.appendChild(element);\n",
       "    }\n",
       "\n",
       "    var skip = [];\n",
       "    if (window.requirejs) {\n",
       "      window.requirejs.config({'paths': {'deck.gl': 'https://cdn.jsdelivr.net/npm/@deck.gl/jupyter-widget@^8.1.2/dist/index', 'mapbox-gl': 'https://cdn.jsdelivr.net/npm/mapbox-gl@1.7.0/dist/mapbox-gl.min'}});\n",
       "      require([\"deck.gl\", \"mapbox-gl\"], function(deck,mapboxgl,) {\n",
       "        window.deck = deck;\n",
       "        window.mapboxgl = mapboxgl;\n",
       "      })\n",
       "    }\n",
       "    if (((window['deck'] !== undefined) && (!(window['deck'] instanceof HTMLElement))) || window.requirejs) {\n",
       "      var urls = ['https://cdn.jsdelivr.net/npm/deck.gl@8.1.12/dist.min.js', 'https://cdn.jsdelivr.net/npm/@deck.gl/json@8.1.12/dist.min.js', 'https://cdn.jsdelivr.net/npm/@loaders.gl/csv@2.0.2/dist/dist.min.js', 'https://cdn.jsdelivr.net/npm/@loaders.gl/json@2.0.2/dist/dist.min.js', 'https://cdn.jsdelivr.net/npm/@loaders.gl/3d-tiles@2.0.2/dist/dist.min.js'];\n",
       "      for (var i = 0; i < urls.length; i++) {\n",
       "        skip.push(urls[i])\n",
       "      }\n",
       "    }\n",
       "    if (((window['mapboxgl'] !== undefined) && (!(window['mapboxgl'] instanceof HTMLElement))) || window.requirejs) {\n",
       "      var urls = ['https://api.mapbox.com/mapbox-gl-js/v1.7.0/mapbox-gl.js'];\n",
       "      for (var i = 0; i < urls.length; i++) {\n",
       "        skip.push(urls[i])\n",
       "      }\n",
       "    }\n",
       "    for (var i = 0; i < js_urls.length; i++) {\n",
       "      var url = js_urls[i];\n",
       "      if (skip.indexOf(url) >= 0) { on_load(); continue; }\n",
       "      var element = document.createElement('script');\n",
       "      element.onload = on_load;\n",
       "      element.onerror = on_error;\n",
       "      element.async = false;\n",
       "      element.src = url;\n",
       "      console.debug(\"Bokeh: injecting script tag for BokehJS library: \", url);\n",
       "      document.head.appendChild(element);\n",
       "    }\n",
       "\tif (!js_urls.length) {\n",
       "      on_load()\n",
       "    }\n",
       "  };\n",
       "\n",
       "  function inject_raw_css(css) {\n",
       "    const element = document.createElement(\"style\");\n",
       "    element.appendChild(document.createTextNode(css));\n",
       "    document.body.appendChild(element);\n",
       "  }\n",
       "\n",
       "  var js_urls = [\"https://cdn.jsdelivr.net/npm/deck.gl@8.1.12/dist.min.js\", \"https://cdn.jsdelivr.net/npm/@deck.gl/json@8.1.12/dist.min.js\", \"https://cdn.jsdelivr.net/npm/@loaders.gl/csv@2.0.2/dist/dist.min.js\", \"https://cdn.jsdelivr.net/npm/@loaders.gl/json@2.0.2/dist/dist.min.js\", \"https://cdn.jsdelivr.net/npm/@loaders.gl/3d-tiles@2.0.2/dist/dist.min.js\", \"https://api.mapbox.com/mapbox-gl-js/v1.7.0/mapbox-gl.js\", \"https://cdn.bokeh.org/bokeh/release/bokeh-2.2.3.min.js\", \"https://cdn.bokeh.org/bokeh/release/bokeh-widgets-2.2.3.min.js\", \"https://cdn.bokeh.org/bokeh/release/bokeh-tables-2.2.3.min.js\", \"https://unpkg.com/@holoviz/panel@^0.10.3/dist/panel.min.js\"];\n",
       "  var css_urls = [\"https://api.mapbox.com/mapbox-gl-js/v1.7.0/mapbox-gl.css\", \"https://unpkg.com/@holoviz/panel@0.10.3/dist/css/alerts.css\", \"https://unpkg.com/@holoviz/panel@0.10.3/dist/css/widgets.css\", \"https://unpkg.com/@holoviz/panel@0.10.3/dist/css/card.css\", \"https://unpkg.com/@holoviz/panel@0.10.3/dist/css/dataframe.css\", \"https://unpkg.com/@holoviz/panel@0.10.3/dist/css/markdown.css\", \"https://unpkg.com/@holoviz/panel@0.10.3/dist/css/json.css\"];\n",
       "\n",
       "  var inline_js = [\n",
       "    function(Bokeh) {\n",
       "      inject_raw_css(\"\\n.dataframe table{\\n  border: none;\\n}\\n\\n.panel-df table{\\n    width: 100%;\\n    border-collapse: collapse;\\n    border: none;\\n}\\n.panel-df td{\\n    white-space: nowrap;\\n    overflow: auto;\\n    text-overflow: ellipsis;\\n}\\n\");\n",
       "    },\n",
       "    function(Bokeh) {\n",
       "      inject_raw_css(\"\\n.multi-select{\\n    color: white;\\n    z-index: 100;\\n    background: rgba(44,43,43,0.5);\\n    border-radius: 1px;\\n    width: 120px !important;\\n    height: 30px !important;\\n}\\n.multi-select > .bk {\\n    padding: 5px;\\n    width: 120px !important;\\n    height: 30px !important;\\n}\\n\\n.deck-chart {\\n    z-index: 10;\\n    position: initial !important;\\n}\\n\");\n",
       "    },\n",
       "    function(Bokeh) {\n",
       "      inject_raw_css(\"\\n        .indicator {\\n            text-align: center;\\n        }\\n        \");\n",
       "    },\n",
       "    function(Bokeh) {\n",
       "      inject_raw_css(\"\\n        .indicator {\\n            text-align: center;\\n        }\\n        \");\n",
       "    },\n",
       "    function(Bokeh) {\n",
       "      Bokeh.set_log_level(\"info\");\n",
       "    },\n",
       "    \n",
       "    function(Bokeh) {\n",
       "      (function(root, factory) {\n",
       "          factory(root[\"Bokeh\"]);\n",
       "      })(this, function(Bokeh) {\n",
       "        var define;\n",
       "        return (function outer(modules, entry) {\n",
       "        if (Bokeh != null) {\n",
       "          return Bokeh.register_plugin(modules, entry);\n",
       "        } else {\n",
       "          throw new Error(\"Cannot find Bokeh. You have to load it prior to loading plugins.\");\n",
       "        }\n",
       "      })\n",
       "      ({\n",
       "        \"custom/main\": function(require, module, exports) {\n",
       "          var models = {\n",
       "            \"CustomInspectTool\": require(\"custom/cuxfilter.charts.datashader.custom_extensions.graph_inspect_widget.custom_inspect_tool\").CustomInspectTool\n",
       "          };\n",
       "          require(\"base\").register_models(models);\n",
       "          module.exports = models;\n",
       "        },\n",
       "        \"custom/cuxfilter.charts.datashader.custom_extensions.graph_inspect_widget.custom_inspect_tool\": function(require, module, exports) {\n",
       "      \"use strict\";\n",
       "      var __importStar = (this && this.__importStar) || function (mod) {\n",
       "          if (mod && mod.__esModule) return mod;\n",
       "          var result = {};\n",
       "          if (mod != null) for (var k in mod) if (Object.hasOwnProperty.call(mod, k)) result[k] = mod[k];\n",
       "          result[\"default\"] = mod;\n",
       "          return result;\n",
       "      };\n",
       "      Object.defineProperty(exports, \"__esModule\", { value: true });\n",
       "      const inspect_tool_1 = require(\"models/tools/inspectors/inspect_tool\");\n",
       "      const p = __importStar(require(\"core/properties\"));\n",
       "      class CustomInspectToolView extends inspect_tool_1.InspectToolView {\n",
       "          connect_signals() {\n",
       "              super.connect_signals();\n",
       "              this.connect(this.model.properties.active.change, () => {\n",
       "                  this.model._active = this.model.properties.active.spec.value;\n",
       "              });\n",
       "          }\n",
       "      }\n",
       "      exports.CustomInspectToolView = CustomInspectToolView;\n",
       "      CustomInspectToolView.__name__ = \"CustomInspectToolView\";\n",
       "      class CustomInspectTool extends inspect_tool_1.InspectTool {\n",
       "          constructor(attrs) {\n",
       "              super(attrs);\n",
       "          }\n",
       "          static init_CustomInspectTool() {\n",
       "              this.prototype.default_view = CustomInspectToolView;\n",
       "              this.define({\n",
       "                  _active: [p.Instance],\n",
       "                  icon: [p.String],\n",
       "                  tool_name: [p.String]\n",
       "              });\n",
       "          }\n",
       "      }\n",
       "      exports.CustomInspectTool = CustomInspectTool;\n",
       "      CustomInspectTool.__name__ = \"CustomInspectTool\";\n",
       "      CustomInspectTool.init_CustomInspectTool();\n",
       "      //# sourceMappingURL=graph_inspect_widget.py:CustomInspectTool.js.map\n",
       "      }\n",
       "      }, \"custom/main\");\n",
       "      ;\n",
       "      });\n",
       "\n",
       "    },\n",
       "    function(Bokeh) {} // ensure no trailing comma for IE\n",
       "  ];\n",
       "\n",
       "  function run_inline_js() {\n",
       "    if ((root.Bokeh !== undefined) || (force === true)) {\n",
       "      for (var i = 0; i < inline_js.length; i++) {\n",
       "        inline_js[i].call(root, root.Bokeh);\n",
       "      }} else if (Date.now() < root._bokeh_timeout) {\n",
       "      setTimeout(run_inline_js, 100);\n",
       "    } else if (!root._bokeh_failed_load) {\n",
       "      console.log(\"Bokeh: BokehJS failed to load within specified timeout.\");\n",
       "      root._bokeh_failed_load = true;\n",
       "    }\n",
       "  }\n",
       "\n",
       "  if (root._bokeh_is_loading === 0) {\n",
       "    console.debug(\"Bokeh: BokehJS loaded, going straight to plotting\");\n",
       "    run_inline_js();\n",
       "  } else {\n",
       "    load_libs(css_urls, js_urls, function() {\n",
       "      console.debug(\"Bokeh: BokehJS plotting callback run at\", now());\n",
       "      run_inline_js();\n",
       "    });\n",
       "  }\n",
       "}(window));"
      ],
      "application/vnd.holoviews_load.v0+json": "\n(function(root) {\n  function now() {\n    return new Date();\n  }\n\n  var force = true;\n\n  if (typeof root._bokeh_onload_callbacks === \"undefined\" || force === true) {\n    root._bokeh_onload_callbacks = [];\n    root._bokeh_is_loading = undefined;\n  }\n\n  if (typeof (root._bokeh_timeout) === \"undefined\" || force === true) {\n    root._bokeh_timeout = Date.now() + 5000;\n    root._bokeh_failed_load = false;\n  }\n\n  function run_callbacks() {\n    try {\n      root._bokeh_onload_callbacks.forEach(function(callback) {\n        if (callback != null)\n          callback();\n      });\n    } finally {\n      delete root._bokeh_onload_callbacks\n    }\n    console.debug(\"Bokeh: all callbacks have finished\");\n  }\n\n  function load_libs(css_urls, js_urls, callback) {\n    if (css_urls == null) css_urls = [];\n    if (js_urls == null) js_urls = [];\n\n    root._bokeh_onload_callbacks.push(callback);\n    if (root._bokeh_is_loading > 0) {\n      console.debug(\"Bokeh: BokehJS is being loaded, scheduling callback at\", now());\n      return null;\n    }\n    if (js_urls == null || js_urls.length === 0) {\n      run_callbacks();\n      return null;\n    }\n    console.debug(\"Bokeh: BokehJS not loaded, scheduling load and callback at\", now());\n    root._bokeh_is_loading = css_urls.length + js_urls.length;\n\n    function on_load() {\n      root._bokeh_is_loading--;\n      if (root._bokeh_is_loading === 0) {\n        console.debug(\"Bokeh: all BokehJS libraries/stylesheets loaded\");\n        run_callbacks()\n      }\n    }\n\n    function on_error() {\n      console.error(\"failed to load \" + url);\n    }\n\n    for (var i = 0; i < css_urls.length; i++) {\n      var url = css_urls[i];\n      const element = document.createElement(\"link\");\n      element.onload = on_load;\n      element.onerror = on_error;\n      element.rel = \"stylesheet\";\n      element.type = \"text/css\";\n      element.href = url;\n      console.debug(\"Bokeh: injecting link tag for BokehJS stylesheet: \", url);\n      document.body.appendChild(element);\n    }\n\n    var skip = [];\n    if (window.requirejs) {\n      window.requirejs.config({'paths': {'deck.gl': 'https://cdn.jsdelivr.net/npm/@deck.gl/jupyter-widget@^8.1.2/dist/index', 'mapbox-gl': 'https://cdn.jsdelivr.net/npm/mapbox-gl@1.7.0/dist/mapbox-gl.min'}});\n      require([\"deck.gl\", \"mapbox-gl\"], function(deck,mapboxgl,) {\n        window.deck = deck;\n        window.mapboxgl = mapboxgl;\n      })\n    }\n    if (((window['deck'] !== undefined) && (!(window['deck'] instanceof HTMLElement))) || window.requirejs) {\n      var urls = ['https://cdn.jsdelivr.net/npm/deck.gl@8.1.12/dist.min.js', 'https://cdn.jsdelivr.net/npm/@deck.gl/json@8.1.12/dist.min.js', 'https://cdn.jsdelivr.net/npm/@loaders.gl/csv@2.0.2/dist/dist.min.js', 'https://cdn.jsdelivr.net/npm/@loaders.gl/json@2.0.2/dist/dist.min.js', 'https://cdn.jsdelivr.net/npm/@loaders.gl/3d-tiles@2.0.2/dist/dist.min.js'];\n      for (var i = 0; i < urls.length; i++) {\n        skip.push(urls[i])\n      }\n    }\n    if (((window['mapboxgl'] !== undefined) && (!(window['mapboxgl'] instanceof HTMLElement))) || window.requirejs) {\n      var urls = ['https://api.mapbox.com/mapbox-gl-js/v1.7.0/mapbox-gl.js'];\n      for (var i = 0; i < urls.length; i++) {\n        skip.push(urls[i])\n      }\n    }\n    for (var i = 0; i < js_urls.length; i++) {\n      var url = js_urls[i];\n      if (skip.indexOf(url) >= 0) { on_load(); continue; }\n      var element = document.createElement('script');\n      element.onload = on_load;\n      element.onerror = on_error;\n      element.async = false;\n      element.src = url;\n      console.debug(\"Bokeh: injecting script tag for BokehJS library: \", url);\n      document.head.appendChild(element);\n    }\n\tif (!js_urls.length) {\n      on_load()\n    }\n  };\n\n  function inject_raw_css(css) {\n    const element = document.createElement(\"style\");\n    element.appendChild(document.createTextNode(css));\n    document.body.appendChild(element);\n  }\n\n  var js_urls = [\"https://cdn.jsdelivr.net/npm/deck.gl@8.1.12/dist.min.js\", \"https://cdn.jsdelivr.net/npm/@deck.gl/json@8.1.12/dist.min.js\", \"https://cdn.jsdelivr.net/npm/@loaders.gl/csv@2.0.2/dist/dist.min.js\", \"https://cdn.jsdelivr.net/npm/@loaders.gl/json@2.0.2/dist/dist.min.js\", \"https://cdn.jsdelivr.net/npm/@loaders.gl/3d-tiles@2.0.2/dist/dist.min.js\", \"https://api.mapbox.com/mapbox-gl-js/v1.7.0/mapbox-gl.js\", \"https://cdn.bokeh.org/bokeh/release/bokeh-2.2.3.min.js\", \"https://cdn.bokeh.org/bokeh/release/bokeh-widgets-2.2.3.min.js\", \"https://cdn.bokeh.org/bokeh/release/bokeh-tables-2.2.3.min.js\", \"https://unpkg.com/@holoviz/panel@^0.10.3/dist/panel.min.js\"];\n  var css_urls = [\"https://api.mapbox.com/mapbox-gl-js/v1.7.0/mapbox-gl.css\", \"https://unpkg.com/@holoviz/panel@0.10.3/dist/css/alerts.css\", \"https://unpkg.com/@holoviz/panel@0.10.3/dist/css/widgets.css\", \"https://unpkg.com/@holoviz/panel@0.10.3/dist/css/card.css\", \"https://unpkg.com/@holoviz/panel@0.10.3/dist/css/dataframe.css\", \"https://unpkg.com/@holoviz/panel@0.10.3/dist/css/markdown.css\", \"https://unpkg.com/@holoviz/panel@0.10.3/dist/css/json.css\"];\n\n  var inline_js = [\n    function(Bokeh) {\n      inject_raw_css(\"\\n.dataframe table{\\n  border: none;\\n}\\n\\n.panel-df table{\\n    width: 100%;\\n    border-collapse: collapse;\\n    border: none;\\n}\\n.panel-df td{\\n    white-space: nowrap;\\n    overflow: auto;\\n    text-overflow: ellipsis;\\n}\\n\");\n    },\n    function(Bokeh) {\n      inject_raw_css(\"\\n.multi-select{\\n    color: white;\\n    z-index: 100;\\n    background: rgba(44,43,43,0.5);\\n    border-radius: 1px;\\n    width: 120px !important;\\n    height: 30px !important;\\n}\\n.multi-select > .bk {\\n    padding: 5px;\\n    width: 120px !important;\\n    height: 30px !important;\\n}\\n\\n.deck-chart {\\n    z-index: 10;\\n    position: initial !important;\\n}\\n\");\n    },\n    function(Bokeh) {\n      inject_raw_css(\"\\n        .indicator {\\n            text-align: center;\\n        }\\n        \");\n    },\n    function(Bokeh) {\n      inject_raw_css(\"\\n        .indicator {\\n            text-align: center;\\n        }\\n        \");\n    },\n    function(Bokeh) {\n      Bokeh.set_log_level(\"info\");\n    },\n    \n    function(Bokeh) {\n      (function(root, factory) {\n          factory(root[\"Bokeh\"]);\n      })(this, function(Bokeh) {\n        var define;\n        return (function outer(modules, entry) {\n        if (Bokeh != null) {\n          return Bokeh.register_plugin(modules, entry);\n        } else {\n          throw new Error(\"Cannot find Bokeh. You have to load it prior to loading plugins.\");\n        }\n      })\n      ({\n        \"custom/main\": function(require, module, exports) {\n          var models = {\n            \"CustomInspectTool\": require(\"custom/cuxfilter.charts.datashader.custom_extensions.graph_inspect_widget.custom_inspect_tool\").CustomInspectTool\n          };\n          require(\"base\").register_models(models);\n          module.exports = models;\n        },\n        \"custom/cuxfilter.charts.datashader.custom_extensions.graph_inspect_widget.custom_inspect_tool\": function(require, module, exports) {\n      \"use strict\";\n      var __importStar = (this && this.__importStar) || function (mod) {\n          if (mod && mod.__esModule) return mod;\n          var result = {};\n          if (mod != null) for (var k in mod) if (Object.hasOwnProperty.call(mod, k)) result[k] = mod[k];\n          result[\"default\"] = mod;\n          return result;\n      };\n      Object.defineProperty(exports, \"__esModule\", { value: true });\n      const inspect_tool_1 = require(\"models/tools/inspectors/inspect_tool\");\n      const p = __importStar(require(\"core/properties\"));\n      class CustomInspectToolView extends inspect_tool_1.InspectToolView {\n          connect_signals() {\n              super.connect_signals();\n              this.connect(this.model.properties.active.change, () => {\n                  this.model._active = this.model.properties.active.spec.value;\n              });\n          }\n      }\n      exports.CustomInspectToolView = CustomInspectToolView;\n      CustomInspectToolView.__name__ = \"CustomInspectToolView\";\n      class CustomInspectTool extends inspect_tool_1.InspectTool {\n          constructor(attrs) {\n              super(attrs);\n          }\n          static init_CustomInspectTool() {\n              this.prototype.default_view = CustomInspectToolView;\n              this.define({\n                  _active: [p.Instance],\n                  icon: [p.String],\n                  tool_name: [p.String]\n              });\n          }\n      }\n      exports.CustomInspectTool = CustomInspectTool;\n      CustomInspectTool.__name__ = \"CustomInspectTool\";\n      CustomInspectTool.init_CustomInspectTool();\n      //# sourceMappingURL=graph_inspect_widget.py:CustomInspectTool.js.map\n      }\n      }, \"custom/main\");\n      ;\n      });\n\n    },\n    function(Bokeh) {} // ensure no trailing comma for IE\n  ];\n\n  function run_inline_js() {\n    if ((root.Bokeh !== undefined) || (force === true)) {\n      for (var i = 0; i < inline_js.length; i++) {\n        inline_js[i].call(root, root.Bokeh);\n      }} else if (Date.now() < root._bokeh_timeout) {\n      setTimeout(run_inline_js, 100);\n    } else if (!root._bokeh_failed_load) {\n      console.log(\"Bokeh: BokehJS failed to load within specified timeout.\");\n      root._bokeh_failed_load = true;\n    }\n  }\n\n  if (root._bokeh_is_loading === 0) {\n    console.debug(\"Bokeh: BokehJS loaded, going straight to plotting\");\n    run_inline_js();\n  } else {\n    load_libs(css_urls, js_urls, function() {\n      console.debug(\"Bokeh: BokehJS plotting callback run at\", now());\n      run_inline_js();\n    });\n  }\n}(window));"
     },
     "metadata": {},
     "output_type": "display_data"
    },
    {
     "data": {
      "application/javascript": [
       "\n",
       "if ((window.PyViz === undefined) || (window.PyViz instanceof HTMLElement)) {\n",
       "  window.PyViz = {comms: {}, comm_status:{}, kernels:{}, receivers: {}, plot_index: []}\n",
       "}\n",
       "\n",
       "\n",
       "    function JupyterCommManager() {\n",
       "    }\n",
       "\n",
       "    JupyterCommManager.prototype.register_target = function(plot_id, comm_id, msg_handler) {\n",
       "      if (window.comm_manager || ((window.Jupyter !== undefined) && (Jupyter.notebook.kernel != null))) {\n",
       "        var comm_manager = window.comm_manager || Jupyter.notebook.kernel.comm_manager;\n",
       "        comm_manager.register_target(comm_id, function(comm) {\n",
       "          comm.on_msg(msg_handler);\n",
       "        });\n",
       "      } else if ((plot_id in window.PyViz.kernels) && (window.PyViz.kernels[plot_id])) {\n",
       "        window.PyViz.kernels[plot_id].registerCommTarget(comm_id, function(comm) {\n",
       "          comm.onMsg = msg_handler;\n",
       "        });\n",
       "      } else if (typeof google != 'undefined' && google.colab.kernel != null) {\n",
       "        google.colab.kernel.comms.registerTarget(comm_id, (comm) => {\n",
       "          var messages = comm.messages[Symbol.asyncIterator]();\n",
       "          function processIteratorResult(result) {\n",
       "            var message = result.value;\n",
       "            console.log(message)\n",
       "            var content = {data: message.data, comm_id};\n",
       "            var buffers = []\n",
       "            for (var buffer of message.buffers || []) {\n",
       "              buffers.push(new DataView(buffer))\n",
       "            }\n",
       "            var metadata = message.metadata || {};\n",
       "            var msg = {content, buffers, metadata}\n",
       "            msg_handler(msg);\n",
       "            return messages.next().then(processIteratorResult);\n",
       "          }\n",
       "          return messages.next().then(processIteratorResult);\n",
       "        })\n",
       "      }\n",
       "    }\n",
       "\n",
       "    JupyterCommManager.prototype.get_client_comm = function(plot_id, comm_id, msg_handler) {\n",
       "      if (comm_id in window.PyViz.comms) {\n",
       "        return window.PyViz.comms[comm_id];\n",
       "      } else if (window.comm_manager || ((window.Jupyter !== undefined) && (Jupyter.notebook.kernel != null))) {\n",
       "        var comm_manager = window.comm_manager || Jupyter.notebook.kernel.comm_manager;\n",
       "        var comm = comm_manager.new_comm(comm_id, {}, {}, {}, comm_id);\n",
       "        if (msg_handler) {\n",
       "          comm.on_msg(msg_handler);\n",
       "        }\n",
       "      } else if ((plot_id in window.PyViz.kernels) && (window.PyViz.kernels[plot_id])) {\n",
       "        var comm = window.PyViz.kernels[plot_id].connectToComm(comm_id);\n",
       "        comm.open();\n",
       "        if (msg_handler) {\n",
       "          comm.onMsg = msg_handler;\n",
       "        }\n",
       "      } else if (typeof google != 'undefined' && google.colab.kernel != null) {\n",
       "        var comm_promise = google.colab.kernel.comms.open(comm_id)\n",
       "        comm_promise.then((comm) => {\n",
       "          window.PyViz.comms[comm_id] = comm;\n",
       "          if (msg_handler) {\n",
       "            var messages = comm.messages[Symbol.asyncIterator]();\n",
       "            function processIteratorResult(result) {\n",
       "              var message = result.value;\n",
       "              var content = {data: message.data};\n",
       "              var metadata = message.metadata || {comm_id};\n",
       "              var msg = {content, metadata}\n",
       "              msg_handler(msg);\n",
       "              return messages.next().then(processIteratorResult);\n",
       "            }\n",
       "            return messages.next().then(processIteratorResult);\n",
       "          }\n",
       "        }) \n",
       "        var sendClosure = (data, metadata, buffers, disposeOnDone) => {\n",
       "          return comm_promise.then((comm) => {\n",
       "            comm.send(data, metadata, buffers, disposeOnDone);\n",
       "          });\n",
       "        };\n",
       "        var comm = {\n",
       "          send: sendClosure\n",
       "        };\n",
       "      }\n",
       "      window.PyViz.comms[comm_id] = comm;\n",
       "      return comm;\n",
       "    }\n",
       "    window.PyViz.comm_manager = new JupyterCommManager();\n",
       "    \n",
       "\n",
       "\n",
       "var JS_MIME_TYPE = 'application/javascript';\n",
       "var HTML_MIME_TYPE = 'text/html';\n",
       "var EXEC_MIME_TYPE = 'application/vnd.holoviews_exec.v0+json';\n",
       "var CLASS_NAME = 'output';\n",
       "\n",
       "/**\n",
       " * Render data to the DOM node\n",
       " */\n",
       "function render(props, node) {\n",
       "  var div = document.createElement(\"div\");\n",
       "  var script = document.createElement(\"script\");\n",
       "  node.appendChild(div);\n",
       "  node.appendChild(script);\n",
       "}\n",
       "\n",
       "/**\n",
       " * Handle when a new output is added\n",
       " */\n",
       "function handle_add_output(event, handle) {\n",
       "  var output_area = handle.output_area;\n",
       "  var output = handle.output;\n",
       "  if ((output.data == undefined) || (!output.data.hasOwnProperty(EXEC_MIME_TYPE))) {\n",
       "    return\n",
       "  }\n",
       "  var id = output.metadata[EXEC_MIME_TYPE][\"id\"];\n",
       "  var toinsert = output_area.element.find(\".\" + CLASS_NAME.split(' ')[0]);\n",
       "  if (id !== undefined) {\n",
       "    var nchildren = toinsert.length;\n",
       "    var html_node = toinsert[nchildren-1].children[0];\n",
       "    html_node.innerHTML = output.data[HTML_MIME_TYPE];\n",
       "    var scripts = [];\n",
       "    var nodelist = html_node.querySelectorAll(\"script\");\n",
       "    for (var i in nodelist) {\n",
       "      if (nodelist.hasOwnProperty(i)) {\n",
       "        scripts.push(nodelist[i])\n",
       "      }\n",
       "    }\n",
       "\n",
       "    scripts.forEach( function (oldScript) {\n",
       "      var newScript = document.createElement(\"script\");\n",
       "      var attrs = [];\n",
       "      var nodemap = oldScript.attributes;\n",
       "      for (var j in nodemap) {\n",
       "        if (nodemap.hasOwnProperty(j)) {\n",
       "          attrs.push(nodemap[j])\n",
       "        }\n",
       "      }\n",
       "      attrs.forEach(function(attr) { newScript.setAttribute(attr.name, attr.value) });\n",
       "      newScript.appendChild(document.createTextNode(oldScript.innerHTML));\n",
       "      oldScript.parentNode.replaceChild(newScript, oldScript);\n",
       "    });\n",
       "    if (JS_MIME_TYPE in output.data) {\n",
       "      toinsert[nchildren-1].children[1].textContent = output.data[JS_MIME_TYPE];\n",
       "    }\n",
       "    output_area._hv_plot_id = id;\n",
       "    if ((window.Bokeh !== undefined) && (id in Bokeh.index)) {\n",
       "      window.PyViz.plot_index[id] = Bokeh.index[id];\n",
       "    } else {\n",
       "      window.PyViz.plot_index[id] = null;\n",
       "    }\n",
       "  } else if (output.metadata[EXEC_MIME_TYPE][\"server_id\"] !== undefined) {\n",
       "    var bk_div = document.createElement(\"div\");\n",
       "    bk_div.innerHTML = output.data[HTML_MIME_TYPE];\n",
       "    var script_attrs = bk_div.children[0].attributes;\n",
       "    for (var i = 0; i < script_attrs.length; i++) {\n",
       "      toinsert[toinsert.length - 1].childNodes[1].setAttribute(script_attrs[i].name, script_attrs[i].value);\n",
       "    }\n",
       "    // store reference to server id on output_area\n",
       "    output_area._bokeh_server_id = output.metadata[EXEC_MIME_TYPE][\"server_id\"];\n",
       "  }\n",
       "}\n",
       "\n",
       "/**\n",
       " * Handle when an output is cleared or removed\n",
       " */\n",
       "function handle_clear_output(event, handle) {\n",
       "  var id = handle.cell.output_area._hv_plot_id;\n",
       "  var server_id = handle.cell.output_area._bokeh_server_id;\n",
       "  if (((id === undefined) || !(id in PyViz.plot_index)) && (server_id !== undefined)) { return; }\n",
       "  var comm = window.PyViz.comm_manager.get_client_comm(\"hv-extension-comm\", \"hv-extension-comm\", function () {});\n",
       "  if (server_id !== null) {\n",
       "    comm.send({event_type: 'server_delete', 'id': server_id});\n",
       "    return;\n",
       "  } else if (comm !== null) {\n",
       "    comm.send({event_type: 'delete', 'id': id});\n",
       "  }\n",
       "  delete PyViz.plot_index[id];\n",
       "  if ((window.Bokeh !== undefined) & (id in window.Bokeh.index)) {\n",
       "    var doc = window.Bokeh.index[id].model.document\n",
       "    doc.clear();\n",
       "    const i = window.Bokeh.documents.indexOf(doc);\n",
       "    if (i > -1) {\n",
       "      window.Bokeh.documents.splice(i, 1);\n",
       "    }\n",
       "  }\n",
       "}\n",
       "\n",
       "/**\n",
       " * Handle kernel restart event\n",
       " */\n",
       "function handle_kernel_cleanup(event, handle) {\n",
       "  delete PyViz.comms[\"hv-extension-comm\"];\n",
       "  window.PyViz.plot_index = {}\n",
       "}\n",
       "\n",
       "/**\n",
       " * Handle update_display_data messages\n",
       " */\n",
       "function handle_update_output(event, handle) {\n",
       "  handle_clear_output(event, {cell: {output_area: handle.output_area}})\n",
       "  handle_add_output(event, handle)\n",
       "}\n",
       "\n",
       "function register_renderer(events, OutputArea) {\n",
       "  function append_mime(data, metadata, element) {\n",
       "    // create a DOM node to render to\n",
       "    var toinsert = this.create_output_subarea(\n",
       "    metadata,\n",
       "    CLASS_NAME,\n",
       "    EXEC_MIME_TYPE\n",
       "    );\n",
       "    this.keyboard_manager.register_events(toinsert);\n",
       "    // Render to node\n",
       "    var props = {data: data, metadata: metadata[EXEC_MIME_TYPE]};\n",
       "    render(props, toinsert[0]);\n",
       "    element.append(toinsert);\n",
       "    return toinsert\n",
       "  }\n",
       "\n",
       "  events.on('output_added.OutputArea', handle_add_output);\n",
       "  events.on('output_updated.OutputArea', handle_update_output);\n",
       "  events.on('clear_output.CodeCell', handle_clear_output);\n",
       "  events.on('delete.Cell', handle_clear_output);\n",
       "  events.on('kernel_ready.Kernel', handle_kernel_cleanup);\n",
       "\n",
       "  OutputArea.prototype.register_mime_type(EXEC_MIME_TYPE, append_mime, {\n",
       "    safe: true,\n",
       "    index: 0\n",
       "  });\n",
       "}\n",
       "\n",
       "if (window.Jupyter !== undefined) {\n",
       "  try {\n",
       "    var events = require('base/js/events');\n",
       "    var OutputArea = require('notebook/js/outputarea').OutputArea;\n",
       "    if (OutputArea.prototype.mime_types().indexOf(EXEC_MIME_TYPE) == -1) {\n",
       "      register_renderer(events, OutputArea);\n",
       "    }\n",
       "  } catch(err) {\n",
       "  }\n",
       "}\n"
      ],
      "application/vnd.holoviews_load.v0+json": "\nif ((window.PyViz === undefined) || (window.PyViz instanceof HTMLElement)) {\n  window.PyViz = {comms: {}, comm_status:{}, kernels:{}, receivers: {}, plot_index: []}\n}\n\n\n    function JupyterCommManager() {\n    }\n\n    JupyterCommManager.prototype.register_target = function(plot_id, comm_id, msg_handler) {\n      if (window.comm_manager || ((window.Jupyter !== undefined) && (Jupyter.notebook.kernel != null))) {\n        var comm_manager = window.comm_manager || Jupyter.notebook.kernel.comm_manager;\n        comm_manager.register_target(comm_id, function(comm) {\n          comm.on_msg(msg_handler);\n        });\n      } else if ((plot_id in window.PyViz.kernels) && (window.PyViz.kernels[plot_id])) {\n        window.PyViz.kernels[plot_id].registerCommTarget(comm_id, function(comm) {\n          comm.onMsg = msg_handler;\n        });\n      } else if (typeof google != 'undefined' && google.colab.kernel != null) {\n        google.colab.kernel.comms.registerTarget(comm_id, (comm) => {\n          var messages = comm.messages[Symbol.asyncIterator]();\n          function processIteratorResult(result) {\n            var message = result.value;\n            console.log(message)\n            var content = {data: message.data, comm_id};\n            var buffers = []\n            for (var buffer of message.buffers || []) {\n              buffers.push(new DataView(buffer))\n            }\n            var metadata = message.metadata || {};\n            var msg = {content, buffers, metadata}\n            msg_handler(msg);\n            return messages.next().then(processIteratorResult);\n          }\n          return messages.next().then(processIteratorResult);\n        })\n      }\n    }\n\n    JupyterCommManager.prototype.get_client_comm = function(plot_id, comm_id, msg_handler) {\n      if (comm_id in window.PyViz.comms) {\n        return window.PyViz.comms[comm_id];\n      } else if (window.comm_manager || ((window.Jupyter !== undefined) && (Jupyter.notebook.kernel != null))) {\n        var comm_manager = window.comm_manager || Jupyter.notebook.kernel.comm_manager;\n        var comm = comm_manager.new_comm(comm_id, {}, {}, {}, comm_id);\n        if (msg_handler) {\n          comm.on_msg(msg_handler);\n        }\n      } else if ((plot_id in window.PyViz.kernels) && (window.PyViz.kernels[plot_id])) {\n        var comm = window.PyViz.kernels[plot_id].connectToComm(comm_id);\n        comm.open();\n        if (msg_handler) {\n          comm.onMsg = msg_handler;\n        }\n      } else if (typeof google != 'undefined' && google.colab.kernel != null) {\n        var comm_promise = google.colab.kernel.comms.open(comm_id)\n        comm_promise.then((comm) => {\n          window.PyViz.comms[comm_id] = comm;\n          if (msg_handler) {\n            var messages = comm.messages[Symbol.asyncIterator]();\n            function processIteratorResult(result) {\n              var message = result.value;\n              var content = {data: message.data};\n              var metadata = message.metadata || {comm_id};\n              var msg = {content, metadata}\n              msg_handler(msg);\n              return messages.next().then(processIteratorResult);\n            }\n            return messages.next().then(processIteratorResult);\n          }\n        }) \n        var sendClosure = (data, metadata, buffers, disposeOnDone) => {\n          return comm_promise.then((comm) => {\n            comm.send(data, metadata, buffers, disposeOnDone);\n          });\n        };\n        var comm = {\n          send: sendClosure\n        };\n      }\n      window.PyViz.comms[comm_id] = comm;\n      return comm;\n    }\n    window.PyViz.comm_manager = new JupyterCommManager();\n    \n\n\nvar JS_MIME_TYPE = 'application/javascript';\nvar HTML_MIME_TYPE = 'text/html';\nvar EXEC_MIME_TYPE = 'application/vnd.holoviews_exec.v0+json';\nvar CLASS_NAME = 'output';\n\n/**\n * Render data to the DOM node\n */\nfunction render(props, node) {\n  var div = document.createElement(\"div\");\n  var script = document.createElement(\"script\");\n  node.appendChild(div);\n  node.appendChild(script);\n}\n\n/**\n * Handle when a new output is added\n */\nfunction handle_add_output(event, handle) {\n  var output_area = handle.output_area;\n  var output = handle.output;\n  if ((output.data == undefined) || (!output.data.hasOwnProperty(EXEC_MIME_TYPE))) {\n    return\n  }\n  var id = output.metadata[EXEC_MIME_TYPE][\"id\"];\n  var toinsert = output_area.element.find(\".\" + CLASS_NAME.split(' ')[0]);\n  if (id !== undefined) {\n    var nchildren = toinsert.length;\n    var html_node = toinsert[nchildren-1].children[0];\n    html_node.innerHTML = output.data[HTML_MIME_TYPE];\n    var scripts = [];\n    var nodelist = html_node.querySelectorAll(\"script\");\n    for (var i in nodelist) {\n      if (nodelist.hasOwnProperty(i)) {\n        scripts.push(nodelist[i])\n      }\n    }\n\n    scripts.forEach( function (oldScript) {\n      var newScript = document.createElement(\"script\");\n      var attrs = [];\n      var nodemap = oldScript.attributes;\n      for (var j in nodemap) {\n        if (nodemap.hasOwnProperty(j)) {\n          attrs.push(nodemap[j])\n        }\n      }\n      attrs.forEach(function(attr) { newScript.setAttribute(attr.name, attr.value) });\n      newScript.appendChild(document.createTextNode(oldScript.innerHTML));\n      oldScript.parentNode.replaceChild(newScript, oldScript);\n    });\n    if (JS_MIME_TYPE in output.data) {\n      toinsert[nchildren-1].children[1].textContent = output.data[JS_MIME_TYPE];\n    }\n    output_area._hv_plot_id = id;\n    if ((window.Bokeh !== undefined) && (id in Bokeh.index)) {\n      window.PyViz.plot_index[id] = Bokeh.index[id];\n    } else {\n      window.PyViz.plot_index[id] = null;\n    }\n  } else if (output.metadata[EXEC_MIME_TYPE][\"server_id\"] !== undefined) {\n    var bk_div = document.createElement(\"div\");\n    bk_div.innerHTML = output.data[HTML_MIME_TYPE];\n    var script_attrs = bk_div.children[0].attributes;\n    for (var i = 0; i < script_attrs.length; i++) {\n      toinsert[toinsert.length - 1].childNodes[1].setAttribute(script_attrs[i].name, script_attrs[i].value);\n    }\n    // store reference to server id on output_area\n    output_area._bokeh_server_id = output.metadata[EXEC_MIME_TYPE][\"server_id\"];\n  }\n}\n\n/**\n * Handle when an output is cleared or removed\n */\nfunction handle_clear_output(event, handle) {\n  var id = handle.cell.output_area._hv_plot_id;\n  var server_id = handle.cell.output_area._bokeh_server_id;\n  if (((id === undefined) || !(id in PyViz.plot_index)) && (server_id !== undefined)) { return; }\n  var comm = window.PyViz.comm_manager.get_client_comm(\"hv-extension-comm\", \"hv-extension-comm\", function () {});\n  if (server_id !== null) {\n    comm.send({event_type: 'server_delete', 'id': server_id});\n    return;\n  } else if (comm !== null) {\n    comm.send({event_type: 'delete', 'id': id});\n  }\n  delete PyViz.plot_index[id];\n  if ((window.Bokeh !== undefined) & (id in window.Bokeh.index)) {\n    var doc = window.Bokeh.index[id].model.document\n    doc.clear();\n    const i = window.Bokeh.documents.indexOf(doc);\n    if (i > -1) {\n      window.Bokeh.documents.splice(i, 1);\n    }\n  }\n}\n\n/**\n * Handle kernel restart event\n */\nfunction handle_kernel_cleanup(event, handle) {\n  delete PyViz.comms[\"hv-extension-comm\"];\n  window.PyViz.plot_index = {}\n}\n\n/**\n * Handle update_display_data messages\n */\nfunction handle_update_output(event, handle) {\n  handle_clear_output(event, {cell: {output_area: handle.output_area}})\n  handle_add_output(event, handle)\n}\n\nfunction register_renderer(events, OutputArea) {\n  function append_mime(data, metadata, element) {\n    // create a DOM node to render to\n    var toinsert = this.create_output_subarea(\n    metadata,\n    CLASS_NAME,\n    EXEC_MIME_TYPE\n    );\n    this.keyboard_manager.register_events(toinsert);\n    // Render to node\n    var props = {data: data, metadata: metadata[EXEC_MIME_TYPE]};\n    render(props, toinsert[0]);\n    element.append(toinsert);\n    return toinsert\n  }\n\n  events.on('output_added.OutputArea', handle_add_output);\n  events.on('output_updated.OutputArea', handle_update_output);\n  events.on('clear_output.CodeCell', handle_clear_output);\n  events.on('delete.Cell', handle_clear_output);\n  events.on('kernel_ready.Kernel', handle_kernel_cleanup);\n\n  OutputArea.prototype.register_mime_type(EXEC_MIME_TYPE, append_mime, {\n    safe: true,\n    index: 0\n  });\n}\n\nif (window.Jupyter !== undefined) {\n  try {\n    var events = require('base/js/events');\n    var OutputArea = require('notebook/js/outputarea').OutputArea;\n    if (OutputArea.prototype.mime_types().indexOf(EXEC_MIME_TYPE) == -1) {\n      register_renderer(events, OutputArea);\n    }\n  } catch(err) {\n  }\n}\n"
     },
     "metadata": {},
     "output_type": "display_data"
    },
    {
     "data": {},
     "metadata": {},
     "output_type": "display_data"
    },
    {
     "data": {
      "application/vnd.holoviews_exec.v0+json": "",
      "text/html": [
       "<div id='1031'>\n",
       "\n",
       "\n",
       "\n",
       "\n",
       "\n",
       "  <div class=\"bk-root\" id=\"70dfa290-b061-4e22-a018-47bc9a0dc872\" data-root-id=\"1031\"></div>\n",
       "</div>\n",
       "<script type=\"application/javascript\">(function(root) {\n",
       "  function embed_document(root) {\n",
       "    var docs_json = {\"2b28e00f-4a8d-4240-9b00-74c55948e087\":{\"roots\":{\"references\":[{\"attributes\":{},\"id\":\"1012\",\"type\":\"BasicTicker\"},{\"attributes\":{},\"id\":\"1005\",\"type\":\"DataRange1d\"},{\"attributes\":{},\"id\":\"1016\",\"type\":\"BasicTicker\"},{\"attributes\":{},\"id\":\"1009\",\"type\":\"LinearScale\"},{\"attributes\":{\"line_alpha\":0.1,\"line_color\":\"#1f77b4\",\"x\":{\"field\":\"x\"},\"y\":{\"field\":\"y\"}},\"id\":\"1028\",\"type\":\"Line\"},{\"attributes\":{\"active_drag\":{\"id\":\"1019\"},\"active_inspect\":\"auto\",\"active_multi\":null,\"active_scroll\":{\"id\":\"1020\"},\"active_tap\":\"auto\",\"tools\":[{\"id\":\"1019\"},{\"id\":\"1020\"},{\"id\":\"1021\"}]},\"id\":\"1022\",\"type\":\"Toolbar\"},{\"attributes\":{},\"id\":\"1003\",\"type\":\"DataRange1d\"},{\"attributes\":{\"css_classes\":[\"card-title\"],\"margin\":[2,5,2,5],\"name\":\"HTML00013\",\"sizing_mode\":\"stretch_width\",\"text\":\"x\"},\"id\":\"1033\",\"type\":\"panel.models.markup.HTML\"},{\"attributes\":{\"formatter\":{\"id\":\"1037\"},\"ticker\":{\"id\":\"1012\"}},\"id\":\"1011\",\"type\":\"LinearAxis\"},{\"attributes\":{\"source\":{\"id\":\"1001\"}},\"id\":\"1030\",\"type\":\"CDSView\"},{\"attributes\":{},\"id\":\"1041\",\"type\":\"Selection\"},{\"attributes\":{\"active_header_background\":\"\",\"button_css_classes\":[\"card-button\"],\"children\":[{\"id\":\"1032\"},{\"id\":\"1002\"},{\"id\":\"1050\"}],\"collapsed\":false,\"css_classes\":[\"card\"],\"header_background\":\"\",\"header_color\":\"\",\"header_css_classes\":[\"card-header\"],\"margin\":[5,5,5,5],\"name\":\"Card00012\",\"sizing_mode\":\"stretch_both\",\"width\":400},\"id\":\"1031\",\"type\":\"panel.models.layout.Card\"},{\"attributes\":{\"axis\":{\"id\":\"1015\"},\"dimension\":1,\"ticker\":null},\"id\":\"1018\",\"type\":\"Grid\"},{\"attributes\":{},\"id\":\"1007\",\"type\":\"LinearScale\"},{\"attributes\":{\"end\":3649,\"format\":\"0[.]00\",\"margin\":[5,10,5,10],\"sizing_mode\":\"scale_width\",\"start\":0,\"value\":[0,3649],\"value_throttled\":[0,3649],\"width\":400},\"id\":\"1050\",\"type\":\"RangeSlider\"},{\"attributes\":{},\"id\":\"1019\",\"type\":\"PanTool\"},{\"attributes\":{},\"id\":\"1020\",\"type\":\"WheelZoomTool\"},{\"attributes\":{},\"id\":\"1040\",\"type\":\"UnionRenderers\"},{\"attributes\":{},\"id\":\"1039\",\"type\":\"BasicTickFormatter\"},{\"attributes\":{\"formatter\":{\"id\":\"1039\"},\"ticker\":{\"id\":\"1016\"}},\"id\":\"1015\",\"type\":\"LinearAxis\"},{\"attributes\":{},\"id\":\"1037\",\"type\":\"BasicTickFormatter\"},{\"attributes\":{\"client_comm_id\":\"d112267dcafd4a1888dc02a0c76333f1\",\"comm_id\":\"e4b3c95c5bf64f42926b860332032484\",\"plot_id\":\"1031\"},\"id\":\"1075\",\"type\":\"panel.models.comm_manager.CommManager\"},{\"attributes\":{\"below\":[{\"id\":\"1011\"}],\"center\":[{\"id\":\"1014\"},{\"id\":\"1018\"}],\"left\":[{\"id\":\"1015\"}],\"renderers\":[{\"id\":\"1029\"}],\"subscribed_events\":[\"reset\"],\"title\":{\"id\":\"1035\"},\"toolbar\":{\"id\":\"1022\"},\"x_range\":{\"id\":\"1003\"},\"x_scale\":{\"id\":\"1007\"},\"y_range\":{\"id\":\"1005\"},\"y_scale\":{\"id\":\"1009\"}},\"id\":\"1002\",\"subtype\":\"Figure\",\"type\":\"Plot\"},{\"attributes\":{\"data_source\":{\"id\":\"1001\"},\"glyph\":{\"id\":\"1027\"},\"hover_glyph\":null,\"muted_glyph\":null,\"nonselection_glyph\":{\"id\":\"1028\"},\"selection_glyph\":null,\"view\":{\"id\":\"1030\"}},\"id\":\"1029\",\"type\":\"GlyphRenderer\"},{\"attributes\":{\"text\":\"\"},\"id\":\"1035\",\"type\":\"Title\"},{\"attributes\":{\"reload\":false},\"id\":\"1100\",\"type\":\"panel.models.location.Location\"},{\"attributes\":{\"data\":{\"x\":{\"__ndarray__\":\"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\",\"dtype\":\"float64\",\"order\":\"little\",\"shape\":[3650]},\"y\":{\"__ndarray__\":\"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\",\"dtype\":\"float64\",\"order\":\"little\",\"shape\":[3650]}},\"selected\":{\"id\":\"1041\"},\"selection_policy\":{\"id\":\"1040\"}},\"id\":\"1001\",\"type\":\"ColumnDataSource\"},{\"attributes\":{\"line_color\":\"#1f77b4\",\"x\":{\"field\":\"x\"},\"y\":{\"field\":\"y\"}},\"id\":\"1027\",\"type\":\"Line\"},{\"attributes\":{\"children\":[{\"id\":\"1033\"}],\"css_classes\":[\"card-header-row\"],\"margin\":[0,0,0,0],\"name\":\"Row00011\",\"sizing_mode\":\"stretch_width\"},\"id\":\"1032\",\"type\":\"Row\"},{\"attributes\":{},\"id\":\"1021\",\"type\":\"ResetTool\"},{\"attributes\":{\"axis\":{\"id\":\"1011\"},\"ticker\":null},\"id\":\"1014\",\"type\":\"Grid\"}],\"root_ids\":[\"1031\",\"1075\",\"1100\"]},\"title\":\"Bokeh Application\",\"version\":\"2.2.3\"}};\n",
       "    var render_items = [{\"docid\":\"2b28e00f-4a8d-4240-9b00-74c55948e087\",\"root_ids\":[\"1031\"],\"roots\":{\"1031\":\"70dfa290-b061-4e22-a018-47bc9a0dc872\"}}];\n",
       "    root.Bokeh.embed.embed_items_notebook(docs_json, render_items);\n",
       "  }\n",
       "  if (root.Bokeh !== undefined && root.Bokeh.Panel !== undefined && root['deck'] !== undefined ) {\n",
       "    embed_document(root);\n",
       "  } else {\n",
       "    var attempts = 0;\n",
       "    var timer = setInterval(function(root) {\n",
       "      if (root.Bokeh !== undefined && root.Bokeh.Panel !== undefined && root['deck'] !== undefined) {\n",
       "        clearInterval(timer);\n",
       "        embed_document(root);\n",
       "      } else if (document.readyState == \"complete\") {\n",
       "        attempts++;\n",
       "        if (attempts > 100) {\n",
       "          clearInterval(timer);\n",
       "          console.log(\"Bokeh: ERROR: Unable to run BokehJS code because BokehJS library is missing\");\n",
       "        }\n",
       "      }\n",
       "    }, 10, root)\n",
       "  }\n",
       "})(window);</script>"
      ],
      "text/plain": [
       "Card(sizing_mode='stretch_both', title='x', width=400)\n",
       "    [0] Bokeh(Figure)\n",
       "    [1] RangeSlider(end=3649, sizing_mode='scale_width', step=1, value=(0, 3649), value_throttled=(0, 3649), width=400)"
      ]
     },
     "execution_count": 9,
     "metadata": {
      "application/vnd.holoviews_exec.v0+json": {
       "id": "1031"
      }
     },
     "output_type": "execute_result"
    }
   ],
   "source": [
    "demo_red_blue_palette = [ \"#3182bd\", \"#6baed6\", \"#7b8ed8\", \"#e26798\", \"#ff0068\" , \"#323232\" ]\n",
    "\n",
    "cux_df = DataFrame.from_dataframe(reshaped_df)\n",
    "\n",
    "line_chart_1 = line(x='x',y='y')\n",
    "\n",
    "d = cux_df.dashboard([line_chart_1], title=\"\")\n",
    "line_chart_1.view()"
   ]
  },
  {
   "cell_type": "markdown",
   "metadata": {},
   "source": [
    "The raw signal seems to have multiple components, yet it's noisy, and it's not straightforward to detect any outliers."
   ]
  },
  {
   "cell_type": "markdown",
   "metadata": {},
   "source": [
    "#### Transfer the data to the Frequency domain"
   ]
  },
  {
   "cell_type": "markdown",
   "metadata": {},
   "source": [
    "There is a very efficient algorithm to calculate the DFT called FFT. We quote from -MULGREW, 1997, DSP- \"The FFT is based on the observation that there are many symmetries in the DFT matrix and that many multiplications were being needlessly repeated.\"  The equation changes into: "
   ]
  },
  {
   "cell_type": "markdown",
   "metadata": {},
   "source": [
    "$\\begin{aligned} X(k) &=\\sum_{n=0}^{N-1} x(n) W_{M}^{k n}, \\quad k=0,1, \\ldots, N-1 \\\\ &=\\sum_{n \\text { even }} x(n) W_{N}^{k n}+\\sum_{n \\text { odd }} x(n) W_{M}^{k x} \\\\ &=\\sum_{m=0}^{(M / 2)-1} x(2 m) W_{M}^{2 m k}+\\sum_{m=0}^{(M / 2)-1} x(2 m+1) W_{M}^{k(2 m+1)} \\end{aligned}$"
   ]
  },
  {
   "cell_type": "markdown",
   "metadata": {},
   "source": [
    "Because we are computing the one dimensional discrete Fourier Transform of a real-valued signal, we can use a function called `rfft` in CuPy "
   ]
  },
  {
   "cell_type": "code",
   "execution_count": 10,
   "metadata": {},
   "outputs": [],
   "source": [
    "rft= cp.fft.rfft(a)"
   ]
  },
  {
   "cell_type": "markdown",
   "metadata": {},
   "source": [
    "Setting the first 15 frequencies to zero was enough to clean our signal when we applied the inverse the Fast Fourier Transform. This number needs to be adjusted with other datasets."
   ]
  },
  {
   "cell_type": "code",
   "execution_count": 11,
   "metadata": {},
   "outputs": [],
   "source": [
    "freq_num=15"
   ]
  },
  {
   "cell_type": "code",
   "execution_count": 12,
   "metadata": {},
   "outputs": [],
   "source": [
    "rft[freq_num:] = 0\n",
    "y_smooth = cp.fft.irfft(rft)"
   ]
  },
  {
   "cell_type": "code",
   "execution_count": 13,
   "metadata": {},
   "outputs": [
    {
     "data": {
      "text/plain": [
       "array([16.13184904, 16.15809865, 16.18304895, ..., 16.04538145,\n",
       "       16.07548236, 16.10430765])"
      ]
     },
     "execution_count": 13,
     "metadata": {},
     "output_type": "execute_result"
    }
   ],
   "source": [
    "y_smooth"
   ]
  },
  {
   "cell_type": "code",
   "execution_count": 14,
   "metadata": {
    "scrolled": true
   },
   "outputs": [
    {
     "data": {
      "text/plain": [
       "[<matplotlib.lines.Line2D at 0x7ff8b2146710>]"
      ]
     },
     "execution_count": 14,
     "metadata": {},
     "output_type": "execute_result"
    },
    {
     "data": {
      "image/png": "[encoded data removed]",
      "text/plain": [
       "<Figure size 432x288 with 1 Axes>"
      ]
     },
     "metadata": {
      "needs_background": "light"
     },
     "output_type": "display_data"
    }
   ],
   "source": [
    "pyplot.plot(cp.asnumpy(y_smooth))"
   ]
  },
  {
   "cell_type": "markdown",
   "metadata": {},
   "source": [
    "We can also now visualize our data using the `cuxfilter` library."
   ]
  },
  {
   "cell_type": "code",
   "execution_count": 15,
   "metadata": {},
   "outputs": [
    {
     "name": "stdout",
     "output_type": "stream",
     "text": [
      "      index          0\n",
      "0         0  16.131849\n",
      "1         1  16.158099\n",
      "2         2  16.183049\n",
      "3         3  16.206693\n",
      "4         4  16.229024\n",
      "...     ...        ...\n",
      "3645   3645  15.981388\n",
      "3646   3646  16.014014\n",
      "3647   3647  16.045381\n",
      "3648   3648  16.075482\n",
      "3649   3649  16.104308\n",
      "\n",
      "[3650 rows x 2 columns]\n"
     ]
    }
   ],
   "source": [
    "reshaped_df = cudf.DataFrame(y_smooth)\n",
    "reshaped_df = reshaped_df.reset_index()\n",
    "print(reshaped_df)"
   ]
  },
  {
   "cell_type": "code",
   "execution_count": 16,
   "metadata": {},
   "outputs": [
    {
     "name": "stdout",
     "output_type": "stream",
     "text": [
      "         x          y\n",
      "0        0  16.131849\n",
      "1        1  16.158099\n",
      "2        2  16.183049\n",
      "3        3  16.206693\n",
      "4        4  16.229024\n",
      "...    ...        ...\n",
      "3645  3645  15.981388\n",
      "3646  3646  16.014014\n",
      "3647  3647  16.045381\n",
      "3648  3648  16.075482\n",
      "3649  3649  16.104308\n",
      "\n",
      "[3650 rows x 2 columns]\n"
     ]
    }
   ],
   "source": [
    "reshaped_df.columns =['x' , 'y']\n",
    "print(reshaped_df)"
   ]
  },
  {
   "cell_type": "code",
   "execution_count": 17,
   "metadata": {},
   "outputs": [
    {
     "data": {
      "application/javascript": [
       "\n",
       "(function(root) {\n",
       "  function now() {\n",
       "    return new Date();\n",
       "  }\n",
       "\n",
       "  var force = true;\n",
       "\n",
       "  if (typeof root._bokeh_onload_callbacks === \"undefined\" || force === true) {\n",
       "    root._bokeh_onload_callbacks = [];\n",
       "    root._bokeh_is_loading = undefined;\n",
       "  }\n",
       "\n",
       "  if (typeof (root._bokeh_timeout) === \"undefined\" || force === true) {\n",
       "    root._bokeh_timeout = Date.now() + 5000;\n",
       "    root._bokeh_failed_load = false;\n",
       "  }\n",
       "\n",
       "  function run_callbacks() {\n",
       "    try {\n",
       "      root._bokeh_onload_callbacks.forEach(function(callback) {\n",
       "        if (callback != null)\n",
       "          callback();\n",
       "      });\n",
       "    } finally {\n",
       "      delete root._bokeh_onload_callbacks\n",
       "    }\n",
       "    console.debug(\"Bokeh: all callbacks have finished\");\n",
       "  }\n",
       "\n",
       "  function load_libs(css_urls, js_urls, callback) {\n",
       "    if (css_urls == null) css_urls = [];\n",
       "    if (js_urls == null) js_urls = [];\n",
       "\n",
       "    root._bokeh_onload_callbacks.push(callback);\n",
       "    if (root._bokeh_is_loading > 0) {\n",
       "      console.debug(\"Bokeh: BokehJS is being loaded, scheduling callback at\", now());\n",
       "      return null;\n",
       "    }\n",
       "    if (js_urls == null || js_urls.length === 0) {\n",
       "      run_callbacks();\n",
       "      return null;\n",
       "    }\n",
       "    console.debug(\"Bokeh: BokehJS not loaded, scheduling load and callback at\", now());\n",
       "    root._bokeh_is_loading = css_urls.length + js_urls.length;\n",
       "\n",
       "    function on_load() {\n",
       "      root._bokeh_is_loading--;\n",
       "      if (root._bokeh_is_loading === 0) {\n",
       "        console.debug(\"Bokeh: all BokehJS libraries/stylesheets loaded\");\n",
       "        run_callbacks()\n",
       "      }\n",
       "    }\n",
       "\n",
       "    function on_error() {\n",
       "      console.error(\"failed to load \" + url);\n",
       "    }\n",
       "\n",
       "    for (var i = 0; i < css_urls.length; i++) {\n",
       "      var url = css_urls[i];\n",
       "      const element = document.createElement(\"link\");\n",
       "      element.onload = on_load;\n",
       "      element.onerror = on_error;\n",
       "      element.rel = \"stylesheet\";\n",
       "      element.type = \"text/css\";\n",
       "      element.href = url;\n",
       "      console.debug(\"Bokeh: injecting link tag for BokehJS stylesheet: \", url);\n",
       "      document.body.appendChild(element);\n",
       "    }\n",
       "\n",
       "    var skip = [];\n",
       "    if (window.requirejs) {\n",
       "      window.requirejs.config({'paths': {'deck.gl': 'https://cdn.jsdelivr.net/npm/@deck.gl/jupyter-widget@^8.1.2/dist/index', 'mapbox-gl': 'https://cdn.jsdelivr.net/npm/mapbox-gl@1.7.0/dist/mapbox-gl.min'}});\n",
       "      require([], function() {\n",
       "      })\n",
       "    }\n",
       "    if (((window['deck'] !== undefined) && (!(window['deck'] instanceof HTMLElement))) || window.requirejs) {\n",
       "      var urls = ['https://cdn.jsdelivr.net/npm/deck.gl@8.1.12/dist.min.js', 'https://cdn.jsdelivr.net/npm/@deck.gl/json@8.1.12/dist.min.js', 'https://cdn.jsdelivr.net/npm/@loaders.gl/csv@2.0.2/dist/dist.min.js', 'https://cdn.jsdelivr.net/npm/@loaders.gl/json@2.0.2/dist/dist.min.js', 'https://cdn.jsdelivr.net/npm/@loaders.gl/3d-tiles@2.0.2/dist/dist.min.js'];\n",
       "      for (var i = 0; i < urls.length; i++) {\n",
       "        skip.push(urls[i])\n",
       "      }\n",
       "    }\n",
       "    if (((window['mapboxgl'] !== undefined) && (!(window['mapboxgl'] instanceof HTMLElement))) || window.requirejs) {\n",
       "      var urls = ['https://api.mapbox.com/mapbox-gl-js/v1.7.0/mapbox-gl.js'];\n",
       "      for (var i = 0; i < urls.length; i++) {\n",
       "        skip.push(urls[i])\n",
       "      }\n",
       "    }\n",
       "    for (var i = 0; i < js_urls.length; i++) {\n",
       "      var url = js_urls[i];\n",
       "      if (skip.indexOf(url) >= 0) { on_load(); continue; }\n",
       "      var element = document.createElement('script');\n",
       "      element.onload = on_load;\n",
       "      element.onerror = on_error;\n",
       "      element.async = false;\n",
       "      element.src = url;\n",
       "      console.debug(\"Bokeh: injecting script tag for BokehJS library: \", url);\n",
       "      document.head.appendChild(element);\n",
       "    }\n",
       "\tif (!js_urls.length) {\n",
       "      on_load()\n",
       "    }\n",
       "  };\n",
       "\n",
       "  function inject_raw_css(css) {\n",
       "    const element = document.createElement(\"style\");\n",
       "    element.appendChild(document.createTextNode(css));\n",
       "    document.body.appendChild(element);\n",
       "  }\n",
       "\n",
       "  var js_urls = [\"https://cdn.jsdelivr.net/npm/deck.gl@8.1.12/dist.min.js\", \"https://cdn.jsdelivr.net/npm/@deck.gl/json@8.1.12/dist.min.js\", \"https://cdn.jsdelivr.net/npm/@loaders.gl/csv@2.0.2/dist/dist.min.js\", \"https://cdn.jsdelivr.net/npm/@loaders.gl/json@2.0.2/dist/dist.min.js\", \"https://cdn.jsdelivr.net/npm/@loaders.gl/3d-tiles@2.0.2/dist/dist.min.js\", \"https://api.mapbox.com/mapbox-gl-js/v1.7.0/mapbox-gl.js\", \"https://cdn.bokeh.org/bokeh/release/bokeh-2.2.3.min.js\", \"https://cdn.bokeh.org/bokeh/release/bokeh-widgets-2.2.3.min.js\", \"https://cdn.bokeh.org/bokeh/release/bokeh-tables-2.2.3.min.js\", \"https://unpkg.com/@holoviz/panel@^0.10.3/dist/panel.min.js\"];\n",
       "  var css_urls = [\"https://api.mapbox.com/mapbox-gl-js/v1.7.0/mapbox-gl.css\", \"https://unpkg.com/@holoviz/panel@0.10.3/dist/css/alerts.css\", \"https://unpkg.com/@holoviz/panel@0.10.3/dist/css/widgets.css\", \"https://unpkg.com/@holoviz/panel@0.10.3/dist/css/card.css\", \"https://unpkg.com/@holoviz/panel@0.10.3/dist/css/dataframe.css\", \"https://unpkg.com/@holoviz/panel@0.10.3/dist/css/markdown.css\", \"https://unpkg.com/@holoviz/panel@0.10.3/dist/css/json.css\"];\n",
       "\n",
       "  var inline_js = [\n",
       "    function(Bokeh) {\n",
       "      inject_raw_css(\"\\n.dataframe table{\\n  border: none;\\n}\\n\\n.panel-df table{\\n    width: 100%;\\n    border-collapse: collapse;\\n    border: none;\\n}\\n.panel-df td{\\n    white-space: nowrap;\\n    overflow: auto;\\n    text-overflow: ellipsis;\\n}\\n\");\n",
       "    },\n",
       "    function(Bokeh) {\n",
       "      inject_raw_css(\"\\n.multi-select{\\n    color: white;\\n    z-index: 100;\\n    background: rgba(44,43,43,0.5);\\n    border-radius: 1px;\\n    width: 120px !important;\\n    height: 30px !important;\\n}\\n.multi-select > .bk {\\n    padding: 5px;\\n    width: 120px !important;\\n    height: 30px !important;\\n}\\n\\n.deck-chart {\\n    z-index: 10;\\n    position: initial !important;\\n}\\n\");\n",
       "    },\n",
       "    function(Bokeh) {\n",
       "      inject_raw_css(\"\\n        .indicator {\\n            text-align: center;\\n        }\\n        \");\n",
       "    },\n",
       "    function(Bokeh) {\n",
       "      inject_raw_css(\"\\n        .indicator {\\n            text-align: center;\\n        }\\n        \");\n",
       "    },\n",
       "    function(Bokeh) {\n",
       "      Bokeh.set_log_level(\"info\");\n",
       "    },\n",
       "    \n",
       "    function(Bokeh) {\n",
       "      (function(root, factory) {\n",
       "          factory(root[\"Bokeh\"]);\n",
       "      })(this, function(Bokeh) {\n",
       "        var define;\n",
       "        return (function outer(modules, entry) {\n",
       "        if (Bokeh != null) {\n",
       "          return Bokeh.register_plugin(modules, entry);\n",
       "        } else {\n",
       "          throw new Error(\"Cannot find Bokeh. You have to load it prior to loading plugins.\");\n",
       "        }\n",
       "      })\n",
       "      ({\n",
       "        \"custom/main\": function(require, module, exports) {\n",
       "          var models = {\n",
       "            \"CustomInspectTool\": require(\"custom/cuxfilter.charts.datashader.custom_extensions.graph_inspect_widget.custom_inspect_tool\").CustomInspectTool\n",
       "          };\n",
       "          require(\"base\").register_models(models);\n",
       "          module.exports = models;\n",
       "        },\n",
       "        \"custom/cuxfilter.charts.datashader.custom_extensions.graph_inspect_widget.custom_inspect_tool\": function(require, module, exports) {\n",
       "      \"use strict\";\n",
       "      var __importStar = (this && this.__importStar) || function (mod) {\n",
       "          if (mod && mod.__esModule) return mod;\n",
       "          var result = {};\n",
       "          if (mod != null) for (var k in mod) if (Object.hasOwnProperty.call(mod, k)) result[k] = mod[k];\n",
       "          result[\"default\"] = mod;\n",
       "          return result;\n",
       "      };\n",
       "      Object.defineProperty(exports, \"__esModule\", { value: true });\n",
       "      const inspect_tool_1 = require(\"models/tools/inspectors/inspect_tool\");\n",
       "      const p = __importStar(require(\"core/properties\"));\n",
       "      class CustomInspectToolView extends inspect_tool_1.InspectToolView {\n",
       "          connect_signals() {\n",
       "              super.connect_signals();\n",
       "              this.connect(this.model.properties.active.change, () => {\n",
       "                  this.model._active = this.model.properties.active.spec.value;\n",
       "              });\n",
       "          }\n",
       "      }\n",
       "      exports.CustomInspectToolView = CustomInspectToolView;\n",
       "      CustomInspectToolView.__name__ = \"CustomInspectToolView\";\n",
       "      class CustomInspectTool extends inspect_tool_1.InspectTool {\n",
       "          constructor(attrs) {\n",
       "              super(attrs);\n",
       "          }\n",
       "          static init_CustomInspectTool() {\n",
       "              this.prototype.default_view = CustomInspectToolView;\n",
       "              this.define({\n",
       "                  _active: [p.Instance],\n",
       "                  icon: [p.String],\n",
       "                  tool_name: [p.String]\n",
       "              });\n",
       "          }\n",
       "      }\n",
       "      exports.CustomInspectTool = CustomInspectTool;\n",
       "      CustomInspectTool.__name__ = \"CustomInspectTool\";\n",
       "      CustomInspectTool.init_CustomInspectTool();\n",
       "      //# sourceMappingURL=graph_inspect_widget.py:CustomInspectTool.js.map\n",
       "      }\n",
       "      }, \"custom/main\");\n",
       "      ;\n",
       "      });\n",
       "\n",
       "    },\n",
       "    function(Bokeh) {} // ensure no trailing comma for IE\n",
       "  ];\n",
       "\n",
       "  function run_inline_js() {\n",
       "    if ((root.Bokeh !== undefined) || (force === true)) {\n",
       "      for (var i = 0; i < inline_js.length; i++) {\n",
       "        inline_js[i].call(root, root.Bokeh);\n",
       "      }} else if (Date.now() < root._bokeh_timeout) {\n",
       "      setTimeout(run_inline_js, 100);\n",
       "    } else if (!root._bokeh_failed_load) {\n",
       "      console.log(\"Bokeh: BokehJS failed to load within specified timeout.\");\n",
       "      root._bokeh_failed_load = true;\n",
       "    }\n",
       "  }\n",
       "\n",
       "  if (root._bokeh_is_loading === 0) {\n",
       "    console.debug(\"Bokeh: BokehJS loaded, going straight to plotting\");\n",
       "    run_inline_js();\n",
       "  } else {\n",
       "    load_libs(css_urls, js_urls, function() {\n",
       "      console.debug(\"Bokeh: BokehJS plotting callback run at\", now());\n",
       "      run_inline_js();\n",
       "    });\n",
       "  }\n",
       "}(window));"
      ],
      "application/vnd.holoviews_load.v0+json": "\n(function(root) {\n  function now() {\n    return new Date();\n  }\n\n  var force = true;\n\n  if (typeof root._bokeh_onload_callbacks === \"undefined\" || force === true) {\n    root._bokeh_onload_callbacks = [];\n    root._bokeh_is_loading = undefined;\n  }\n\n  if (typeof (root._bokeh_timeout) === \"undefined\" || force === true) {\n    root._bokeh_timeout = Date.now() + 5000;\n    root._bokeh_failed_load = false;\n  }\n\n  function run_callbacks() {\n    try {\n      root._bokeh_onload_callbacks.forEach(function(callback) {\n        if (callback != null)\n          callback();\n      });\n    } finally {\n      delete root._bokeh_onload_callbacks\n    }\n    console.debug(\"Bokeh: all callbacks have finished\");\n  }\n\n  function load_libs(css_urls, js_urls, callback) {\n    if (css_urls == null) css_urls = [];\n    if (js_urls == null) js_urls = [];\n\n    root._bokeh_onload_callbacks.push(callback);\n    if (root._bokeh_is_loading > 0) {\n      console.debug(\"Bokeh: BokehJS is being loaded, scheduling callback at\", now());\n      return null;\n    }\n    if (js_urls == null || js_urls.length === 0) {\n      run_callbacks();\n      return null;\n    }\n    console.debug(\"Bokeh: BokehJS not loaded, scheduling load and callback at\", now());\n    root._bokeh_is_loading = css_urls.length + js_urls.length;\n\n    function on_load() {\n      root._bokeh_is_loading--;\n      if (root._bokeh_is_loading === 0) {\n        console.debug(\"Bokeh: all BokehJS libraries/stylesheets loaded\");\n        run_callbacks()\n      }\n    }\n\n    function on_error() {\n      console.error(\"failed to load \" + url);\n    }\n\n    for (var i = 0; i < css_urls.length; i++) {\n      var url = css_urls[i];\n      const element = document.createElement(\"link\");\n      element.onload = on_load;\n      element.onerror = on_error;\n      element.rel = \"stylesheet\";\n      element.type = \"text/css\";\n      element.href = url;\n      console.debug(\"Bokeh: injecting link tag for BokehJS stylesheet: \", url);\n      document.body.appendChild(element);\n    }\n\n    var skip = [];\n    if (window.requirejs) {\n      window.requirejs.config({'paths': {'deck.gl': 'https://cdn.jsdelivr.net/npm/@deck.gl/jupyter-widget@^8.1.2/dist/index', 'mapbox-gl': 'https://cdn.jsdelivr.net/npm/mapbox-gl@1.7.0/dist/mapbox-gl.min'}});\n      require([], function() {\n      })\n    }\n    if (((window['deck'] !== undefined) && (!(window['deck'] instanceof HTMLElement))) || window.requirejs) {\n      var urls = ['https://cdn.jsdelivr.net/npm/deck.gl@8.1.12/dist.min.js', 'https://cdn.jsdelivr.net/npm/@deck.gl/json@8.1.12/dist.min.js', 'https://cdn.jsdelivr.net/npm/@loaders.gl/csv@2.0.2/dist/dist.min.js', 'https://cdn.jsdelivr.net/npm/@loaders.gl/json@2.0.2/dist/dist.min.js', 'https://cdn.jsdelivr.net/npm/@loaders.gl/3d-tiles@2.0.2/dist/dist.min.js'];\n      for (var i = 0; i < urls.length; i++) {\n        skip.push(urls[i])\n      }\n    }\n    if (((window['mapboxgl'] !== undefined) && (!(window['mapboxgl'] instanceof HTMLElement))) || window.requirejs) {\n      var urls = ['https://api.mapbox.com/mapbox-gl-js/v1.7.0/mapbox-gl.js'];\n      for (var i = 0; i < urls.length; i++) {\n        skip.push(urls[i])\n      }\n    }\n    for (var i = 0; i < js_urls.length; i++) {\n      var url = js_urls[i];\n      if (skip.indexOf(url) >= 0) { on_load(); continue; }\n      var element = document.createElement('script');\n      element.onload = on_load;\n      element.onerror = on_error;\n      element.async = false;\n      element.src = url;\n      console.debug(\"Bokeh: injecting script tag for BokehJS library: \", url);\n      document.head.appendChild(element);\n    }\n\tif (!js_urls.length) {\n      on_load()\n    }\n  };\n\n  function inject_raw_css(css) {\n    const element = document.createElement(\"style\");\n    element.appendChild(document.createTextNode(css));\n    document.body.appendChild(element);\n  }\n\n  var js_urls = [\"https://cdn.jsdelivr.net/npm/deck.gl@8.1.12/dist.min.js\", \"https://cdn.jsdelivr.net/npm/@deck.gl/json@8.1.12/dist.min.js\", \"https://cdn.jsdelivr.net/npm/@loaders.gl/csv@2.0.2/dist/dist.min.js\", \"https://cdn.jsdelivr.net/npm/@loaders.gl/json@2.0.2/dist/dist.min.js\", \"https://cdn.jsdelivr.net/npm/@loaders.gl/3d-tiles@2.0.2/dist/dist.min.js\", \"https://api.mapbox.com/mapbox-gl-js/v1.7.0/mapbox-gl.js\", \"https://cdn.bokeh.org/bokeh/release/bokeh-2.2.3.min.js\", \"https://cdn.bokeh.org/bokeh/release/bokeh-widgets-2.2.3.min.js\", \"https://cdn.bokeh.org/bokeh/release/bokeh-tables-2.2.3.min.js\", \"https://unpkg.com/@holoviz/panel@^0.10.3/dist/panel.min.js\"];\n  var css_urls = [\"https://api.mapbox.com/mapbox-gl-js/v1.7.0/mapbox-gl.css\", \"https://unpkg.com/@holoviz/panel@0.10.3/dist/css/alerts.css\", \"https://unpkg.com/@holoviz/panel@0.10.3/dist/css/widgets.css\", \"https://unpkg.com/@holoviz/panel@0.10.3/dist/css/card.css\", \"https://unpkg.com/@holoviz/panel@0.10.3/dist/css/dataframe.css\", \"https://unpkg.com/@holoviz/panel@0.10.3/dist/css/markdown.css\", \"https://unpkg.com/@holoviz/panel@0.10.3/dist/css/json.css\"];\n\n  var inline_js = [\n    function(Bokeh) {\n      inject_raw_css(\"\\n.dataframe table{\\n  border: none;\\n}\\n\\n.panel-df table{\\n    width: 100%;\\n    border-collapse: collapse;\\n    border: none;\\n}\\n.panel-df td{\\n    white-space: nowrap;\\n    overflow: auto;\\n    text-overflow: ellipsis;\\n}\\n\");\n    },\n    function(Bokeh) {\n      inject_raw_css(\"\\n.multi-select{\\n    color: white;\\n    z-index: 100;\\n    background: rgba(44,43,43,0.5);\\n    border-radius: 1px;\\n    width: 120px !important;\\n    height: 30px !important;\\n}\\n.multi-select > .bk {\\n    padding: 5px;\\n    width: 120px !important;\\n    height: 30px !important;\\n}\\n\\n.deck-chart {\\n    z-index: 10;\\n    position: initial !important;\\n}\\n\");\n    },\n    function(Bokeh) {\n      inject_raw_css(\"\\n        .indicator {\\n            text-align: center;\\n        }\\n        \");\n    },\n    function(Bokeh) {\n      inject_raw_css(\"\\n        .indicator {\\n            text-align: center;\\n        }\\n        \");\n    },\n    function(Bokeh) {\n      Bokeh.set_log_level(\"info\");\n    },\n    \n    function(Bokeh) {\n      (function(root, factory) {\n          factory(root[\"Bokeh\"]);\n      })(this, function(Bokeh) {\n        var define;\n        return (function outer(modules, entry) {\n        if (Bokeh != null) {\n          return Bokeh.register_plugin(modules, entry);\n        } else {\n          throw new Error(\"Cannot find Bokeh. You have to load it prior to loading plugins.\");\n        }\n      })\n      ({\n        \"custom/main\": function(require, module, exports) {\n          var models = {\n            \"CustomInspectTool\": require(\"custom/cuxfilter.charts.datashader.custom_extensions.graph_inspect_widget.custom_inspect_tool\").CustomInspectTool\n          };\n          require(\"base\").register_models(models);\n          module.exports = models;\n        },\n        \"custom/cuxfilter.charts.datashader.custom_extensions.graph_inspect_widget.custom_inspect_tool\": function(require, module, exports) {\n      \"use strict\";\n      var __importStar = (this && this.__importStar) || function (mod) {\n          if (mod && mod.__esModule) return mod;\n          var result = {};\n          if (mod != null) for (var k in mod) if (Object.hasOwnProperty.call(mod, k)) result[k] = mod[k];\n          result[\"default\"] = mod;\n          return result;\n      };\n      Object.defineProperty(exports, \"__esModule\", { value: true });\n      const inspect_tool_1 = require(\"models/tools/inspectors/inspect_tool\");\n      const p = __importStar(require(\"core/properties\"));\n      class CustomInspectToolView extends inspect_tool_1.InspectToolView {\n          connect_signals() {\n              super.connect_signals();\n              this.connect(this.model.properties.active.change, () => {\n                  this.model._active = this.model.properties.active.spec.value;\n              });\n          }\n      }\n      exports.CustomInspectToolView = CustomInspectToolView;\n      CustomInspectToolView.__name__ = \"CustomInspectToolView\";\n      class CustomInspectTool extends inspect_tool_1.InspectTool {\n          constructor(attrs) {\n              super(attrs);\n          }\n          static init_CustomInspectTool() {\n              this.prototype.default_view = CustomInspectToolView;\n              this.define({\n                  _active: [p.Instance],\n                  icon: [p.String],\n                  tool_name: [p.String]\n              });\n          }\n      }\n      exports.CustomInspectTool = CustomInspectTool;\n      CustomInspectTool.__name__ = \"CustomInspectTool\";\n      CustomInspectTool.init_CustomInspectTool();\n      //# sourceMappingURL=graph_inspect_widget.py:CustomInspectTool.js.map\n      }\n      }, \"custom/main\");\n      ;\n      });\n\n    },\n    function(Bokeh) {} // ensure no trailing comma for IE\n  ];\n\n  function run_inline_js() {\n    if ((root.Bokeh !== undefined) || (force === true)) {\n      for (var i = 0; i < inline_js.length; i++) {\n        inline_js[i].call(root, root.Bokeh);\n      }} else if (Date.now() < root._bokeh_timeout) {\n      setTimeout(run_inline_js, 100);\n    } else if (!root._bokeh_failed_load) {\n      console.log(\"Bokeh: BokehJS failed to load within specified timeout.\");\n      root._bokeh_failed_load = true;\n    }\n  }\n\n  if (root._bokeh_is_loading === 0) {\n    console.debug(\"Bokeh: BokehJS loaded, going straight to plotting\");\n    run_inline_js();\n  } else {\n    load_libs(css_urls, js_urls, function() {\n      console.debug(\"Bokeh: BokehJS plotting callback run at\", now());\n      run_inline_js();\n    });\n  }\n}(window));"
     },
     "metadata": {},
     "output_type": "display_data"
    },
    {
     "data": {
      "application/javascript": [
       "\n",
       "if ((window.PyViz === undefined) || (window.PyViz instanceof HTMLElement)) {\n",
       "  window.PyViz = {comms: {}, comm_status:{}, kernels:{}, receivers: {}, plot_index: []}\n",
       "}\n",
       "\n",
       "\n",
       "    function JupyterCommManager() {\n",
       "    }\n",
       "\n",
       "    JupyterCommManager.prototype.register_target = function(plot_id, comm_id, msg_handler) {\n",
       "      if (window.comm_manager || ((window.Jupyter !== undefined) && (Jupyter.notebook.kernel != null))) {\n",
       "        var comm_manager = window.comm_manager || Jupyter.notebook.kernel.comm_manager;\n",
       "        comm_manager.register_target(comm_id, function(comm) {\n",
       "          comm.on_msg(msg_handler);\n",
       "        });\n",
       "      } else if ((plot_id in window.PyViz.kernels) && (window.PyViz.kernels[plot_id])) {\n",
       "        window.PyViz.kernels[plot_id].registerCommTarget(comm_id, function(comm) {\n",
       "          comm.onMsg = msg_handler;\n",
       "        });\n",
       "      } else if (typeof google != 'undefined' && google.colab.kernel != null) {\n",
       "        google.colab.kernel.comms.registerTarget(comm_id, (comm) => {\n",
       "          var messages = comm.messages[Symbol.asyncIterator]();\n",
       "          function processIteratorResult(result) {\n",
       "            var message = result.value;\n",
       "            console.log(message)\n",
       "            var content = {data: message.data, comm_id};\n",
       "            var buffers = []\n",
       "            for (var buffer of message.buffers || []) {\n",
       "              buffers.push(new DataView(buffer))\n",
       "            }\n",
       "            var metadata = message.metadata || {};\n",
       "            var msg = {content, buffers, metadata}\n",
       "            msg_handler(msg);\n",
       "            return messages.next().then(processIteratorResult);\n",
       "          }\n",
       "          return messages.next().then(processIteratorResult);\n",
       "        })\n",
       "      }\n",
       "    }\n",
       "\n",
       "    JupyterCommManager.prototype.get_client_comm = function(plot_id, comm_id, msg_handler) {\n",
       "      if (comm_id in window.PyViz.comms) {\n",
       "        return window.PyViz.comms[comm_id];\n",
       "      } else if (window.comm_manager || ((window.Jupyter !== undefined) && (Jupyter.notebook.kernel != null))) {\n",
       "        var comm_manager = window.comm_manager || Jupyter.notebook.kernel.comm_manager;\n",
       "        var comm = comm_manager.new_comm(comm_id, {}, {}, {}, comm_id);\n",
       "        if (msg_handler) {\n",
       "          comm.on_msg(msg_handler);\n",
       "        }\n",
       "      } else if ((plot_id in window.PyViz.kernels) && (window.PyViz.kernels[plot_id])) {\n",
       "        var comm = window.PyViz.kernels[plot_id].connectToComm(comm_id);\n",
       "        comm.open();\n",
       "        if (msg_handler) {\n",
       "          comm.onMsg = msg_handler;\n",
       "        }\n",
       "      } else if (typeof google != 'undefined' && google.colab.kernel != null) {\n",
       "        var comm_promise = google.colab.kernel.comms.open(comm_id)\n",
       "        comm_promise.then((comm) => {\n",
       "          window.PyViz.comms[comm_id] = comm;\n",
       "          if (msg_handler) {\n",
       "            var messages = comm.messages[Symbol.asyncIterator]();\n",
       "            function processIteratorResult(result) {\n",
       "              var message = result.value;\n",
       "              var content = {data: message.data};\n",
       "              var metadata = message.metadata || {comm_id};\n",
       "              var msg = {content, metadata}\n",
       "              msg_handler(msg);\n",
       "              return messages.next().then(processIteratorResult);\n",
       "            }\n",
       "            return messages.next().then(processIteratorResult);\n",
       "          }\n",
       "        }) \n",
       "        var sendClosure = (data, metadata, buffers, disposeOnDone) => {\n",
       "          return comm_promise.then((comm) => {\n",
       "            comm.send(data, metadata, buffers, disposeOnDone);\n",
       "          });\n",
       "        };\n",
       "        var comm = {\n",
       "          send: sendClosure\n",
       "        };\n",
       "      }\n",
       "      window.PyViz.comms[comm_id] = comm;\n",
       "      return comm;\n",
       "    }\n",
       "    window.PyViz.comm_manager = new JupyterCommManager();\n",
       "    \n",
       "\n",
       "\n",
       "var JS_MIME_TYPE = 'application/javascript';\n",
       "var HTML_MIME_TYPE = 'text/html';\n",
       "var EXEC_MIME_TYPE = 'application/vnd.holoviews_exec.v0+json';\n",
       "var CLASS_NAME = 'output';\n",
       "\n",
       "/**\n",
       " * Render data to the DOM node\n",
       " */\n",
       "function render(props, node) {\n",
       "  var div = document.createElement(\"div\");\n",
       "  var script = document.createElement(\"script\");\n",
       "  node.appendChild(div);\n",
       "  node.appendChild(script);\n",
       "}\n",
       "\n",
       "/**\n",
       " * Handle when a new output is added\n",
       " */\n",
       "function handle_add_output(event, handle) {\n",
       "  var output_area = handle.output_area;\n",
       "  var output = handle.output;\n",
       "  if ((output.data == undefined) || (!output.data.hasOwnProperty(EXEC_MIME_TYPE))) {\n",
       "    return\n",
       "  }\n",
       "  var id = output.metadata[EXEC_MIME_TYPE][\"id\"];\n",
       "  var toinsert = output_area.element.find(\".\" + CLASS_NAME.split(' ')[0]);\n",
       "  if (id !== undefined) {\n",
       "    var nchildren = toinsert.length;\n",
       "    var html_node = toinsert[nchildren-1].children[0];\n",
       "    html_node.innerHTML = output.data[HTML_MIME_TYPE];\n",
       "    var scripts = [];\n",
       "    var nodelist = html_node.querySelectorAll(\"script\");\n",
       "    for (var i in nodelist) {\n",
       "      if (nodelist.hasOwnProperty(i)) {\n",
       "        scripts.push(nodelist[i])\n",
       "      }\n",
       "    }\n",
       "\n",
       "    scripts.forEach( function (oldScript) {\n",
       "      var newScript = document.createElement(\"script\");\n",
       "      var attrs = [];\n",
       "      var nodemap = oldScript.attributes;\n",
       "      for (var j in nodemap) {\n",
       "        if (nodemap.hasOwnProperty(j)) {\n",
       "          attrs.push(nodemap[j])\n",
       "        }\n",
       "      }\n",
       "      attrs.forEach(function(attr) { newScript.setAttribute(attr.name, attr.value) });\n",
       "      newScript.appendChild(document.createTextNode(oldScript.innerHTML));\n",
       "      oldScript.parentNode.replaceChild(newScript, oldScript);\n",
       "    });\n",
       "    if (JS_MIME_TYPE in output.data) {\n",
       "      toinsert[nchildren-1].children[1].textContent = output.data[JS_MIME_TYPE];\n",
       "    }\n",
       "    output_area._hv_plot_id = id;\n",
       "    if ((window.Bokeh !== undefined) && (id in Bokeh.index)) {\n",
       "      window.PyViz.plot_index[id] = Bokeh.index[id];\n",
       "    } else {\n",
       "      window.PyViz.plot_index[id] = null;\n",
       "    }\n",
       "  } else if (output.metadata[EXEC_MIME_TYPE][\"server_id\"] !== undefined) {\n",
       "    var bk_div = document.createElement(\"div\");\n",
       "    bk_div.innerHTML = output.data[HTML_MIME_TYPE];\n",
       "    var script_attrs = bk_div.children[0].attributes;\n",
       "    for (var i = 0; i < script_attrs.length; i++) {\n",
       "      toinsert[toinsert.length - 1].childNodes[1].setAttribute(script_attrs[i].name, script_attrs[i].value);\n",
       "    }\n",
       "    // store reference to server id on output_area\n",
       "    output_area._bokeh_server_id = output.metadata[EXEC_MIME_TYPE][\"server_id\"];\n",
       "  }\n",
       "}\n",
       "\n",
       "/**\n",
       " * Handle when an output is cleared or removed\n",
       " */\n",
       "function handle_clear_output(event, handle) {\n",
       "  var id = handle.cell.output_area._hv_plot_id;\n",
       "  var server_id = handle.cell.output_area._bokeh_server_id;\n",
       "  if (((id === undefined) || !(id in PyViz.plot_index)) && (server_id !== undefined)) { return; }\n",
       "  var comm = window.PyViz.comm_manager.get_client_comm(\"hv-extension-comm\", \"hv-extension-comm\", function () {});\n",
       "  if (server_id !== null) {\n",
       "    comm.send({event_type: 'server_delete', 'id': server_id});\n",
       "    return;\n",
       "  } else if (comm !== null) {\n",
       "    comm.send({event_type: 'delete', 'id': id});\n",
       "  }\n",
       "  delete PyViz.plot_index[id];\n",
       "  if ((window.Bokeh !== undefined) & (id in window.Bokeh.index)) {\n",
       "    var doc = window.Bokeh.index[id].model.document\n",
       "    doc.clear();\n",
       "    const i = window.Bokeh.documents.indexOf(doc);\n",
       "    if (i > -1) {\n",
       "      window.Bokeh.documents.splice(i, 1);\n",
       "    }\n",
       "  }\n",
       "}\n",
       "\n",
       "/**\n",
       " * Handle kernel restart event\n",
       " */\n",
       "function handle_kernel_cleanup(event, handle) {\n",
       "  delete PyViz.comms[\"hv-extension-comm\"];\n",
       "  window.PyViz.plot_index = {}\n",
       "}\n",
       "\n",
       "/**\n",
       " * Handle update_display_data messages\n",
       " */\n",
       "function handle_update_output(event, handle) {\n",
       "  handle_clear_output(event, {cell: {output_area: handle.output_area}})\n",
       "  handle_add_output(event, handle)\n",
       "}\n",
       "\n",
       "function register_renderer(events, OutputArea) {\n",
       "  function append_mime(data, metadata, element) {\n",
       "    // create a DOM node to render to\n",
       "    var toinsert = this.create_output_subarea(\n",
       "    metadata,\n",
       "    CLASS_NAME,\n",
       "    EXEC_MIME_TYPE\n",
       "    );\n",
       "    this.keyboard_manager.register_events(toinsert);\n",
       "    // Render to node\n",
       "    var props = {data: data, metadata: metadata[EXEC_MIME_TYPE]};\n",
       "    render(props, toinsert[0]);\n",
       "    element.append(toinsert);\n",
       "    return toinsert\n",
       "  }\n",
       "\n",
       "  events.on('output_added.OutputArea', handle_add_output);\n",
       "  events.on('output_updated.OutputArea', handle_update_output);\n",
       "  events.on('clear_output.CodeCell', handle_clear_output);\n",
       "  events.on('delete.Cell', handle_clear_output);\n",
       "  events.on('kernel_ready.Kernel', handle_kernel_cleanup);\n",
       "\n",
       "  OutputArea.prototype.register_mime_type(EXEC_MIME_TYPE, append_mime, {\n",
       "    safe: true,\n",
       "    index: 0\n",
       "  });\n",
       "}\n",
       "\n",
       "if (window.Jupyter !== undefined) {\n",
       "  try {\n",
       "    var events = require('base/js/events');\n",
       "    var OutputArea = require('notebook/js/outputarea').OutputArea;\n",
       "    if (OutputArea.prototype.mime_types().indexOf(EXEC_MIME_TYPE) == -1) {\n",
       "      register_renderer(events, OutputArea);\n",
       "    }\n",
       "  } catch(err) {\n",
       "  }\n",
       "}\n"
      ],
      "application/vnd.holoviews_load.v0+json": "\nif ((window.PyViz === undefined) || (window.PyViz instanceof HTMLElement)) {\n  window.PyViz = {comms: {}, comm_status:{}, kernels:{}, receivers: {}, plot_index: []}\n}\n\n\n    function JupyterCommManager() {\n    }\n\n    JupyterCommManager.prototype.register_target = function(plot_id, comm_id, msg_handler) {\n      if (window.comm_manager || ((window.Jupyter !== undefined) && (Jupyter.notebook.kernel != null))) {\n        var comm_manager = window.comm_manager || Jupyter.notebook.kernel.comm_manager;\n        comm_manager.register_target(comm_id, function(comm) {\n          comm.on_msg(msg_handler);\n        });\n      } else if ((plot_id in window.PyViz.kernels) && (window.PyViz.kernels[plot_id])) {\n        window.PyViz.kernels[plot_id].registerCommTarget(comm_id, function(comm) {\n          comm.onMsg = msg_handler;\n        });\n      } else if (typeof google != 'undefined' && google.colab.kernel != null) {\n        google.colab.kernel.comms.registerTarget(comm_id, (comm) => {\n          var messages = comm.messages[Symbol.asyncIterator]();\n          function processIteratorResult(result) {\n            var message = result.value;\n            console.log(message)\n            var content = {data: message.data, comm_id};\n            var buffers = []\n            for (var buffer of message.buffers || []) {\n              buffers.push(new DataView(buffer))\n            }\n            var metadata = message.metadata || {};\n            var msg = {content, buffers, metadata}\n            msg_handler(msg);\n            return messages.next().then(processIteratorResult);\n          }\n          return messages.next().then(processIteratorResult);\n        })\n      }\n    }\n\n    JupyterCommManager.prototype.get_client_comm = function(plot_id, comm_id, msg_handler) {\n      if (comm_id in window.PyViz.comms) {\n        return window.PyViz.comms[comm_id];\n      } else if (window.comm_manager || ((window.Jupyter !== undefined) && (Jupyter.notebook.kernel != null))) {\n        var comm_manager = window.comm_manager || Jupyter.notebook.kernel.comm_manager;\n        var comm = comm_manager.new_comm(comm_id, {}, {}, {}, comm_id);\n        if (msg_handler) {\n          comm.on_msg(msg_handler);\n        }\n      } else if ((plot_id in window.PyViz.kernels) && (window.PyViz.kernels[plot_id])) {\n        var comm = window.PyViz.kernels[plot_id].connectToComm(comm_id);\n        comm.open();\n        if (msg_handler) {\n          comm.onMsg = msg_handler;\n        }\n      } else if (typeof google != 'undefined' && google.colab.kernel != null) {\n        var comm_promise = google.colab.kernel.comms.open(comm_id)\n        comm_promise.then((comm) => {\n          window.PyViz.comms[comm_id] = comm;\n          if (msg_handler) {\n            var messages = comm.messages[Symbol.asyncIterator]();\n            function processIteratorResult(result) {\n              var message = result.value;\n              var content = {data: message.data};\n              var metadata = message.metadata || {comm_id};\n              var msg = {content, metadata}\n              msg_handler(msg);\n              return messages.next().then(processIteratorResult);\n            }\n            return messages.next().then(processIteratorResult);\n          }\n        }) \n        var sendClosure = (data, metadata, buffers, disposeOnDone) => {\n          return comm_promise.then((comm) => {\n            comm.send(data, metadata, buffers, disposeOnDone);\n          });\n        };\n        var comm = {\n          send: sendClosure\n        };\n      }\n      window.PyViz.comms[comm_id] = comm;\n      return comm;\n    }\n    window.PyViz.comm_manager = new JupyterCommManager();\n    \n\n\nvar JS_MIME_TYPE = 'application/javascript';\nvar HTML_MIME_TYPE = 'text/html';\nvar EXEC_MIME_TYPE = 'application/vnd.holoviews_exec.v0+json';\nvar CLASS_NAME = 'output';\n\n/**\n * Render data to the DOM node\n */\nfunction render(props, node) {\n  var div = document.createElement(\"div\");\n  var script = document.createElement(\"script\");\n  node.appendChild(div);\n  node.appendChild(script);\n}\n\n/**\n * Handle when a new output is added\n */\nfunction handle_add_output(event, handle) {\n  var output_area = handle.output_area;\n  var output = handle.output;\n  if ((output.data == undefined) || (!output.data.hasOwnProperty(EXEC_MIME_TYPE))) {\n    return\n  }\n  var id = output.metadata[EXEC_MIME_TYPE][\"id\"];\n  var toinsert = output_area.element.find(\".\" + CLASS_NAME.split(' ')[0]);\n  if (id !== undefined) {\n    var nchildren = toinsert.length;\n    var html_node = toinsert[nchildren-1].children[0];\n    html_node.innerHTML = output.data[HTML_MIME_TYPE];\n    var scripts = [];\n    var nodelist = html_node.querySelectorAll(\"script\");\n    for (var i in nodelist) {\n      if (nodelist.hasOwnProperty(i)) {\n        scripts.push(nodelist[i])\n      }\n    }\n\n    scripts.forEach( function (oldScript) {\n      var newScript = document.createElement(\"script\");\n      var attrs = [];\n      var nodemap = oldScript.attributes;\n      for (var j in nodemap) {\n        if (nodemap.hasOwnProperty(j)) {\n          attrs.push(nodemap[j])\n        }\n      }\n      attrs.forEach(function(attr) { newScript.setAttribute(attr.name, attr.value) });\n      newScript.appendChild(document.createTextNode(oldScript.innerHTML));\n      oldScript.parentNode.replaceChild(newScript, oldScript);\n    });\n    if (JS_MIME_TYPE in output.data) {\n      toinsert[nchildren-1].children[1].textContent = output.data[JS_MIME_TYPE];\n    }\n    output_area._hv_plot_id = id;\n    if ((window.Bokeh !== undefined) && (id in Bokeh.index)) {\n      window.PyViz.plot_index[id] = Bokeh.index[id];\n    } else {\n      window.PyViz.plot_index[id] = null;\n    }\n  } else if (output.metadata[EXEC_MIME_TYPE][\"server_id\"] !== undefined) {\n    var bk_div = document.createElement(\"div\");\n    bk_div.innerHTML = output.data[HTML_MIME_TYPE];\n    var script_attrs = bk_div.children[0].attributes;\n    for (var i = 0; i < script_attrs.length; i++) {\n      toinsert[toinsert.length - 1].childNodes[1].setAttribute(script_attrs[i].name, script_attrs[i].value);\n    }\n    // store reference to server id on output_area\n    output_area._bokeh_server_id = output.metadata[EXEC_MIME_TYPE][\"server_id\"];\n  }\n}\n\n/**\n * Handle when an output is cleared or removed\n */\nfunction handle_clear_output(event, handle) {\n  var id = handle.cell.output_area._hv_plot_id;\n  var server_id = handle.cell.output_area._bokeh_server_id;\n  if (((id === undefined) || !(id in PyViz.plot_index)) && (server_id !== undefined)) { return; }\n  var comm = window.PyViz.comm_manager.get_client_comm(\"hv-extension-comm\", \"hv-extension-comm\", function () {});\n  if (server_id !== null) {\n    comm.send({event_type: 'server_delete', 'id': server_id});\n    return;\n  } else if (comm !== null) {\n    comm.send({event_type: 'delete', 'id': id});\n  }\n  delete PyViz.plot_index[id];\n  if ((window.Bokeh !== undefined) & (id in window.Bokeh.index)) {\n    var doc = window.Bokeh.index[id].model.document\n    doc.clear();\n    const i = window.Bokeh.documents.indexOf(doc);\n    if (i > -1) {\n      window.Bokeh.documents.splice(i, 1);\n    }\n  }\n}\n\n/**\n * Handle kernel restart event\n */\nfunction handle_kernel_cleanup(event, handle) {\n  delete PyViz.comms[\"hv-extension-comm\"];\n  window.PyViz.plot_index = {}\n}\n\n/**\n * Handle update_display_data messages\n */\nfunction handle_update_output(event, handle) {\n  handle_clear_output(event, {cell: {output_area: handle.output_area}})\n  handle_add_output(event, handle)\n}\n\nfunction register_renderer(events, OutputArea) {\n  function append_mime(data, metadata, element) {\n    // create a DOM node to render to\n    var toinsert = this.create_output_subarea(\n    metadata,\n    CLASS_NAME,\n    EXEC_MIME_TYPE\n    );\n    this.keyboard_manager.register_events(toinsert);\n    // Render to node\n    var props = {data: data, metadata: metadata[EXEC_MIME_TYPE]};\n    render(props, toinsert[0]);\n    element.append(toinsert);\n    return toinsert\n  }\n\n  events.on('output_added.OutputArea', handle_add_output);\n  events.on('output_updated.OutputArea', handle_update_output);\n  events.on('clear_output.CodeCell', handle_clear_output);\n  events.on('delete.Cell', handle_clear_output);\n  events.on('kernel_ready.Kernel', handle_kernel_cleanup);\n\n  OutputArea.prototype.register_mime_type(EXEC_MIME_TYPE, append_mime, {\n    safe: true,\n    index: 0\n  });\n}\n\nif (window.Jupyter !== undefined) {\n  try {\n    var events = require('base/js/events');\n    var OutputArea = require('notebook/js/outputarea').OutputArea;\n    if (OutputArea.prototype.mime_types().indexOf(EXEC_MIME_TYPE) == -1) {\n      register_renderer(events, OutputArea);\n    }\n  } catch(err) {\n  }\n}\n"
     },
     "metadata": {},
     "output_type": "display_data"
    },
    {
     "data": {},
     "metadata": {},
     "output_type": "display_data"
    },
    {
     "data": {
      "application/vnd.holoviews_exec.v0+json": "",
      "text/html": [
       "<div id='1155'>\n",
       "\n",
       "\n",
       "\n",
       "\n",
       "\n",
       "  <div class=\"bk-root\" id=\"c7cc21d6-0206-419d-af59-e0448eb56547\" data-root-id=\"1155\"></div>\n",
       "</div>\n",
       "<script type=\"application/javascript\">(function(root) {\n",
       "  function embed_document(root) {\n",
       "    var docs_json = {\"6c3656ee-5b5e-434e-b80e-0670c28f31c6\":{\"roots\":{\"references\":[{\"attributes\":{},\"id\":\"1131\",\"type\":\"LinearScale\"},{\"attributes\":{},\"id\":\"1129\",\"type\":\"DataRange1d\"},{\"attributes\":{\"data_source\":{\"id\":\"1125\"},\"glyph\":{\"id\":\"1151\"},\"hover_glyph\":null,\"muted_glyph\":null,\"nonselection_glyph\":{\"id\":\"1152\"},\"selection_glyph\":null,\"view\":{\"id\":\"1154\"}},\"id\":\"1153\",\"type\":\"GlyphRenderer\"},{\"attributes\":{\"line_color\":\"#1f77b4\",\"x\":{\"field\":\"x\"},\"y\":{\"field\":\"y\"}},\"id\":\"1151\",\"type\":\"Line\"},{\"attributes\":{\"css_classes\":[\"card-title\"],\"margin\":[2,5,2,5],\"name\":\"HTML00030\",\"sizing_mode\":\"stretch_width\",\"text\":\"x\"},\"id\":\"1157\",\"type\":\"panel.models.markup.HTML\"},{\"attributes\":{},\"id\":\"1144\",\"type\":\"WheelZoomTool\"},{\"attributes\":{\"formatter\":{\"id\":\"1163\"},\"ticker\":{\"id\":\"1140\"}},\"id\":\"1139\",\"type\":\"LinearAxis\"},{\"attributes\":{\"data\":{\"x\":{\"__ndarray__\":\"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\",\"dtype\":\"float64\",\"order\":\"little\",\"shape\":[3650]},\"y\":{\"__ndarray__\":\"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\",\"dtype\":\"float64\",\"order\":\"little\",\"shape\":[3650]}},\"selected\":{\"id\":\"1165\"},\"selection_policy\":{\"id\":\"1164\"}},\"id\":\"1125\",\"type\":\"ColumnDataSource\"},{\"attributes\":{},\"id\":\"1136\",\"type\":\"BasicTicker\"},{\"attributes\":{\"axis\":{\"id\":\"1135\"},\"ticker\":null},\"id\":\"1138\",\"type\":\"Grid\"},{\"attributes\":{\"below\":[{\"id\":\"1135\"}],\"center\":[{\"id\":\"1138\"},{\"id\":\"1142\"}],\"left\":[{\"id\":\"1139\"}],\"renderers\":[{\"id\":\"1153\"}],\"subscribed_events\":[\"reset\"],\"title\":{\"id\":\"1159\"},\"toolbar\":{\"id\":\"1146\"},\"x_range\":{\"id\":\"1127\"},\"x_scale\":{\"id\":\"1131\"},\"y_range\":{\"id\":\"1129\"},\"y_scale\":{\"id\":\"1133\"}},\"id\":\"1126\",\"subtype\":\"Figure\",\"type\":\"Plot\"},{\"attributes\":{\"end\":3649,\"format\":\"0[.]00\",\"margin\":[5,10,5,10],\"sizing_mode\":\"scale_width\",\"start\":0,\"value\":[0,3649],\"value_throttled\":[0,3649],\"width\":400},\"id\":\"1174\",\"type\":\"RangeSlider\"},{\"attributes\":{},\"id\":\"1133\",\"type\":\"LinearScale\"},{\"attributes\":{\"source\":{\"id\":\"1125\"}},\"id\":\"1154\",\"type\":\"CDSView\"},{\"attributes\":{},\"id\":\"1163\",\"type\":\"BasicTickFormatter\"},{\"attributes\":{\"client_comm_id\":\"20bb8396750c4447b9b2260c44cf9a85\",\"comm_id\":\"450e9e4d451a417383a5b4fc54e6697a\",\"plot_id\":\"1155\"},\"id\":\"1199\",\"type\":\"panel.models.comm_manager.CommManager\"},{\"attributes\":{},\"id\":\"1143\",\"type\":\"PanTool\"},{\"attributes\":{},\"id\":\"1145\",\"type\":\"ResetTool\"},{\"attributes\":{\"formatter\":{\"id\":\"1161\"},\"ticker\":{\"id\":\"1136\"}},\"id\":\"1135\",\"type\":\"LinearAxis\"},{\"attributes\":{\"axis\":{\"id\":\"1139\"},\"dimension\":1,\"ticker\":null},\"id\":\"1142\",\"type\":\"Grid\"},{\"attributes\":{\"text\":\"\"},\"id\":\"1159\",\"type\":\"Title\"},{\"attributes\":{\"line_alpha\":0.1,\"line_color\":\"#1f77b4\",\"x\":{\"field\":\"x\"},\"y\":{\"field\":\"y\"}},\"id\":\"1152\",\"type\":\"Line\"},{\"attributes\":{},\"id\":\"1140\",\"type\":\"BasicTicker\"},{\"attributes\":{\"children\":[{\"id\":\"1157\"}],\"css_classes\":[\"card-header-row\"],\"margin\":[0,0,0,0],\"name\":\"Row00028\",\"sizing_mode\":\"stretch_width\"},\"id\":\"1156\",\"type\":\"Row\"},{\"attributes\":{\"active_header_background\":\"\",\"button_css_classes\":[\"card-button\"],\"children\":[{\"id\":\"1156\"},{\"id\":\"1126\"},{\"id\":\"1174\"}],\"collapsed\":false,\"css_classes\":[\"card\"],\"header_background\":\"\",\"header_color\":\"\",\"header_css_classes\":[\"card-header\"],\"margin\":[5,5,5,5],\"name\":\"Card00029\",\"sizing_mode\":\"stretch_both\",\"width\":400},\"id\":\"1155\",\"type\":\"panel.models.layout.Card\"},{\"attributes\":{},\"id\":\"1164\",\"type\":\"UnionRenderers\"},{\"attributes\":{},\"id\":\"1127\",\"type\":\"DataRange1d\"},{\"attributes\":{},\"id\":\"1165\",\"type\":\"Selection\"},{\"attributes\":{},\"id\":\"1161\",\"type\":\"BasicTickFormatter\"},{\"attributes\":{\"active_drag\":{\"id\":\"1143\"},\"active_inspect\":\"auto\",\"active_multi\":null,\"active_scroll\":{\"id\":\"1144\"},\"active_tap\":\"auto\",\"tools\":[{\"id\":\"1143\"},{\"id\":\"1144\"},{\"id\":\"1145\"}]},\"id\":\"1146\",\"type\":\"Toolbar\"}],\"root_ids\":[\"1155\",\"1199\"]},\"title\":\"Bokeh Application\",\"version\":\"2.2.3\"}};\n",
       "    var render_items = [{\"docid\":\"6c3656ee-5b5e-434e-b80e-0670c28f31c6\",\"root_ids\":[\"1155\"],\"roots\":{\"1155\":\"c7cc21d6-0206-419d-af59-e0448eb56547\"}}];\n",
       "    root.Bokeh.embed.embed_items_notebook(docs_json, render_items);\n",
       "  }\n",
       "  if (root.Bokeh !== undefined && root.Bokeh.Panel !== undefined && root['deck'] !== undefined ) {\n",
       "    embed_document(root);\n",
       "  } else {\n",
       "    var attempts = 0;\n",
       "    var timer = setInterval(function(root) {\n",
       "      if (root.Bokeh !== undefined && root.Bokeh.Panel !== undefined && root['deck'] !== undefined) {\n",
       "        clearInterval(timer);\n",
       "        embed_document(root);\n",
       "      } else if (document.readyState == \"complete\") {\n",
       "        attempts++;\n",
       "        if (attempts > 100) {\n",
       "          clearInterval(timer);\n",
       "          console.log(\"Bokeh: ERROR: Unable to run BokehJS code because BokehJS library is missing\");\n",
       "        }\n",
       "      }\n",
       "    }, 10, root)\n",
       "  }\n",
       "})(window);</script>"
      ],
      "text/plain": [
       "Card(sizing_mode='stretch_both', title='x', width=400)\n",
       "    [0] Bokeh(Figure)\n",
       "    [1] RangeSlider(end=3649, sizing_mode='scale_width', step=1, value=(0, 3649), value_throttled=(0, 3649), width=400)"
      ]
     },
     "execution_count": 17,
     "metadata": {
      "application/vnd.holoviews_exec.v0+json": {
       "id": "1155"
      }
     },
     "output_type": "execute_result"
    }
   ],
   "source": [
    "cux_df = DataFrame.from_dataframe(reshaped_df)\n",
    "\n",
    "line_chart_2 = line(x='x',y='y')\n",
    "\n",
    "d = cux_df.dashboard([line_chart_2])\n",
    "line_chart_2.view()"
   ]
  },
  {
   "cell_type": "code",
   "execution_count": 18,
   "metadata": {},
   "outputs": [
    {
     "data": {
      "text/plain": [
       "array([20.7, 17.9, 18.8, ..., 13.5, 15.7, 13. ])"
      ]
     },
     "execution_count": 18,
     "metadata": {},
     "output_type": "execute_result"
    }
   ],
   "source": [
    "a"
   ]
  },
  {
   "cell_type": "markdown",
   "metadata": {},
   "source": [
    "We calculate the difference between the new smooth signal and the original."
   ]
  },
  {
   "cell_type": "code",
   "execution_count": 19,
   "metadata": {},
   "outputs": [],
   "source": [
    "err=(abs(y_smooth-a))"
   ]
  },
  {
   "cell_type": "markdown",
   "metadata": {},
   "source": [
    "Convert the data into a cudf series so that we can use the clx analytics library to calculate the rolling Z-score"
   ]
  },
  {
   "cell_type": "markdown",
   "metadata": {},
   "source": [
    "We select rolling window as 5. This should be adjusted for other datasets."
   ]
  },
  {
   "cell_type": "code",
   "execution_count": 20,
   "metadata": {},
   "outputs": [],
   "source": [
    "rwindow=5"
   ]
  },
  {
   "cell_type": "code",
   "execution_count": 21,
   "metadata": {},
   "outputs": [],
   "source": [
    "rz=rzscore(cudf.Series(cp.ascontiguousarray((err))),rwindow)[rwindow-1:] #Remove the NA rows"
   ]
  },
  {
   "cell_type": "code",
   "execution_count": 22,
   "metadata": {},
   "outputs": [
    {
     "data": {
      "text/plain": [
       "4      -1.280745\n",
       "5      -1.101274\n",
       "6      -0.737006\n",
       "7       0.631617\n",
       "8       1.982907\n",
       "          ...   \n",
       "3645   -0.526520\n",
       "3646   -0.325860\n",
       "3647    0.507178\n",
       "3648   -1.702751\n",
       "3649    1.101080\n",
       "Length: 3646, dtype: float64"
      ]
     },
     "execution_count": 22,
     "metadata": {},
     "output_type": "execute_result"
    }
   ],
   "source": [
    "rz"
   ]
  },
  {
   "cell_type": "code",
   "execution_count": 23,
   "metadata": {},
   "outputs": [
    {
     "data": {
      "text/plain": [
       "[<matplotlib.lines.Line2D at 0x7ff8a0d83b50>]"
      ]
     },
     "execution_count": 23,
     "metadata": {},
     "output_type": "execute_result"
    },
    {
     "data": {
      "image/png": "[encoded data removed]",
      "text/plain": [
       "<Figure size 432x288 with 1 Axes>"
      ]
     },
     "metadata": {
      "needs_background": "light"
     },
     "output_type": "display_data"
    }
   ],
   "source": [
    "pyplot.plot(cp.asnumpy(cp.asarray(rz)))"
   ]
  },
  {
   "cell_type": "markdown",
   "metadata": {},
   "source": [
    "We can now visualize our data using the `cuxfilter` library."
   ]
  },
  {
   "cell_type": "code",
   "execution_count": 24,
   "metadata": {},
   "outputs": [
    {
     "name": "stdout",
     "output_type": "stream",
     "text": [
      "      index         0\n",
      "0         0 -1.280745\n",
      "1         1 -1.101274\n",
      "2         2 -0.737006\n",
      "3         3  0.631617\n",
      "4         4  1.982907\n",
      "...     ...       ...\n",
      "3641   3641 -0.526520\n",
      "3642   3642 -0.325860\n",
      "3643   3643  0.507178\n",
      "3644   3644 -1.702751\n",
      "3645   3645  1.101080\n",
      "\n",
      "[3646 rows x 2 columns]\n"
     ]
    }
   ],
   "source": [
    "reshaped_df = cudf.DataFrame(cp.asarray(rz))\n",
    "reshaped_df = reshaped_df.reset_index()\n",
    "print(reshaped_df)"
   ]
  },
  {
   "cell_type": "code",
   "execution_count": 25,
   "metadata": {},
   "outputs": [
    {
     "name": "stdout",
     "output_type": "stream",
     "text": [
      "         x         y\n",
      "0        0 -1.280745\n",
      "1        1 -1.101274\n",
      "2        2 -0.737006\n",
      "3        3  0.631617\n",
      "4        4  1.982907\n",
      "...    ...       ...\n",
      "3641  3641 -0.526520\n",
      "3642  3642 -0.325860\n",
      "3643  3643  0.507178\n",
      "3644  3644 -1.702751\n",
      "3645  3645  1.101080\n",
      "\n",
      "[3646 rows x 2 columns]\n"
     ]
    }
   ],
   "source": [
    "reshaped_df.columns =['x' , 'y']\n",
    "print(reshaped_df)"
   ]
  },
  {
   "cell_type": "code",
   "execution_count": 26,
   "metadata": {},
   "outputs": [
    {
     "data": {
      "application/javascript": [
       "\n",
       "(function(root) {\n",
       "  function now() {\n",
       "    return new Date();\n",
       "  }\n",
       "\n",
       "  var force = true;\n",
       "\n",
       "  if (typeof root._bokeh_onload_callbacks === \"undefined\" || force === true) {\n",
       "    root._bokeh_onload_callbacks = [];\n",
       "    root._bokeh_is_loading = undefined;\n",
       "  }\n",
       "\n",
       "  if (typeof (root._bokeh_timeout) === \"undefined\" || force === true) {\n",
       "    root._bokeh_timeout = Date.now() + 5000;\n",
       "    root._bokeh_failed_load = false;\n",
       "  }\n",
       "\n",
       "  function run_callbacks() {\n",
       "    try {\n",
       "      root._bokeh_onload_callbacks.forEach(function(callback) {\n",
       "        if (callback != null)\n",
       "          callback();\n",
       "      });\n",
       "    } finally {\n",
       "      delete root._bokeh_onload_callbacks\n",
       "    }\n",
       "    console.debug(\"Bokeh: all callbacks have finished\");\n",
       "  }\n",
       "\n",
       "  function load_libs(css_urls, js_urls, callback) {\n",
       "    if (css_urls == null) css_urls = [];\n",
       "    if (js_urls == null) js_urls = [];\n",
       "\n",
       "    root._bokeh_onload_callbacks.push(callback);\n",
       "    if (root._bokeh_is_loading > 0) {\n",
       "      console.debug(\"Bokeh: BokehJS is being loaded, scheduling callback at\", now());\n",
       "      return null;\n",
       "    }\n",
       "    if (js_urls == null || js_urls.length === 0) {\n",
       "      run_callbacks();\n",
       "      return null;\n",
       "    }\n",
       "    console.debug(\"Bokeh: BokehJS not loaded, scheduling load and callback at\", now());\n",
       "    root._bokeh_is_loading = css_urls.length + js_urls.length;\n",
       "\n",
       "    function on_load() {\n",
       "      root._bokeh_is_loading--;\n",
       "      if (root._bokeh_is_loading === 0) {\n",
       "        console.debug(\"Bokeh: all BokehJS libraries/stylesheets loaded\");\n",
       "        run_callbacks()\n",
       "      }\n",
       "    }\n",
       "\n",
       "    function on_error() {\n",
       "      console.error(\"failed to load \" + url);\n",
       "    }\n",
       "\n",
       "    for (var i = 0; i < css_urls.length; i++) {\n",
       "      var url = css_urls[i];\n",
       "      const element = document.createElement(\"link\");\n",
       "      element.onload = on_load;\n",
       "      element.onerror = on_error;\n",
       "      element.rel = \"stylesheet\";\n",
       "      element.type = \"text/css\";\n",
       "      element.href = url;\n",
       "      console.debug(\"Bokeh: injecting link tag for BokehJS stylesheet: \", url);\n",
       "      document.body.appendChild(element);\n",
       "    }\n",
       "\n",
       "    var skip = [];\n",
       "    if (window.requirejs) {\n",
       "      window.requirejs.config({'paths': {'deck.gl': 'https://cdn.jsdelivr.net/npm/@deck.gl/jupyter-widget@^8.1.2/dist/index', 'mapbox-gl': 'https://cdn.jsdelivr.net/npm/mapbox-gl@1.7.0/dist/mapbox-gl.min'}});\n",
       "      require([], function() {\n",
       "      })\n",
       "    }\n",
       "    if (((window['deck'] !== undefined) && (!(window['deck'] instanceof HTMLElement))) || window.requirejs) {\n",
       "      var urls = ['https://cdn.jsdelivr.net/npm/deck.gl@8.1.12/dist.min.js', 'https://cdn.jsdelivr.net/npm/@deck.gl/json@8.1.12/dist.min.js', 'https://cdn.jsdelivr.net/npm/@loaders.gl/csv@2.0.2/dist/dist.min.js', 'https://cdn.jsdelivr.net/npm/@loaders.gl/json@2.0.2/dist/dist.min.js', 'https://cdn.jsdelivr.net/npm/@loaders.gl/3d-tiles@2.0.2/dist/dist.min.js'];\n",
       "      for (var i = 0; i < urls.length; i++) {\n",
       "        skip.push(urls[i])\n",
       "      }\n",
       "    }\n",
       "    if (((window['mapboxgl'] !== undefined) && (!(window['mapboxgl'] instanceof HTMLElement))) || window.requirejs) {\n",
       "      var urls = ['https://api.mapbox.com/mapbox-gl-js/v1.7.0/mapbox-gl.js'];\n",
       "      for (var i = 0; i < urls.length; i++) {\n",
       "        skip.push(urls[i])\n",
       "      }\n",
       "    }\n",
       "    for (var i = 0; i < js_urls.length; i++) {\n",
       "      var url = js_urls[i];\n",
       "      if (skip.indexOf(url) >= 0) { on_load(); continue; }\n",
       "      var element = document.createElement('script');\n",
       "      element.onload = on_load;\n",
       "      element.onerror = on_error;\n",
       "      element.async = false;\n",
       "      element.src = url;\n",
       "      console.debug(\"Bokeh: injecting script tag for BokehJS library: \", url);\n",
       "      document.head.appendChild(element);\n",
       "    }\n",
       "\tif (!js_urls.length) {\n",
       "      on_load()\n",
       "    }\n",
       "  };\n",
       "\n",
       "  function inject_raw_css(css) {\n",
       "    const element = document.createElement(\"style\");\n",
       "    element.appendChild(document.createTextNode(css));\n",
       "    document.body.appendChild(element);\n",
       "  }\n",
       "\n",
       "  var js_urls = [\"https://cdn.jsdelivr.net/npm/deck.gl@8.1.12/dist.min.js\", \"https://cdn.jsdelivr.net/npm/@deck.gl/json@8.1.12/dist.min.js\", \"https://cdn.jsdelivr.net/npm/@loaders.gl/csv@2.0.2/dist/dist.min.js\", \"https://cdn.jsdelivr.net/npm/@loaders.gl/json@2.0.2/dist/dist.min.js\", \"https://cdn.jsdelivr.net/npm/@loaders.gl/3d-tiles@2.0.2/dist/dist.min.js\", \"https://api.mapbox.com/mapbox-gl-js/v1.7.0/mapbox-gl.js\", \"https://cdn.bokeh.org/bokeh/release/bokeh-2.2.3.min.js\", \"https://cdn.bokeh.org/bokeh/release/bokeh-widgets-2.2.3.min.js\", \"https://cdn.bokeh.org/bokeh/release/bokeh-tables-2.2.3.min.js\", \"https://unpkg.com/@holoviz/panel@^0.10.3/dist/panel.min.js\"];\n",
       "  var css_urls = [\"https://api.mapbox.com/mapbox-gl-js/v1.7.0/mapbox-gl.css\", \"https://unpkg.com/@holoviz/panel@0.10.3/dist/css/alerts.css\", \"https://unpkg.com/@holoviz/panel@0.10.3/dist/css/widgets.css\", \"https://unpkg.com/@holoviz/panel@0.10.3/dist/css/card.css\", \"https://unpkg.com/@holoviz/panel@0.10.3/dist/css/dataframe.css\", \"https://unpkg.com/@holoviz/panel@0.10.3/dist/css/markdown.css\", \"https://unpkg.com/@holoviz/panel@0.10.3/dist/css/json.css\"];\n",
       "\n",
       "  var inline_js = [\n",
       "    function(Bokeh) {\n",
       "      inject_raw_css(\"\\n.dataframe table{\\n  border: none;\\n}\\n\\n.panel-df table{\\n    width: 100%;\\n    border-collapse: collapse;\\n    border: none;\\n}\\n.panel-df td{\\n    white-space: nowrap;\\n    overflow: auto;\\n    text-overflow: ellipsis;\\n}\\n\");\n",
       "    },\n",
       "    function(Bokeh) {\n",
       "      inject_raw_css(\"\\n.multi-select{\\n    color: white;\\n    z-index: 100;\\n    background: rgba(44,43,43,0.5);\\n    border-radius: 1px;\\n    width: 120px !important;\\n    height: 30px !important;\\n}\\n.multi-select > .bk {\\n    padding: 5px;\\n    width: 120px !important;\\n    height: 30px !important;\\n}\\n\\n.deck-chart {\\n    z-index: 10;\\n    position: initial !important;\\n}\\n\");\n",
       "    },\n",
       "    function(Bokeh) {\n",
       "      inject_raw_css(\"\\n        .indicator {\\n            text-align: center;\\n        }\\n        \");\n",
       "    },\n",
       "    function(Bokeh) {\n",
       "      inject_raw_css(\"\\n        .indicator {\\n            text-align: center;\\n        }\\n        \");\n",
       "    },\n",
       "    function(Bokeh) {\n",
       "      Bokeh.set_log_level(\"info\");\n",
       "    },\n",
       "    \n",
       "    function(Bokeh) {\n",
       "      (function(root, factory) {\n",
       "          factory(root[\"Bokeh\"]);\n",
       "      })(this, function(Bokeh) {\n",
       "        var define;\n",
       "        return (function outer(modules, entry) {\n",
       "        if (Bokeh != null) {\n",
       "          return Bokeh.register_plugin(modules, entry);\n",
       "        } else {\n",
       "          throw new Error(\"Cannot find Bokeh. You have to load it prior to loading plugins.\");\n",
       "        }\n",
       "      })\n",
       "      ({\n",
       "        \"custom/main\": function(require, module, exports) {\n",
       "          var models = {\n",
       "            \"CustomInspectTool\": require(\"custom/cuxfilter.charts.datashader.custom_extensions.graph_inspect_widget.custom_inspect_tool\").CustomInspectTool\n",
       "          };\n",
       "          require(\"base\").register_models(models);\n",
       "          module.exports = models;\n",
       "        },\n",
       "        \"custom/cuxfilter.charts.datashader.custom_extensions.graph_inspect_widget.custom_inspect_tool\": function(require, module, exports) {\n",
       "      \"use strict\";\n",
       "      var __importStar = (this && this.__importStar) || function (mod) {\n",
       "          if (mod && mod.__esModule) return mod;\n",
       "          var result = {};\n",
       "          if (mod != null) for (var k in mod) if (Object.hasOwnProperty.call(mod, k)) result[k] = mod[k];\n",
       "          result[\"default\"] = mod;\n",
       "          return result;\n",
       "      };\n",
       "      Object.defineProperty(exports, \"__esModule\", { value: true });\n",
       "      const inspect_tool_1 = require(\"models/tools/inspectors/inspect_tool\");\n",
       "      const p = __importStar(require(\"core/properties\"));\n",
       "      class CustomInspectToolView extends inspect_tool_1.InspectToolView {\n",
       "          connect_signals() {\n",
       "              super.connect_signals();\n",
       "              this.connect(this.model.properties.active.change, () => {\n",
       "                  this.model._active = this.model.properties.active.spec.value;\n",
       "              });\n",
       "          }\n",
       "      }\n",
       "      exports.CustomInspectToolView = CustomInspectToolView;\n",
       "      CustomInspectToolView.__name__ = \"CustomInspectToolView\";\n",
       "      class CustomInspectTool extends inspect_tool_1.InspectTool {\n",
       "          constructor(attrs) {\n",
       "              super(attrs);\n",
       "          }\n",
       "          static init_CustomInspectTool() {\n",
       "              this.prototype.default_view = CustomInspectToolView;\n",
       "              this.define({\n",
       "                  _active: [p.Instance],\n",
       "                  icon: [p.String],\n",
       "                  tool_name: [p.String]\n",
       "              });\n",
       "          }\n",
       "      }\n",
       "      exports.CustomInspectTool = CustomInspectTool;\n",
       "      CustomInspectTool.__name__ = \"CustomInspectTool\";\n",
       "      CustomInspectTool.init_CustomInspectTool();\n",
       "      //# sourceMappingURL=graph_inspect_widget.py:CustomInspectTool.js.map\n",
       "      }\n",
       "      }, \"custom/main\");\n",
       "      ;\n",
       "      });\n",
       "\n",
       "    },\n",
       "    function(Bokeh) {} // ensure no trailing comma for IE\n",
       "  ];\n",
       "\n",
       "  function run_inline_js() {\n",
       "    if ((root.Bokeh !== undefined) || (force === true)) {\n",
       "      for (var i = 0; i < inline_js.length; i++) {\n",
       "        inline_js[i].call(root, root.Bokeh);\n",
       "      }} else if (Date.now() < root._bokeh_timeout) {\n",
       "      setTimeout(run_inline_js, 100);\n",
       "    } else if (!root._bokeh_failed_load) {\n",
       "      console.log(\"Bokeh: BokehJS failed to load within specified timeout.\");\n",
       "      root._bokeh_failed_load = true;\n",
       "    }\n",
       "  }\n",
       "\n",
       "  if (root._bokeh_is_loading === 0) {\n",
       "    console.debug(\"Bokeh: BokehJS loaded, going straight to plotting\");\n",
       "    run_inline_js();\n",
       "  } else {\n",
       "    load_libs(css_urls, js_urls, function() {\n",
       "      console.debug(\"Bokeh: BokehJS plotting callback run at\", now());\n",
       "      run_inline_js();\n",
       "    });\n",
       "  }\n",
       "}(window));"
      ],
      "application/vnd.holoviews_load.v0+json": "\n(function(root) {\n  function now() {\n    return new Date();\n  }\n\n  var force = true;\n\n  if (typeof root._bokeh_onload_callbacks === \"undefined\" || force === true) {\n    root._bokeh_onload_callbacks = [];\n    root._bokeh_is_loading = undefined;\n  }\n\n  if (typeof (root._bokeh_timeout) === \"undefined\" || force === true) {\n    root._bokeh_timeout = Date.now() + 5000;\n    root._bokeh_failed_load = false;\n  }\n\n  function run_callbacks() {\n    try {\n      root._bokeh_onload_callbacks.forEach(function(callback) {\n        if (callback != null)\n          callback();\n      });\n    } finally {\n      delete root._bokeh_onload_callbacks\n    }\n    console.debug(\"Bokeh: all callbacks have finished\");\n  }\n\n  function load_libs(css_urls, js_urls, callback) {\n    if (css_urls == null) css_urls = [];\n    if (js_urls == null) js_urls = [];\n\n    root._bokeh_onload_callbacks.push(callback);\n    if (root._bokeh_is_loading > 0) {\n      console.debug(\"Bokeh: BokehJS is being loaded, scheduling callback at\", now());\n      return null;\n    }\n    if (js_urls == null || js_urls.length === 0) {\n      run_callbacks();\n      return null;\n    }\n    console.debug(\"Bokeh: BokehJS not loaded, scheduling load and callback at\", now());\n    root._bokeh_is_loading = css_urls.length + js_urls.length;\n\n    function on_load() {\n      root._bokeh_is_loading--;\n      if (root._bokeh_is_loading === 0) {\n        console.debug(\"Bokeh: all BokehJS libraries/stylesheets loaded\");\n        run_callbacks()\n      }\n    }\n\n    function on_error() {\n      console.error(\"failed to load \" + url);\n    }\n\n    for (var i = 0; i < css_urls.length; i++) {\n      var url = css_urls[i];\n      const element = document.createElement(\"link\");\n      element.onload = on_load;\n      element.onerror = on_error;\n      element.rel = \"stylesheet\";\n      element.type = \"text/css\";\n      element.href = url;\n      console.debug(\"Bokeh: injecting link tag for BokehJS stylesheet: \", url);\n      document.body.appendChild(element);\n    }\n\n    var skip = [];\n    if (window.requirejs) {\n      window.requirejs.config({'paths': {'deck.gl': 'https://cdn.jsdelivr.net/npm/@deck.gl/jupyter-widget@^8.1.2/dist/index', 'mapbox-gl': 'https://cdn.jsdelivr.net/npm/mapbox-gl@1.7.0/dist/mapbox-gl.min'}});\n      require([], function() {\n      })\n    }\n    if (((window['deck'] !== undefined) && (!(window['deck'] instanceof HTMLElement))) || window.requirejs) {\n      var urls = ['https://cdn.jsdelivr.net/npm/deck.gl@8.1.12/dist.min.js', 'https://cdn.jsdelivr.net/npm/@deck.gl/json@8.1.12/dist.min.js', 'https://cdn.jsdelivr.net/npm/@loaders.gl/csv@2.0.2/dist/dist.min.js', 'https://cdn.jsdelivr.net/npm/@loaders.gl/json@2.0.2/dist/dist.min.js', 'https://cdn.jsdelivr.net/npm/@loaders.gl/3d-tiles@2.0.2/dist/dist.min.js'];\n      for (var i = 0; i < urls.length; i++) {\n        skip.push(urls[i])\n      }\n    }\n    if (((window['mapboxgl'] !== undefined) && (!(window['mapboxgl'] instanceof HTMLElement))) || window.requirejs) {\n      var urls = ['https://api.mapbox.com/mapbox-gl-js/v1.7.0/mapbox-gl.js'];\n      for (var i = 0; i < urls.length; i++) {\n        skip.push(urls[i])\n      }\n    }\n    for (var i = 0; i < js_urls.length; i++) {\n      var url = js_urls[i];\n      if (skip.indexOf(url) >= 0) { on_load(); continue; }\n      var element = document.createElement('script');\n      element.onload = on_load;\n      element.onerror = on_error;\n      element.async = false;\n      element.src = url;\n      console.debug(\"Bokeh: injecting script tag for BokehJS library: \", url);\n      document.head.appendChild(element);\n    }\n\tif (!js_urls.length) {\n      on_load()\n    }\n  };\n\n  function inject_raw_css(css) {\n    const element = document.createElement(\"style\");\n    element.appendChild(document.createTextNode(css));\n    document.body.appendChild(element);\n  }\n\n  var js_urls = [\"https://cdn.jsdelivr.net/npm/deck.gl@8.1.12/dist.min.js\", \"https://cdn.jsdelivr.net/npm/@deck.gl/json@8.1.12/dist.min.js\", \"https://cdn.jsdelivr.net/npm/@loaders.gl/csv@2.0.2/dist/dist.min.js\", \"https://cdn.jsdelivr.net/npm/@loaders.gl/json@2.0.2/dist/dist.min.js\", \"https://cdn.jsdelivr.net/npm/@loaders.gl/3d-tiles@2.0.2/dist/dist.min.js\", \"https://api.mapbox.com/mapbox-gl-js/v1.7.0/mapbox-gl.js\", \"https://cdn.bokeh.org/bokeh/release/bokeh-2.2.3.min.js\", \"https://cdn.bokeh.org/bokeh/release/bokeh-widgets-2.2.3.min.js\", \"https://cdn.bokeh.org/bokeh/release/bokeh-tables-2.2.3.min.js\", \"https://unpkg.com/@holoviz/panel@^0.10.3/dist/panel.min.js\"];\n  var css_urls = [\"https://api.mapbox.com/mapbox-gl-js/v1.7.0/mapbox-gl.css\", \"https://unpkg.com/@holoviz/panel@0.10.3/dist/css/alerts.css\", \"https://unpkg.com/@holoviz/panel@0.10.3/dist/css/widgets.css\", \"https://unpkg.com/@holoviz/panel@0.10.3/dist/css/card.css\", \"https://unpkg.com/@holoviz/panel@0.10.3/dist/css/dataframe.css\", \"https://unpkg.com/@holoviz/panel@0.10.3/dist/css/markdown.css\", \"https://unpkg.com/@holoviz/panel@0.10.3/dist/css/json.css\"];\n\n  var inline_js = [\n    function(Bokeh) {\n      inject_raw_css(\"\\n.dataframe table{\\n  border: none;\\n}\\n\\n.panel-df table{\\n    width: 100%;\\n    border-collapse: collapse;\\n    border: none;\\n}\\n.panel-df td{\\n    white-space: nowrap;\\n    overflow: auto;\\n    text-overflow: ellipsis;\\n}\\n\");\n    },\n    function(Bokeh) {\n      inject_raw_css(\"\\n.multi-select{\\n    color: white;\\n    z-index: 100;\\n    background: rgba(44,43,43,0.5);\\n    border-radius: 1px;\\n    width: 120px !important;\\n    height: 30px !important;\\n}\\n.multi-select > .bk {\\n    padding: 5px;\\n    width: 120px !important;\\n    height: 30px !important;\\n}\\n\\n.deck-chart {\\n    z-index: 10;\\n    position: initial !important;\\n}\\n\");\n    },\n    function(Bokeh) {\n      inject_raw_css(\"\\n        .indicator {\\n            text-align: center;\\n        }\\n        \");\n    },\n    function(Bokeh) {\n      inject_raw_css(\"\\n        .indicator {\\n            text-align: center;\\n        }\\n        \");\n    },\n    function(Bokeh) {\n      Bokeh.set_log_level(\"info\");\n    },\n    \n    function(Bokeh) {\n      (function(root, factory) {\n          factory(root[\"Bokeh\"]);\n      })(this, function(Bokeh) {\n        var define;\n        return (function outer(modules, entry) {\n        if (Bokeh != null) {\n          return Bokeh.register_plugin(modules, entry);\n        } else {\n          throw new Error(\"Cannot find Bokeh. You have to load it prior to loading plugins.\");\n        }\n      })\n      ({\n        \"custom/main\": function(require, module, exports) {\n          var models = {\n            \"CustomInspectTool\": require(\"custom/cuxfilter.charts.datashader.custom_extensions.graph_inspect_widget.custom_inspect_tool\").CustomInspectTool\n          };\n          require(\"base\").register_models(models);\n          module.exports = models;\n        },\n        \"custom/cuxfilter.charts.datashader.custom_extensions.graph_inspect_widget.custom_inspect_tool\": function(require, module, exports) {\n      \"use strict\";\n      var __importStar = (this && this.__importStar) || function (mod) {\n          if (mod && mod.__esModule) return mod;\n          var result = {};\n          if (mod != null) for (var k in mod) if (Object.hasOwnProperty.call(mod, k)) result[k] = mod[k];\n          result[\"default\"] = mod;\n          return result;\n      };\n      Object.defineProperty(exports, \"__esModule\", { value: true });\n      const inspect_tool_1 = require(\"models/tools/inspectors/inspect_tool\");\n      const p = __importStar(require(\"core/properties\"));\n      class CustomInspectToolView extends inspect_tool_1.InspectToolView {\n          connect_signals() {\n              super.connect_signals();\n              this.connect(this.model.properties.active.change, () => {\n                  this.model._active = this.model.properties.active.spec.value;\n              });\n          }\n      }\n      exports.CustomInspectToolView = CustomInspectToolView;\n      CustomInspectToolView.__name__ = \"CustomInspectToolView\";\n      class CustomInspectTool extends inspect_tool_1.InspectTool {\n          constructor(attrs) {\n              super(attrs);\n          }\n          static init_CustomInspectTool() {\n              this.prototype.default_view = CustomInspectToolView;\n              this.define({\n                  _active: [p.Instance],\n                  icon: [p.String],\n                  tool_name: [p.String]\n              });\n          }\n      }\n      exports.CustomInspectTool = CustomInspectTool;\n      CustomInspectTool.__name__ = \"CustomInspectTool\";\n      CustomInspectTool.init_CustomInspectTool();\n      //# sourceMappingURL=graph_inspect_widget.py:CustomInspectTool.js.map\n      }\n      }, \"custom/main\");\n      ;\n      });\n\n    },\n    function(Bokeh) {} // ensure no trailing comma for IE\n  ];\n\n  function run_inline_js() {\n    if ((root.Bokeh !== undefined) || (force === true)) {\n      for (var i = 0; i < inline_js.length; i++) {\n        inline_js[i].call(root, root.Bokeh);\n      }} else if (Date.now() < root._bokeh_timeout) {\n      setTimeout(run_inline_js, 100);\n    } else if (!root._bokeh_failed_load) {\n      console.log(\"Bokeh: BokehJS failed to load within specified timeout.\");\n      root._bokeh_failed_load = true;\n    }\n  }\n\n  if (root._bokeh_is_loading === 0) {\n    console.debug(\"Bokeh: BokehJS loaded, going straight to plotting\");\n    run_inline_js();\n  } else {\n    load_libs(css_urls, js_urls, function() {\n      console.debug(\"Bokeh: BokehJS plotting callback run at\", now());\n      run_inline_js();\n    });\n  }\n}(window));"
     },
     "metadata": {},
     "output_type": "display_data"
    },
    {
     "data": {
      "application/javascript": [
       "\n",
       "if ((window.PyViz === undefined) || (window.PyViz instanceof HTMLElement)) {\n",
       "  window.PyViz = {comms: {}, comm_status:{}, kernels:{}, receivers: {}, plot_index: []}\n",
       "}\n",
       "\n",
       "\n",
       "    function JupyterCommManager() {\n",
       "    }\n",
       "\n",
       "    JupyterCommManager.prototype.register_target = function(plot_id, comm_id, msg_handler) {\n",
       "      if (window.comm_manager || ((window.Jupyter !== undefined) && (Jupyter.notebook.kernel != null))) {\n",
       "        var comm_manager = window.comm_manager || Jupyter.notebook.kernel.comm_manager;\n",
       "        comm_manager.register_target(comm_id, function(comm) {\n",
       "          comm.on_msg(msg_handler);\n",
       "        });\n",
       "      } else if ((plot_id in window.PyViz.kernels) && (window.PyViz.kernels[plot_id])) {\n",
       "        window.PyViz.kernels[plot_id].registerCommTarget(comm_id, function(comm) {\n",
       "          comm.onMsg = msg_handler;\n",
       "        });\n",
       "      } else if (typeof google != 'undefined' && google.colab.kernel != null) {\n",
       "        google.colab.kernel.comms.registerTarget(comm_id, (comm) => {\n",
       "          var messages = comm.messages[Symbol.asyncIterator]();\n",
       "          function processIteratorResult(result) {\n",
       "            var message = result.value;\n",
       "            console.log(message)\n",
       "            var content = {data: message.data, comm_id};\n",
       "            var buffers = []\n",
       "            for (var buffer of message.buffers || []) {\n",
       "              buffers.push(new DataView(buffer))\n",
       "            }\n",
       "            var metadata = message.metadata || {};\n",
       "            var msg = {content, buffers, metadata}\n",
       "            msg_handler(msg);\n",
       "            return messages.next().then(processIteratorResult);\n",
       "          }\n",
       "          return messages.next().then(processIteratorResult);\n",
       "        })\n",
       "      }\n",
       "    }\n",
       "\n",
       "    JupyterCommManager.prototype.get_client_comm = function(plot_id, comm_id, msg_handler) {\n",
       "      if (comm_id in window.PyViz.comms) {\n",
       "        return window.PyViz.comms[comm_id];\n",
       "      } else if (window.comm_manager || ((window.Jupyter !== undefined) && (Jupyter.notebook.kernel != null))) {\n",
       "        var comm_manager = window.comm_manager || Jupyter.notebook.kernel.comm_manager;\n",
       "        var comm = comm_manager.new_comm(comm_id, {}, {}, {}, comm_id);\n",
       "        if (msg_handler) {\n",
       "          comm.on_msg(msg_handler);\n",
       "        }\n",
       "      } else if ((plot_id in window.PyViz.kernels) && (window.PyViz.kernels[plot_id])) {\n",
       "        var comm = window.PyViz.kernels[plot_id].connectToComm(comm_id);\n",
       "        comm.open();\n",
       "        if (msg_handler) {\n",
       "          comm.onMsg = msg_handler;\n",
       "        }\n",
       "      } else if (typeof google != 'undefined' && google.colab.kernel != null) {\n",
       "        var comm_promise = google.colab.kernel.comms.open(comm_id)\n",
       "        comm_promise.then((comm) => {\n",
       "          window.PyViz.comms[comm_id] = comm;\n",
       "          if (msg_handler) {\n",
       "            var messages = comm.messages[Symbol.asyncIterator]();\n",
       "            function processIteratorResult(result) {\n",
       "              var message = result.value;\n",
       "              var content = {data: message.data};\n",
       "              var metadata = message.metadata || {comm_id};\n",
       "              var msg = {content, metadata}\n",
       "              msg_handler(msg);\n",
       "              return messages.next().then(processIteratorResult);\n",
       "            }\n",
       "            return messages.next().then(processIteratorResult);\n",
       "          }\n",
       "        }) \n",
       "        var sendClosure = (data, metadata, buffers, disposeOnDone) => {\n",
       "          return comm_promise.then((comm) => {\n",
       "            comm.send(data, metadata, buffers, disposeOnDone);\n",
       "          });\n",
       "        };\n",
       "        var comm = {\n",
       "          send: sendClosure\n",
       "        };\n",
       "      }\n",
       "      window.PyViz.comms[comm_id] = comm;\n",
       "      return comm;\n",
       "    }\n",
       "    window.PyViz.comm_manager = new JupyterCommManager();\n",
       "    \n",
       "\n",
       "\n",
       "var JS_MIME_TYPE = 'application/javascript';\n",
       "var HTML_MIME_TYPE = 'text/html';\n",
       "var EXEC_MIME_TYPE = 'application/vnd.holoviews_exec.v0+json';\n",
       "var CLASS_NAME = 'output';\n",
       "\n",
       "/**\n",
       " * Render data to the DOM node\n",
       " */\n",
       "function render(props, node) {\n",
       "  var div = document.createElement(\"div\");\n",
       "  var script = document.createElement(\"script\");\n",
       "  node.appendChild(div);\n",
       "  node.appendChild(script);\n",
       "}\n",
       "\n",
       "/**\n",
       " * Handle when a new output is added\n",
       " */\n",
       "function handle_add_output(event, handle) {\n",
       "  var output_area = handle.output_area;\n",
       "  var output = handle.output;\n",
       "  if ((output.data == undefined) || (!output.data.hasOwnProperty(EXEC_MIME_TYPE))) {\n",
       "    return\n",
       "  }\n",
       "  var id = output.metadata[EXEC_MIME_TYPE][\"id\"];\n",
       "  var toinsert = output_area.element.find(\".\" + CLASS_NAME.split(' ')[0]);\n",
       "  if (id !== undefined) {\n",
       "    var nchildren = toinsert.length;\n",
       "    var html_node = toinsert[nchildren-1].children[0];\n",
       "    html_node.innerHTML = output.data[HTML_MIME_TYPE];\n",
       "    var scripts = [];\n",
       "    var nodelist = html_node.querySelectorAll(\"script\");\n",
       "    for (var i in nodelist) {\n",
       "      if (nodelist.hasOwnProperty(i)) {\n",
       "        scripts.push(nodelist[i])\n",
       "      }\n",
       "    }\n",
       "\n",
       "    scripts.forEach( function (oldScript) {\n",
       "      var newScript = document.createElement(\"script\");\n",
       "      var attrs = [];\n",
       "      var nodemap = oldScript.attributes;\n",
       "      for (var j in nodemap) {\n",
       "        if (nodemap.hasOwnProperty(j)) {\n",
       "          attrs.push(nodemap[j])\n",
       "        }\n",
       "      }\n",
       "      attrs.forEach(function(attr) { newScript.setAttribute(attr.name, attr.value) });\n",
       "      newScript.appendChild(document.createTextNode(oldScript.innerHTML));\n",
       "      oldScript.parentNode.replaceChild(newScript, oldScript);\n",
       "    });\n",
       "    if (JS_MIME_TYPE in output.data) {\n",
       "      toinsert[nchildren-1].children[1].textContent = output.data[JS_MIME_TYPE];\n",
       "    }\n",
       "    output_area._hv_plot_id = id;\n",
       "    if ((window.Bokeh !== undefined) && (id in Bokeh.index)) {\n",
       "      window.PyViz.plot_index[id] = Bokeh.index[id];\n",
       "    } else {\n",
       "      window.PyViz.plot_index[id] = null;\n",
       "    }\n",
       "  } else if (output.metadata[EXEC_MIME_TYPE][\"server_id\"] !== undefined) {\n",
       "    var bk_div = document.createElement(\"div\");\n",
       "    bk_div.innerHTML = output.data[HTML_MIME_TYPE];\n",
       "    var script_attrs = bk_div.children[0].attributes;\n",
       "    for (var i = 0; i < script_attrs.length; i++) {\n",
       "      toinsert[toinsert.length - 1].childNodes[1].setAttribute(script_attrs[i].name, script_attrs[i].value);\n",
       "    }\n",
       "    // store reference to server id on output_area\n",
       "    output_area._bokeh_server_id = output.metadata[EXEC_MIME_TYPE][\"server_id\"];\n",
       "  }\n",
       "}\n",
       "\n",
       "/**\n",
       " * Handle when an output is cleared or removed\n",
       " */\n",
       "function handle_clear_output(event, handle) {\n",
       "  var id = handle.cell.output_area._hv_plot_id;\n",
       "  var server_id = handle.cell.output_area._bokeh_server_id;\n",
       "  if (((id === undefined) || !(id in PyViz.plot_index)) && (server_id !== undefined)) { return; }\n",
       "  var comm = window.PyViz.comm_manager.get_client_comm(\"hv-extension-comm\", \"hv-extension-comm\", function () {});\n",
       "  if (server_id !== null) {\n",
       "    comm.send({event_type: 'server_delete', 'id': server_id});\n",
       "    return;\n",
       "  } else if (comm !== null) {\n",
       "    comm.send({event_type: 'delete', 'id': id});\n",
       "  }\n",
       "  delete PyViz.plot_index[id];\n",
       "  if ((window.Bokeh !== undefined) & (id in window.Bokeh.index)) {\n",
       "    var doc = window.Bokeh.index[id].model.document\n",
       "    doc.clear();\n",
       "    const i = window.Bokeh.documents.indexOf(doc);\n",
       "    if (i > -1) {\n",
       "      window.Bokeh.documents.splice(i, 1);\n",
       "    }\n",
       "  }\n",
       "}\n",
       "\n",
       "/**\n",
       " * Handle kernel restart event\n",
       " */\n",
       "function handle_kernel_cleanup(event, handle) {\n",
       "  delete PyViz.comms[\"hv-extension-comm\"];\n",
       "  window.PyViz.plot_index = {}\n",
       "}\n",
       "\n",
       "/**\n",
       " * Handle update_display_data messages\n",
       " */\n",
       "function handle_update_output(event, handle) {\n",
       "  handle_clear_output(event, {cell: {output_area: handle.output_area}})\n",
       "  handle_add_output(event, handle)\n",
       "}\n",
       "\n",
       "function register_renderer(events, OutputArea) {\n",
       "  function append_mime(data, metadata, element) {\n",
       "    // create a DOM node to render to\n",
       "    var toinsert = this.create_output_subarea(\n",
       "    metadata,\n",
       "    CLASS_NAME,\n",
       "    EXEC_MIME_TYPE\n",
       "    );\n",
       "    this.keyboard_manager.register_events(toinsert);\n",
       "    // Render to node\n",
       "    var props = {data: data, metadata: metadata[EXEC_MIME_TYPE]};\n",
       "    render(props, toinsert[0]);\n",
       "    element.append(toinsert);\n",
       "    return toinsert\n",
       "  }\n",
       "\n",
       "  events.on('output_added.OutputArea', handle_add_output);\n",
       "  events.on('output_updated.OutputArea', handle_update_output);\n",
       "  events.on('clear_output.CodeCell', handle_clear_output);\n",
       "  events.on('delete.Cell', handle_clear_output);\n",
       "  events.on('kernel_ready.Kernel', handle_kernel_cleanup);\n",
       "\n",
       "  OutputArea.prototype.register_mime_type(EXEC_MIME_TYPE, append_mime, {\n",
       "    safe: true,\n",
       "    index: 0\n",
       "  });\n",
       "}\n",
       "\n",
       "if (window.Jupyter !== undefined) {\n",
       "  try {\n",
       "    var events = require('base/js/events');\n",
       "    var OutputArea = require('notebook/js/outputarea').OutputArea;\n",
       "    if (OutputArea.prototype.mime_types().indexOf(EXEC_MIME_TYPE) == -1) {\n",
       "      register_renderer(events, OutputArea);\n",
       "    }\n",
       "  } catch(err) {\n",
       "  }\n",
       "}\n"
      ],
      "application/vnd.holoviews_load.v0+json": "\nif ((window.PyViz === undefined) || (window.PyViz instanceof HTMLElement)) {\n  window.PyViz = {comms: {}, comm_status:{}, kernels:{}, receivers: {}, plot_index: []}\n}\n\n\n    function JupyterCommManager() {\n    }\n\n    JupyterCommManager.prototype.register_target = function(plot_id, comm_id, msg_handler) {\n      if (window.comm_manager || ((window.Jupyter !== undefined) && (Jupyter.notebook.kernel != null))) {\n        var comm_manager = window.comm_manager || Jupyter.notebook.kernel.comm_manager;\n        comm_manager.register_target(comm_id, function(comm) {\n          comm.on_msg(msg_handler);\n        });\n      } else if ((plot_id in window.PyViz.kernels) && (window.PyViz.kernels[plot_id])) {\n        window.PyViz.kernels[plot_id].registerCommTarget(comm_id, function(comm) {\n          comm.onMsg = msg_handler;\n        });\n      } else if (typeof google != 'undefined' && google.colab.kernel != null) {\n        google.colab.kernel.comms.registerTarget(comm_id, (comm) => {\n          var messages = comm.messages[Symbol.asyncIterator]();\n          function processIteratorResult(result) {\n            var message = result.value;\n            console.log(message)\n            var content = {data: message.data, comm_id};\n            var buffers = []\n            for (var buffer of message.buffers || []) {\n              buffers.push(new DataView(buffer))\n            }\n            var metadata = message.metadata || {};\n            var msg = {content, buffers, metadata}\n            msg_handler(msg);\n            return messages.next().then(processIteratorResult);\n          }\n          return messages.next().then(processIteratorResult);\n        })\n      }\n    }\n\n    JupyterCommManager.prototype.get_client_comm = function(plot_id, comm_id, msg_handler) {\n      if (comm_id in window.PyViz.comms) {\n        return window.PyViz.comms[comm_id];\n      } else if (window.comm_manager || ((window.Jupyter !== undefined) && (Jupyter.notebook.kernel != null))) {\n        var comm_manager = window.comm_manager || Jupyter.notebook.kernel.comm_manager;\n        var comm = comm_manager.new_comm(comm_id, {}, {}, {}, comm_id);\n        if (msg_handler) {\n          comm.on_msg(msg_handler);\n        }\n      } else if ((plot_id in window.PyViz.kernels) && (window.PyViz.kernels[plot_id])) {\n        var comm = window.PyViz.kernels[plot_id].connectToComm(comm_id);\n        comm.open();\n        if (msg_handler) {\n          comm.onMsg = msg_handler;\n        }\n      } else if (typeof google != 'undefined' && google.colab.kernel != null) {\n        var comm_promise = google.colab.kernel.comms.open(comm_id)\n        comm_promise.then((comm) => {\n          window.PyViz.comms[comm_id] = comm;\n          if (msg_handler) {\n            var messages = comm.messages[Symbol.asyncIterator]();\n            function processIteratorResult(result) {\n              var message = result.value;\n              var content = {data: message.data};\n              var metadata = message.metadata || {comm_id};\n              var msg = {content, metadata}\n              msg_handler(msg);\n              return messages.next().then(processIteratorResult);\n            }\n            return messages.next().then(processIteratorResult);\n          }\n        }) \n        var sendClosure = (data, metadata, buffers, disposeOnDone) => {\n          return comm_promise.then((comm) => {\n            comm.send(data, metadata, buffers, disposeOnDone);\n          });\n        };\n        var comm = {\n          send: sendClosure\n        };\n      }\n      window.PyViz.comms[comm_id] = comm;\n      return comm;\n    }\n    window.PyViz.comm_manager = new JupyterCommManager();\n    \n\n\nvar JS_MIME_TYPE = 'application/javascript';\nvar HTML_MIME_TYPE = 'text/html';\nvar EXEC_MIME_TYPE = 'application/vnd.holoviews_exec.v0+json';\nvar CLASS_NAME = 'output';\n\n/**\n * Render data to the DOM node\n */\nfunction render(props, node) {\n  var div = document.createElement(\"div\");\n  var script = document.createElement(\"script\");\n  node.appendChild(div);\n  node.appendChild(script);\n}\n\n/**\n * Handle when a new output is added\n */\nfunction handle_add_output(event, handle) {\n  var output_area = handle.output_area;\n  var output = handle.output;\n  if ((output.data == undefined) || (!output.data.hasOwnProperty(EXEC_MIME_TYPE))) {\n    return\n  }\n  var id = output.metadata[EXEC_MIME_TYPE][\"id\"];\n  var toinsert = output_area.element.find(\".\" + CLASS_NAME.split(' ')[0]);\n  if (id !== undefined) {\n    var nchildren = toinsert.length;\n    var html_node = toinsert[nchildren-1].children[0];\n    html_node.innerHTML = output.data[HTML_MIME_TYPE];\n    var scripts = [];\n    var nodelist = html_node.querySelectorAll(\"script\");\n    for (var i in nodelist) {\n      if (nodelist.hasOwnProperty(i)) {\n        scripts.push(nodelist[i])\n      }\n    }\n\n    scripts.forEach( function (oldScript) {\n      var newScript = document.createElement(\"script\");\n      var attrs = [];\n      var nodemap = oldScript.attributes;\n      for (var j in nodemap) {\n        if (nodemap.hasOwnProperty(j)) {\n          attrs.push(nodemap[j])\n        }\n      }\n      attrs.forEach(function(attr) { newScript.setAttribute(attr.name, attr.value) });\n      newScript.appendChild(document.createTextNode(oldScript.innerHTML));\n      oldScript.parentNode.replaceChild(newScript, oldScript);\n    });\n    if (JS_MIME_TYPE in output.data) {\n      toinsert[nchildren-1].children[1].textContent = output.data[JS_MIME_TYPE];\n    }\n    output_area._hv_plot_id = id;\n    if ((window.Bokeh !== undefined) && (id in Bokeh.index)) {\n      window.PyViz.plot_index[id] = Bokeh.index[id];\n    } else {\n      window.PyViz.plot_index[id] = null;\n    }\n  } else if (output.metadata[EXEC_MIME_TYPE][\"server_id\"] !== undefined) {\n    var bk_div = document.createElement(\"div\");\n    bk_div.innerHTML = output.data[HTML_MIME_TYPE];\n    var script_attrs = bk_div.children[0].attributes;\n    for (var i = 0; i < script_attrs.length; i++) {\n      toinsert[toinsert.length - 1].childNodes[1].setAttribute(script_attrs[i].name, script_attrs[i].value);\n    }\n    // store reference to server id on output_area\n    output_area._bokeh_server_id = output.metadata[EXEC_MIME_TYPE][\"server_id\"];\n  }\n}\n\n/**\n * Handle when an output is cleared or removed\n */\nfunction handle_clear_output(event, handle) {\n  var id = handle.cell.output_area._hv_plot_id;\n  var server_id = handle.cell.output_area._bokeh_server_id;\n  if (((id === undefined) || !(id in PyViz.plot_index)) && (server_id !== undefined)) { return; }\n  var comm = window.PyViz.comm_manager.get_client_comm(\"hv-extension-comm\", \"hv-extension-comm\", function () {});\n  if (server_id !== null) {\n    comm.send({event_type: 'server_delete', 'id': server_id});\n    return;\n  } else if (comm !== null) {\n    comm.send({event_type: 'delete', 'id': id});\n  }\n  delete PyViz.plot_index[id];\n  if ((window.Bokeh !== undefined) & (id in window.Bokeh.index)) {\n    var doc = window.Bokeh.index[id].model.document\n    doc.clear();\n    const i = window.Bokeh.documents.indexOf(doc);\n    if (i > -1) {\n      window.Bokeh.documents.splice(i, 1);\n    }\n  }\n}\n\n/**\n * Handle kernel restart event\n */\nfunction handle_kernel_cleanup(event, handle) {\n  delete PyViz.comms[\"hv-extension-comm\"];\n  window.PyViz.plot_index = {}\n}\n\n/**\n * Handle update_display_data messages\n */\nfunction handle_update_output(event, handle) {\n  handle_clear_output(event, {cell: {output_area: handle.output_area}})\n  handle_add_output(event, handle)\n}\n\nfunction register_renderer(events, OutputArea) {\n  function append_mime(data, metadata, element) {\n    // create a DOM node to render to\n    var toinsert = this.create_output_subarea(\n    metadata,\n    CLASS_NAME,\n    EXEC_MIME_TYPE\n    );\n    this.keyboard_manager.register_events(toinsert);\n    // Render to node\n    var props = {data: data, metadata: metadata[EXEC_MIME_TYPE]};\n    render(props, toinsert[0]);\n    element.append(toinsert);\n    return toinsert\n  }\n\n  events.on('output_added.OutputArea', handle_add_output);\n  events.on('output_updated.OutputArea', handle_update_output);\n  events.on('clear_output.CodeCell', handle_clear_output);\n  events.on('delete.Cell', handle_clear_output);\n  events.on('kernel_ready.Kernel', handle_kernel_cleanup);\n\n  OutputArea.prototype.register_mime_type(EXEC_MIME_TYPE, append_mime, {\n    safe: true,\n    index: 0\n  });\n}\n\nif (window.Jupyter !== undefined) {\n  try {\n    var events = require('base/js/events');\n    var OutputArea = require('notebook/js/outputarea').OutputArea;\n    if (OutputArea.prototype.mime_types().indexOf(EXEC_MIME_TYPE) == -1) {\n      register_renderer(events, OutputArea);\n    }\n  } catch(err) {\n  }\n}\n"
     },
     "metadata": {},
     "output_type": "display_data"
    },
    {
     "data": {},
     "metadata": {},
     "output_type": "display_data"
    },
    {
     "data": {
      "application/vnd.holoviews_exec.v0+json": "",
      "text/html": [
       "<div id='1270'>\n",
       "\n",
       "\n",
       "\n",
       "\n",
       "\n",
       "  <div class=\"bk-root\" id=\"8dcec677-9b90-420b-8fd8-0beaa14ddc72\" data-root-id=\"1270\"></div>\n",
       "</div>\n",
       "<script type=\"application/javascript\">(function(root) {\n",
       "  function embed_document(root) {\n",
       "    var docs_json = {\"238ba57e-9e9a-45a5-8e67-1f07910fb7a9\":{\"roots\":{\"references\":[{\"attributes\":{\"css_classes\":[\"card-title\"],\"margin\":[2,5,2,5],\"name\":\"HTML00049\",\"sizing_mode\":\"stretch_width\",\"text\":\"x\"},\"id\":\"1272\",\"type\":\"panel.models.markup.HTML\"},{\"attributes\":{},\"id\":\"1242\",\"type\":\"DataRange1d\"},{\"attributes\":{},\"id\":\"1246\",\"type\":\"LinearScale\"},{\"attributes\":{},\"id\":\"1259\",\"type\":\"WheelZoomTool\"},{\"attributes\":{\"end\":3645,\"format\":\"0[.]00\",\"margin\":[5,10,5,10],\"sizing_mode\":\"scale_width\",\"start\":0,\"value\":[0,3645],\"value_throttled\":[0,3645],\"width\":400},\"id\":\"1289\",\"type\":\"RangeSlider\"},{\"attributes\":{\"active_header_background\":\"\",\"button_css_classes\":[\"card-button\"],\"children\":[{\"id\":\"1271\"},{\"id\":\"1241\"},{\"id\":\"1289\"}],\"collapsed\":false,\"css_classes\":[\"card\"],\"header_background\":\"\",\"header_color\":\"\",\"header_css_classes\":[\"card-header\"],\"margin\":[5,5,5,5],\"name\":\"Card00048\",\"sizing_mode\":\"stretch_both\",\"width\":400},\"id\":\"1270\",\"type\":\"panel.models.layout.Card\"},{\"attributes\":{},\"id\":\"1244\",\"type\":\"DataRange1d\"},{\"attributes\":{\"formatter\":{\"id\":\"1278\"},\"ticker\":{\"id\":\"1255\"}},\"id\":\"1254\",\"type\":\"LinearAxis\"},{\"attributes\":{},\"id\":\"1260\",\"type\":\"ResetTool\"},{\"attributes\":{\"axis\":{\"id\":\"1250\"},\"ticker\":null},\"id\":\"1253\",\"type\":\"Grid\"},{\"attributes\":{\"active_drag\":{\"id\":\"1258\"},\"active_inspect\":\"auto\",\"active_multi\":null,\"active_scroll\":{\"id\":\"1259\"},\"active_tap\":\"auto\",\"tools\":[{\"id\":\"1258\"},{\"id\":\"1259\"},{\"id\":\"1260\"}]},\"id\":\"1261\",\"type\":\"Toolbar\"},{\"attributes\":{\"below\":[{\"id\":\"1250\"}],\"center\":[{\"id\":\"1253\"},{\"id\":\"1257\"}],\"left\":[{\"id\":\"1254\"}],\"renderers\":[{\"id\":\"1268\"}],\"subscribed_events\":[\"reset\"],\"title\":{\"id\":\"1274\"},\"toolbar\":{\"id\":\"1261\"},\"x_range\":{\"id\":\"1242\"},\"x_scale\":{\"id\":\"1246\"},\"y_range\":{\"id\":\"1244\"},\"y_scale\":{\"id\":\"1248\"}},\"id\":\"1241\",\"subtype\":\"Figure\",\"type\":\"Plot\"},{\"attributes\":{},\"id\":\"1280\",\"type\":\"Selection\"},{\"attributes\":{\"data\":{\"x\":{\"__ndarray__\":\"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\",\"dtype\":\"float64\",\"order\":\"little\",\"shape\":[3646]},\"y\":{\"__ndarray__\":\"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\",\"dtype\":\"float64\",\"order\":\"little\",\"shape\":[3646]}},\"selected\":{\"id\":\"1280\"},\"selection_policy\":{\"id\":\"1279\"}},\"id\":\"1240\",\"type\":\"ColumnDataSource\"},{\"attributes\":{\"line_alpha\":0.1,\"line_color\":\"#1f77b4\",\"x\":{\"field\":\"x\"},\"y\":{\"field\":\"y\"}},\"id\":\"1267\",\"type\":\"Line\"},{\"attributes\":{},\"id\":\"1278\",\"type\":\"BasicTickFormatter\"},{\"attributes\":{},\"id\":\"1248\",\"type\":\"LinearScale\"},{\"attributes\":{\"line_color\":\"#1f77b4\",\"x\":{\"field\":\"x\"},\"y\":{\"field\":\"y\"}},\"id\":\"1266\",\"type\":\"Line\"},{\"attributes\":{},\"id\":\"1258\",\"type\":\"PanTool\"},{\"attributes\":{\"text\":\"\"},\"id\":\"1274\",\"type\":\"Title\"},{\"attributes\":{\"source\":{\"id\":\"1240\"}},\"id\":\"1269\",\"type\":\"CDSView\"},{\"attributes\":{\"formatter\":{\"id\":\"1276\"},\"ticker\":{\"id\":\"1251\"}},\"id\":\"1250\",\"type\":\"LinearAxis\"},{\"attributes\":{\"client_comm_id\":\"2bf988fe87974147932e8d143bb92bdc\",\"comm_id\":\"fa5a322b731849f0aadd64d8d8fb818e\",\"plot_id\":\"1270\"},\"id\":\"1314\",\"type\":\"panel.models.comm_manager.CommManager\"},{\"attributes\":{\"axis\":{\"id\":\"1254\"},\"dimension\":1,\"ticker\":null},\"id\":\"1257\",\"type\":\"Grid\"},{\"attributes\":{\"children\":[{\"id\":\"1272\"}],\"css_classes\":[\"card-header-row\"],\"margin\":[0,0,0,0],\"name\":\"Row00047\",\"sizing_mode\":\"stretch_width\"},\"id\":\"1271\",\"type\":\"Row\"},{\"attributes\":{},\"id\":\"1255\",\"type\":\"BasicTicker\"},{\"attributes\":{\"data_source\":{\"id\":\"1240\"},\"glyph\":{\"id\":\"1266\"},\"hover_glyph\":null,\"muted_glyph\":null,\"nonselection_glyph\":{\"id\":\"1267\"},\"selection_glyph\":null,\"view\":{\"id\":\"1269\"}},\"id\":\"1268\",\"type\":\"GlyphRenderer\"},{\"attributes\":{},\"id\":\"1251\",\"type\":\"BasicTicker\"},{\"attributes\":{},\"id\":\"1276\",\"type\":\"BasicTickFormatter\"},{\"attributes\":{},\"id\":\"1279\",\"type\":\"UnionRenderers\"}],\"root_ids\":[\"1270\",\"1314\"]},\"title\":\"Bokeh Application\",\"version\":\"2.2.3\"}};\n",
       "    var render_items = [{\"docid\":\"238ba57e-9e9a-45a5-8e67-1f07910fb7a9\",\"root_ids\":[\"1270\"],\"roots\":{\"1270\":\"8dcec677-9b90-420b-8fd8-0beaa14ddc72\"}}];\n",
       "    root.Bokeh.embed.embed_items_notebook(docs_json, render_items);\n",
       "  }\n",
       "  if (root.Bokeh !== undefined && root.Bokeh.Panel !== undefined && root['deck'] !== undefined ) {\n",
       "    embed_document(root);\n",
       "  } else {\n",
       "    var attempts = 0;\n",
       "    var timer = setInterval(function(root) {\n",
       "      if (root.Bokeh !== undefined && root.Bokeh.Panel !== undefined && root['deck'] !== undefined) {\n",
       "        clearInterval(timer);\n",
       "        embed_document(root);\n",
       "      } else if (document.readyState == \"complete\") {\n",
       "        attempts++;\n",
       "        if (attempts > 100) {\n",
       "          clearInterval(timer);\n",
       "          console.log(\"Bokeh: ERROR: Unable to run BokehJS code because BokehJS library is missing\");\n",
       "        }\n",
       "      }\n",
       "    }, 10, root)\n",
       "  }\n",
       "})(window);</script>"
      ],
      "text/plain": [
       "Card(sizing_mode='stretch_both', title='x', width=400)\n",
       "    [0] Bokeh(Figure)\n",
       "    [1] RangeSlider(end=3645, sizing_mode='scale_width', step=1, value=(0, 3645), value_throttled=(0, 3645), width=400)"
      ]
     },
     "execution_count": 26,
     "metadata": {
      "application/vnd.holoviews_exec.v0+json": {
       "id": "1270"
      }
     },
     "output_type": "execute_result"
    }
   ],
   "source": [
    "cux_df = DataFrame.from_dataframe(reshaped_df)\n",
    "\n",
    "line_chart_3 = line(x='x',y='y')\n",
    "\n",
    "d = cux_df.dashboard([line_chart_3])\n",
    "line_chart_3.view()"
   ]
  },
  {
   "cell_type": "markdown",
   "metadata": {},
   "source": [
    "In this plot, we can see that the rolling Z-scores mostly vary between -2 and 2. This view may help us select a threshold."
   ]
  },
  {
   "cell_type": "markdown",
   "metadata": {},
   "source": [
    "Convert the data back into a CuPy array"
   ]
  },
  {
   "cell_type": "code",
   "execution_count": 27,
   "metadata": {},
   "outputs": [],
   "source": [
    "rzn=cp.fromDlpack(rz.to_dlpack())"
   ]
  },
  {
   "cell_type": "code",
   "execution_count": 28,
   "metadata": {},
   "outputs": [
    {
     "data": {
      "text/plain": [
       "array([-1.28074544, -1.10127388, -0.73700588, ...,  0.50717802,\n",
       "       -1.70275054,  1.10107965])"
      ]
     },
     "execution_count": 28,
     "metadata": {},
     "output_type": "execute_result"
    }
   ],
   "source": [
    "rzn"
   ]
  },
  {
   "cell_type": "markdown",
   "metadata": {},
   "source": [
    "#### Select a rolling z score threshold"
   ]
  },
  {
   "cell_type": "markdown",
   "metadata": {},
   "source": [
    "This threshold should be adjusted according to the nature of each dataset. For this dataset, we will select the rolling z-score threshold as 1.99, and will mark any value that exceeds this as an anomaly. "
   ]
  },
  {
   "cell_type": "code",
   "execution_count": 29,
   "metadata": {},
   "outputs": [],
   "source": [
    "rz_threshold=1.99"
   ]
  },
  {
   "cell_type": "code",
   "execution_count": 30,
   "metadata": {},
   "outputs": [
    {
     "data": {
      "text/plain": [
       "2"
      ]
     },
     "execution_count": 30,
     "metadata": {},
     "output_type": "execute_result"
    }
   ],
   "source": [
    "len(rzn[abs(rzn)>rz_threshold])"
   ]
  },
  {
   "cell_type": "markdown",
   "metadata": {},
   "source": [
    "Indices of the outliers:"
   ]
  },
  {
   "cell_type": "code",
   "execution_count": 31,
   "metadata": {},
   "outputs": [
    {
     "data": {
      "text/plain": [
       "array([[1079],\n",
       "       [1806]])"
      ]
     },
     "execution_count": 31,
     "metadata": {},
     "output_type": "execute_result"
    }
   ],
   "source": [
    "cp.argwhere(abs(rzn)>1.99)"
   ]
  },
  {
   "cell_type": "markdown",
   "metadata": {},
   "source": [
    "## Conclusion"
   ]
  },
  {
   "cell_type": "markdown",
   "metadata": {},
   "source": [
    "We have identified two outliers when rolling z-score threshold is selected 1.99 and returned the indices of the outliers. This work can be expanded as a monitoring tool for time-series data in the cyber domain and to highlight the anomalies."
   ]
  },
  {
   "cell_type": "markdown",
   "metadata": {},
   "source": [
    "## References"
   ]
  },
  {
   "cell_type": "markdown",
   "metadata": {},
   "source": [
    "##### Rasheed, Peng, Alhajj, Rokne, Jon: Fourier Transform Based Spatial Outlier Mining, 2009\n",
    "##### BRIGHAN, 1974, The Fast Fourier Transform\n",
    "##### MULGREW, GRANT, THOMPSON, 1997, Digital Signal Processing\n",
    "##### OPPENHEIM, 1997, Signals & Systems"
   ]
  }
 ],
 "metadata": {
  "kernelspec": {
   "display_name": "Python 3",
   "language": "python",
   "name": "python3"
  },
  "language_info": {
   "codemirror_mode": {
    "name": "ipython",
    "version": 3
   },
   "file_extension": ".py",
   "mimetype": "text/x-python",
   "name": "python",
   "nbconvert_exporter": "python",
   "pygments_lexer": "ipython3",
   "version": "3.7.10"
  }
 },
 "nbformat": 4,
 "nbformat_minor": 4
}
