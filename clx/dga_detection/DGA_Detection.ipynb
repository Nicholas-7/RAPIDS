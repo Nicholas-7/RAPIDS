{
 "cells": [
  {
   "cell_type": "markdown",
   "metadata": {},
   "source": [
    "# Domain Generation Algorithm (DGA) Detection\n",
    "\n",
    "## Authors\n",
    " - Gorkem Batmaz (NVIDIA) [gbatmaz@nvidia.com]\n",
    " - Bhargav Suryadevara (NVIDIA) [bsuryadevara@nvidia.com]\n",
    "\n",
    "## Development Notes\n",
    "* Developed using: RAPIDS v0.12.0 and CLX v0.12\n",
    "* Last tested using: RAPIDS v0.12.0 and CLX v0.12 on Jan 28, 2020\n",
    "\n",
    "## Table of Contents\n",
    "* Introduction\n",
    "* Data Importing\n",
    "* Data Preprocessing\n",
    "* Training and Evaluation\n",
    "* Inference\n",
    "* Conclusion\n",
    "\n",
    "## Introduction\n",
    "[Domain Generation Algorithms](https://en.wikipedia.org/wiki/Domain_generation_algorithm) (DGAs) are used to generate domain names that can be used by the malware to communicate with the command and control servers. IP addresses and static domain names can be easily blocked, and a DGA provides an easy method to generate a large number of domain names and rotate through them to circumvent traditional block lists. We will use a type of recurrent neural network called the [Gated Recurrent Unit](https://towardsdatascience.com/illustrated-guide-to-lstms-and-gru-s-a-step-by-step-explanation-44e9eb85bf21) (GRU) for this example. The [CLX](https://github.com/rapidsai/clx) and [RAPIDS](https://rapids.ai) libraries enable users train their models with up-to-date domain names representative of both benign and DGA generated strings. Using a CLX workflow, this capability could also be used in production. This notebook provides a view into the data science workflow to create a DGA detection implementation."
   ]
  },
  {
   "cell_type": "code",
   "execution_count": 1,
   "metadata": {},
   "outputs": [],
   "source": [
    "import os\n",
    "import cudf\n",
    "import torch\n",
    "try:\n",
    "    import s3fs \n",
    "except ImportError:\n",
    "    !conda install -c conda-forge -y s3fs \n",
    "\n",
    "try:\n",
    "    import clx\n",
    "except ImportError:\n",
    "    !conda install -c conda-forge -y clx\n",
    "import numpy as np\n",
    "from datetime import datetime\n",
    "from sklearn.metrics import accuracy_score, average_precision_score\n",
    "from clx.analytics.dga_detector import DGADetector\n",
    "from clx.utils.data.dataloader import DataLoader\n",
    "from clx.analytics.dga_dataset import DGADataset\n",
    "from cuml.preprocessing.model_selection import train_test_split"
   ]
  },
  {
   "cell_type": "markdown",
   "metadata": {},
   "source": [
    "#### Download Input Dataset from S3"
   ]
  },
  {
   "cell_type": "code",
   "execution_count": 2,
   "metadata": {},
   "outputs": [],
   "source": [
    "INPUT_CSV = \"benign_and_dga_domains.csv\"\n",
    "\n",
    "S3_BASE_PATH = \"rapidsai-data/cyber/clx\""
   ]
  },
  {
   "cell_type": "code",
   "execution_count": 3,
   "metadata": {},
   "outputs": [],
   "source": [
    "# Read Benign and DGA dataset\n",
    "if not os.path.exists(INPUT_CSV):\n",
    "    fs = s3fs.S3FileSystem(anon=True)\n",
    "    fs.get(S3_BASE_PATH + \"/\" + INPUT_CSV, INPUT_CSV)"
   ]
  },
  {
   "cell_type": "markdown",
   "metadata": {},
   "source": [
    "#### Load Input Dataset to GPU Dataframe"
   ]
  },
  {
   "cell_type": "code",
   "execution_count": 4,
   "metadata": {},
   "outputs": [],
   "source": [
    "gdf = cudf.read_csv(INPUT_CSV)"
   ]
  },
  {
   "cell_type": "code",
   "execution_count": 5,
   "metadata": {},
   "outputs": [],
   "source": [
    "train_data = gdf['domain']\n",
    "labels = gdf['type']"
   ]
  },
  {
   "cell_type": "markdown",
   "metadata": {},
   "source": [
    "Because we have only benign and DGA (malicious) categoriesm, the number of domain types need to be set to 2 (`N_DOMAIN_TYPE=2`). Vocabulary size(`CHAR_VOCAB`) is set to 128 ASCII characters. The values below set for `HIDDEN_SIZE`, `N_LAYERS` of the network, and the `LR` (Learning Rate) give an optimum balance for the network size and performance. They might need be set via experiments when working with other datasets."
   ]
  },
  {
   "cell_type": "code",
   "execution_count": 6,
   "metadata": {},
   "outputs": [],
   "source": [
    "LR = 0.001\n",
    "N_LAYERS = 3\n",
    "CHAR_VOCAB = 128\n",
    "HIDDEN_SIZE = 100\n",
    "N_DOMAIN_TYPE = 2"
   ]
  },
  {
   "cell_type": "markdown",
   "metadata": {},
   "source": [
    "#### Instantiate DGA Detector\n",
    "Now that the data is ready, the datasets are created, and we've set the parameters for the model, we can use the DGADetector method built into CLX to create and train the model."
   ]
  },
  {
   "cell_type": "code",
   "execution_count": 7,
   "metadata": {},
   "outputs": [],
   "source": [
    "dd = DGADetector(lr=LR)\n",
    "dd.init_model(n_layers=N_LAYERS, char_vocab=CHAR_VOCAB, hidden_size=HIDDEN_SIZE, n_domain_type=N_DOMAIN_TYPE)"
   ]
  },
  {
   "cell_type": "code",
   "execution_count": 8,
   "metadata": {},
   "outputs": [],
   "source": [
    "EPOCHS = 25\n",
    "TRAIN_SIZE = 0.7\n",
    "BATCH_SIZE = 10000\n",
    "MODELS_DIR = 'models'"
   ]
  },
  {
   "cell_type": "markdown",
   "metadata": {},
   "source": [
    "### Training and Evaluation\n",
    "Now we train and evaluate the model."
   ]
  },
  {
   "cell_type": "code",
   "execution_count": 9,
   "metadata": {},
   "outputs": [
    {
     "name": "stderr",
     "output_type": "stream",
     "text": [
      "Epoch:   0%|          | 0/25 [00:00<?, ?it/s]"
     ]
    },
    {
     "name": "stdout",
     "output_type": "stream",
     "text": [
      "[100000/1433083 (7%)]\tLoss: 7364.05\n",
      "[200000/1433083 (14%)]\tLoss: 5400.33\n",
      "[300000/1433083 (21%)]\tLoss: 4215.55\n",
      "[400000/1433083 (28%)]\tLoss: 3663.87\n",
      "[500000/1433083 (35%)]\tLoss: 3270.49\n",
      "[600000/1433083 (42%)]\tLoss: 2822.91\n",
      "[700000/1433083 (49%)]\tLoss: 2477.41\n",
      "[800000/1433083 (56%)]\tLoss: 2216.76\n",
      "[900000/1433083 (63%)]\tLoss: 2312.27\n",
      "[1000000/1433083 (70%)]\tLoss: 2191.70\n",
      "[1100000/1433083 (77%)]\tLoss: 2199.24\n",
      "[1200000/1433083 (84%)]\tLoss: 2122.65\n",
      "[1300000/1433083 (91%)]\tLoss: 2103.15\n",
      "[1400000/1433083 (98%)]\tLoss: 2132.46\n"
     ]
    },
    {
     "name": "stderr",
     "output_type": "stream",
     "text": [
      "Epoch:   4%|▍         | 1/25 [00:52<20:55, 52.33s/it]"
     ]
    },
    {
     "name": "stdout",
     "output_type": "stream",
     "text": [
      "Test set: Accuracy: 394755/614179 (0.6427360753135487)\n",
      "\n",
      "[100000/1433083 (7%)]\tLoss: 3530.86\n",
      "[200000/1433083 (14%)]\tLoss: 2592.37\n",
      "[300000/1433083 (21%)]\tLoss: 1920.32\n",
      "[400000/1433083 (28%)]\tLoss: 1653.18\n",
      "[500000/1433083 (35%)]\tLoss: 1444.90\n",
      "[600000/1433083 (42%)]\tLoss: 1236.99\n",
      "[700000/1433083 (49%)]\tLoss: 1081.38\n",
      "[800000/1433083 (56%)]\tLoss: 963.19\n",
      "[900000/1433083 (63%)]\tLoss: 919.00\n",
      "[1000000/1433083 (70%)]\tLoss: 914.44\n",
      "[1100000/1433083 (77%)]\tLoss: 970.36\n",
      "[1200000/1433083 (84%)]\tLoss: 963.97\n",
      "[1300000/1433083 (91%)]\tLoss: 1000.12\n",
      "[1400000/1433083 (98%)]\tLoss: 1086.15\n"
     ]
    },
    {
     "name": "stderr",
     "output_type": "stream",
     "text": [
      "Epoch:   8%|▊         | 2/25 [01:44<20:00, 52.21s/it]"
     ]
    },
    {
     "name": "stdout",
     "output_type": "stream",
     "text": [
      "Test set: Accuracy: 528598/614179 (0.8606578863816574)\n",
      "\n",
      "[100000/1433083 (7%)]\tLoss: 3085.34\n",
      "[200000/1433083 (14%)]\tLoss: 2214.64\n",
      "[300000/1433083 (21%)]\tLoss: 1653.79\n",
      "[400000/1433083 (28%)]\tLoss: 1394.34\n",
      "[500000/1433083 (35%)]\tLoss: 1205.48\n",
      "[600000/1433083 (42%)]\tLoss: 1028.19\n",
      "[700000/1433083 (49%)]\tLoss: 897.97\n",
      "[800000/1433083 (56%)]\tLoss: 800.56\n",
      "[900000/1433083 (63%)]\tLoss: 768.10\n",
      "[1000000/1433083 (70%)]\tLoss: 767.92\n",
      "[1100000/1433083 (77%)]\tLoss: 746.88\n",
      "[1200000/1433083 (84%)]\tLoss: 746.99\n",
      "[1300000/1433083 (91%)]\tLoss: 794.83\n",
      "[1400000/1433083 (98%)]\tLoss: 887.09\n"
     ]
    },
    {
     "name": "stderr",
     "output_type": "stream",
     "text": [
      "Epoch:  12%|█▏        | 3/25 [02:36<19:10, 52.30s/it]"
     ]
    },
    {
     "name": "stdout",
     "output_type": "stream",
     "text": [
      "Test set: Accuracy: 590368/614179 (0.9612311720198835)\n",
      "\n",
      "[100000/1433083 (7%)]\tLoss: 2203.34\n",
      "[200000/1433083 (14%)]\tLoss: 1516.87\n",
      "[300000/1433083 (21%)]\tLoss: 1137.61\n",
      "[400000/1433083 (28%)]\tLoss: 951.50\n",
      "[500000/1433083 (35%)]\tLoss: 831.92\n",
      "[600000/1433083 (42%)]\tLoss: 712.81\n",
      "[700000/1433083 (49%)]\tLoss: 625.25\n",
      "[800000/1433083 (56%)]\tLoss: 560.70\n",
      "[900000/1433083 (63%)]\tLoss: 553.80\n",
      "[1000000/1433083 (70%)]\tLoss: 569.70\n",
      "[1100000/1433083 (77%)]\tLoss: 563.41\n",
      "[1200000/1433083 (84%)]\tLoss: 574.79\n",
      "[1300000/1433083 (91%)]\tLoss: 621.85\n",
      "[1400000/1433083 (98%)]\tLoss: 727.04\n"
     ]
    },
    {
     "name": "stderr",
     "output_type": "stream",
     "text": [
      "Epoch:  16%|█▌        | 4/25 [03:29<18:17, 52.27s/it]"
     ]
    },
    {
     "name": "stdout",
     "output_type": "stream",
     "text": [
      "Test set: Accuracy: 595927/614179 (0.9702822792703756)\n",
      "\n",
      "[100000/1433083 (7%)]\tLoss: 831.69\n",
      "[200000/1433083 (14%)]\tLoss: 617.38\n",
      "[300000/1433083 (21%)]\tLoss: 497.67\n",
      "[400000/1433083 (28%)]\tLoss: 444.86\n",
      "[500000/1433083 (35%)]\tLoss: 413.83\n",
      "[600000/1433083 (42%)]\tLoss: 359.71\n",
      "[700000/1433083 (49%)]\tLoss: 319.32\n",
      "[800000/1433083 (56%)]\tLoss: 290.75\n",
      "[900000/1433083 (63%)]\tLoss: 306.73\n",
      "[1000000/1433083 (70%)]\tLoss: 338.28\n",
      "[1100000/1433083 (77%)]\tLoss: 344.57\n",
      "[1200000/1433083 (84%)]\tLoss: 369.75\n",
      "[1300000/1433083 (91%)]\tLoss: 428.57\n",
      "[1400000/1433083 (98%)]\tLoss: 545.99\n"
     ]
    },
    {
     "name": "stderr",
     "output_type": "stream",
     "text": [
      "Epoch:  20%|██        | 5/25 [04:21<17:24, 52.22s/it]"
     ]
    },
    {
     "name": "stdout",
     "output_type": "stream",
     "text": [
      "Test set: Accuracy: 595960/614179 (0.9703360095346796)\n",
      "\n",
      "[100000/1433083 (7%)]\tLoss: 254.61\n",
      "[200000/1433083 (14%)]\tLoss: 273.91\n",
      "[300000/1433083 (21%)]\tLoss: 251.65\n",
      "[400000/1433083 (28%)]\tLoss: 242.27\n",
      "[500000/1433083 (35%)]\tLoss: 241.02\n",
      "[600000/1433083 (42%)]\tLoss: 212.76\n",
      "[700000/1433083 (49%)]\tLoss: 191.25\n",
      "[800000/1433083 (56%)]\tLoss: 176.94\n",
      "[900000/1433083 (63%)]\tLoss: 198.46\n",
      "[1000000/1433083 (70%)]\tLoss: 236.50\n",
      "[1100000/1433083 (77%)]\tLoss: 246.03\n",
      "[1200000/1433083 (84%)]\tLoss: 272.20\n",
      "[1300000/1433083 (91%)]\tLoss: 339.14\n",
      "[1400000/1433083 (98%)]\tLoss: 460.15\n"
     ]
    },
    {
     "name": "stderr",
     "output_type": "stream",
     "text": [
      "Epoch:  24%|██▍       | 6/25 [05:13<16:32, 52.24s/it]"
     ]
    },
    {
     "name": "stdout",
     "output_type": "stream",
     "text": [
      "Test set: Accuracy: 594977/614179 (0.9687354989343497)\n",
      "\n",
      "[100000/1433083 (7%)]\tLoss: 220.09\n",
      "[200000/1433083 (14%)]\tLoss: 249.77\n",
      "[300000/1433083 (21%)]\tLoss: 230.05\n",
      "[400000/1433083 (28%)]\tLoss: 226.58\n",
      "[500000/1433083 (35%)]\tLoss: 223.92\n",
      "[600000/1433083 (42%)]\tLoss: 197.40\n",
      "[700000/1433083 (49%)]\tLoss: 177.19\n",
      "[800000/1433083 (56%)]\tLoss: 163.42\n",
      "[900000/1433083 (63%)]\tLoss: 181.70\n",
      "[1000000/1433083 (70%)]\tLoss: 215.36\n",
      "[1100000/1433083 (77%)]\tLoss: 223.25\n",
      "[1200000/1433083 (84%)]\tLoss: 248.51\n",
      "[1300000/1433083 (91%)]\tLoss: 328.11\n",
      "[1400000/1433083 (98%)]\tLoss: 445.87\n"
     ]
    },
    {
     "name": "stderr",
     "output_type": "stream",
     "text": [
      "Epoch:  28%|██▊       | 7/25 [06:05<15:41, 52.30s/it]"
     ]
    },
    {
     "name": "stdout",
     "output_type": "stream",
     "text": [
      "Test set: Accuracy: 594251/614179 (0.9675534331196606)\n",
      "\n",
      "[100000/1433083 (7%)]\tLoss: 199.73\n",
      "[200000/1433083 (14%)]\tLoss: 193.48\n",
      "[300000/1433083 (21%)]\tLoss: 183.54\n",
      "[400000/1433083 (28%)]\tLoss: 177.03\n",
      "[500000/1433083 (35%)]\tLoss: 180.24\n",
      "[600000/1433083 (42%)]\tLoss: 159.88\n",
      "[700000/1433083 (49%)]\tLoss: 144.32\n",
      "[800000/1433083 (56%)]\tLoss: 133.93\n",
      "[900000/1433083 (63%)]\tLoss: 152.40\n",
      "[1000000/1433083 (70%)]\tLoss: 196.21\n",
      "[1100000/1433083 (77%)]\tLoss: 204.48\n",
      "[1200000/1433083 (84%)]\tLoss: 228.00\n",
      "[1300000/1433083 (91%)]\tLoss: 272.73\n",
      "[1400000/1433083 (98%)]\tLoss: 385.67\n"
     ]
    },
    {
     "name": "stderr",
     "output_type": "stream",
     "text": [
      "Epoch:  32%|███▏      | 8/25 [06:58<14:48, 52.28s/it]"
     ]
    },
    {
     "name": "stdout",
     "output_type": "stream",
     "text": [
      "Test set: Accuracy: 599245/614179 (0.9756846131176742)\n",
      "\n",
      "[100000/1433083 (7%)]\tLoss: 181.25\n",
      "[200000/1433083 (14%)]\tLoss: 171.21\n",
      "[300000/1433083 (21%)]\tLoss: 161.64\n",
      "[400000/1433083 (28%)]\tLoss: 155.45\n",
      "[500000/1433083 (35%)]\tLoss: 158.20\n",
      "[600000/1433083 (42%)]\tLoss: 140.24\n",
      "[700000/1433083 (49%)]\tLoss: 126.57\n",
      "[800000/1433083 (56%)]\tLoss: 117.33\n",
      "[900000/1433083 (63%)]\tLoss: 133.09\n",
      "[1000000/1433083 (70%)]\tLoss: 170.51\n",
      "[1100000/1433083 (77%)]\tLoss: 178.03\n",
      "[1200000/1433083 (84%)]\tLoss: 200.34\n",
      "[1300000/1433083 (91%)]\tLoss: 243.08\n",
      "[1400000/1433083 (98%)]\tLoss: 355.13\n"
     ]
    },
    {
     "name": "stderr",
     "output_type": "stream",
     "text": [
      "Epoch:  36%|███▌      | 9/25 [07:50<13:56, 52.28s/it]"
     ]
    },
    {
     "name": "stdout",
     "output_type": "stream",
     "text": [
      "Test set: Accuracy: 599429/614179 (0.9759842000459149)\n",
      "\n",
      "[100000/1433083 (7%)]\tLoss: 159.55\n",
      "[200000/1433083 (14%)]\tLoss: 151.01\n",
      "[300000/1433083 (21%)]\tLoss: 142.10\n",
      "[400000/1433083 (28%)]\tLoss: 136.72\n",
      "[500000/1433083 (35%)]\tLoss: 139.59\n",
      "[600000/1433083 (42%)]\tLoss: 123.73\n",
      "[700000/1433083 (49%)]\tLoss: 111.77\n",
      "[800000/1433083 (56%)]\tLoss: 103.64\n",
      "[900000/1433083 (63%)]\tLoss: 117.99\n",
      "[1000000/1433083 (70%)]\tLoss: 158.97\n",
      "[1100000/1433083 (77%)]\tLoss: 165.03\n",
      "[1200000/1433083 (84%)]\tLoss: 185.57\n",
      "[1300000/1433083 (91%)]\tLoss: 218.75\n",
      "[1400000/1433083 (98%)]\tLoss: 320.27\n"
     ]
    },
    {
     "name": "stderr",
     "output_type": "stream",
     "text": [
      "Epoch:  40%|████      | 10/25 [08:42<13:03, 52.23s/it]"
     ]
    },
    {
     "name": "stdout",
     "output_type": "stream",
     "text": [
      "Test set: Accuracy: 598125/614179 (0.9738610405109911)\n",
      "\n",
      "[100000/1433083 (7%)]\tLoss: 153.59\n",
      "[200000/1433083 (14%)]\tLoss: 139.41\n",
      "[300000/1433083 (21%)]\tLoss: 128.48\n",
      "[400000/1433083 (28%)]\tLoss: 123.20\n",
      "[500000/1433083 (35%)]\tLoss: 125.34\n",
      "[600000/1433083 (42%)]\tLoss: 110.84\n",
      "[700000/1433083 (49%)]\tLoss: 100.10\n",
      "[800000/1433083 (56%)]\tLoss: 92.69\n",
      "[900000/1433083 (63%)]\tLoss: 105.73\n",
      "[1000000/1433083 (70%)]\tLoss: 144.39\n",
      "[1100000/1433083 (77%)]\tLoss: 155.07\n",
      "[1200000/1433083 (84%)]\tLoss: 174.14\n",
      "[1300000/1433083 (91%)]\tLoss: 204.11\n",
      "[1400000/1433083 (98%)]\tLoss: 306.21\n"
     ]
    },
    {
     "name": "stderr",
     "output_type": "stream",
     "text": [
      "Epoch:  44%|████▍     | 11/25 [09:34<12:11, 52.28s/it]"
     ]
    },
    {
     "name": "stdout",
     "output_type": "stream",
     "text": [
      "Test set: Accuracy: 603030/614179 (0.9818473116143664)\n",
      "\n",
      "[100000/1433083 (7%)]\tLoss: 243.50\n",
      "[200000/1433083 (14%)]\tLoss: 185.80\n",
      "[300000/1433083 (21%)]\tLoss: 156.65\n",
      "[400000/1433083 (28%)]\tLoss: 141.45\n",
      "[500000/1433083 (35%)]\tLoss: 138.22\n",
      "[600000/1433083 (42%)]\tLoss: 121.19\n",
      "[700000/1433083 (49%)]\tLoss: 108.73\n",
      "[800000/1433083 (56%)]\tLoss: 99.85\n",
      "[900000/1433083 (63%)]\tLoss: 110.07\n",
      "[1000000/1433083 (70%)]\tLoss: 128.46\n",
      "[1100000/1433083 (77%)]\tLoss: 132.00\n",
      "[1200000/1433083 (84%)]\tLoss: 149.95\n",
      "[1300000/1433083 (91%)]\tLoss: 182.63\n",
      "[1400000/1433083 (98%)]\tLoss: 284.16\n"
     ]
    },
    {
     "name": "stderr",
     "output_type": "stream",
     "text": [
      "Epoch:  48%|████▊     | 12/25 [10:27<11:19, 52.30s/it]"
     ]
    },
    {
     "name": "stdout",
     "output_type": "stream",
     "text": [
      "Test set: Accuracy: 604563/614179 (0.984343326619764)\n",
      "\n",
      "[100000/1433083 (7%)]\tLoss: 165.05\n",
      "[200000/1433083 (14%)]\tLoss: 135.58\n",
      "[300000/1433083 (21%)]\tLoss: 121.89\n",
      "[400000/1433083 (28%)]\tLoss: 113.92\n",
      "[500000/1433083 (35%)]\tLoss: 114.68\n",
      "[600000/1433083 (42%)]\tLoss: 100.91\n",
      "[700000/1433083 (49%)]\tLoss: 90.94\n",
      "[800000/1433083 (56%)]\tLoss: 83.81\n",
      "[900000/1433083 (63%)]\tLoss: 94.19\n",
      "[1000000/1433083 (70%)]\tLoss: 115.53\n",
      "[1100000/1433083 (77%)]\tLoss: 118.95\n",
      "[1200000/1433083 (84%)]\tLoss: 134.97\n",
      "[1300000/1433083 (91%)]\tLoss: 163.50\n",
      "[1400000/1433083 (98%)]\tLoss: 262.21\n"
     ]
    },
    {
     "name": "stderr",
     "output_type": "stream",
     "text": [
      "Epoch:  52%|█████▏    | 13/25 [11:19<10:28, 52.37s/it]"
     ]
    },
    {
     "name": "stdout",
     "output_type": "stream",
     "text": [
      "Test set: Accuracy: 604957/614179 (0.9849848334117578)\n",
      "\n",
      "[100000/1433083 (7%)]\tLoss: 129.49\n",
      "[200000/1433083 (14%)]\tLoss: 109.94\n",
      "[300000/1433083 (21%)]\tLoss: 99.93\n",
      "[400000/1433083 (28%)]\tLoss: 93.13\n",
      "[500000/1433083 (35%)]\tLoss: 96.37\n",
      "[600000/1433083 (42%)]\tLoss: 85.12\n",
      "[700000/1433083 (49%)]\tLoss: 76.83\n",
      "[800000/1433083 (56%)]\tLoss: 71.01\n",
      "[900000/1433083 (63%)]\tLoss: 81.42\n",
      "[1000000/1433083 (70%)]\tLoss: 105.50\n",
      "[1100000/1433083 (77%)]\tLoss: 108.88\n",
      "[1200000/1433083 (84%)]\tLoss: 123.94\n",
      "[1300000/1433083 (91%)]\tLoss: 148.19\n",
      "[1400000/1433083 (98%)]\tLoss: 240.90\n"
     ]
    },
    {
     "name": "stderr",
     "output_type": "stream",
     "text": [
      "Epoch:  56%|█████▌    | 14/25 [12:12<09:36, 52.39s/it]"
     ]
    },
    {
     "name": "stdout",
     "output_type": "stream",
     "text": [
      "Test set: Accuracy: 605944/614179 (0.9865918567713973)\n",
      "\n",
      "[100000/1433083 (7%)]\tLoss: 118.60\n",
      "[200000/1433083 (14%)]\tLoss: 98.48\n",
      "[300000/1433083 (21%)]\tLoss: 88.30\n",
      "[400000/1433083 (28%)]\tLoss: 81.46\n",
      "[500000/1433083 (35%)]\tLoss: 87.30\n",
      "[600000/1433083 (42%)]\tLoss: 77.14\n",
      "[700000/1433083 (49%)]\tLoss: 69.55\n",
      "[800000/1433083 (56%)]\tLoss: 64.23\n",
      "[900000/1433083 (63%)]\tLoss: 73.96\n",
      "[1000000/1433083 (70%)]\tLoss: 96.61\n",
      "[1100000/1433083 (77%)]\tLoss: 98.96\n",
      "[1200000/1433083 (84%)]\tLoss: 112.70\n",
      "[1300000/1433083 (91%)]\tLoss: 135.73\n",
      "[1400000/1433083 (98%)]\tLoss: 228.46\n"
     ]
    },
    {
     "name": "stderr",
     "output_type": "stream",
     "text": [
      "Epoch:  60%|██████    | 15/25 [13:04<08:44, 52.48s/it]"
     ]
    },
    {
     "name": "stdout",
     "output_type": "stream",
     "text": [
      "Test set: Accuracy: 606349/614179 (0.9872512736514925)\n",
      "\n",
      "[100000/1433083 (7%)]\tLoss: 114.07\n",
      "[200000/1433083 (14%)]\tLoss: 92.74\n",
      "[300000/1433083 (21%)]\tLoss: 82.46\n",
      "[400000/1433083 (28%)]\tLoss: 75.33\n",
      "[500000/1433083 (35%)]\tLoss: 78.87\n",
      "[600000/1433083 (42%)]\tLoss: 69.58\n",
      "[700000/1433083 (49%)]\tLoss: 62.68\n",
      "[800000/1433083 (56%)]\tLoss: 57.85\n",
      "[900000/1433083 (63%)]\tLoss: 67.19\n",
      "[1000000/1433083 (70%)]\tLoss: 82.14\n",
      "[1100000/1433083 (77%)]\tLoss: 84.20\n",
      "[1200000/1433083 (84%)]\tLoss: 95.90\n",
      "[1300000/1433083 (91%)]\tLoss: 116.62\n",
      "[1400000/1433083 (98%)]\tLoss: 213.06\n"
     ]
    },
    {
     "name": "stderr",
     "output_type": "stream",
     "text": [
      "Epoch:  64%|██████▍   | 16/25 [13:56<07:51, 52.34s/it]"
     ]
    },
    {
     "name": "stdout",
     "output_type": "stream",
     "text": [
      "Test set: Accuracy: 603619/614179 (0.9828063154227025)\n",
      "\n",
      "[100000/1433083 (7%)]\tLoss: 101.01\n",
      "[200000/1433083 (14%)]\tLoss: 87.44\n",
      "[300000/1433083 (21%)]\tLoss: 77.53\n",
      "[400000/1433083 (28%)]\tLoss: 70.26\n",
      "[500000/1433083 (35%)]\tLoss: 73.10\n",
      "[600000/1433083 (42%)]\tLoss: 64.49\n",
      "[700000/1433083 (49%)]\tLoss: 58.02\n",
      "[800000/1433083 (56%)]\tLoss: 53.45\n",
      "[900000/1433083 (63%)]\tLoss: 62.25\n",
      "[1000000/1433083 (70%)]\tLoss: 74.19\n",
      "[1100000/1433083 (77%)]\tLoss: 75.87\n",
      "[1200000/1433083 (84%)]\tLoss: 85.76\n",
      "[1300000/1433083 (91%)]\tLoss: 106.71\n",
      "[1400000/1433083 (98%)]\tLoss: 183.49\n"
     ]
    },
    {
     "name": "stderr",
     "output_type": "stream",
     "text": [
      "Epoch:  68%|██████▊   | 17/25 [14:49<06:58, 52.37s/it]"
     ]
    },
    {
     "name": "stdout",
     "output_type": "stream",
     "text": [
      "Test set: Accuracy: 607449/614179 (0.9890422824616276)\n",
      "\n",
      "[100000/1433083 (7%)]\tLoss: 478.23\n",
      "[200000/1433083 (14%)]\tLoss: 286.26\n",
      "[300000/1433083 (21%)]\tLoss: 218.93\n",
      "[400000/1433083 (28%)]\tLoss: 186.17\n",
      "[500000/1433083 (35%)]\tLoss: 168.51\n",
      "[600000/1433083 (42%)]\tLoss: 145.60\n",
      "[700000/1433083 (49%)]\tLoss: 129.00\n",
      "[800000/1433083 (56%)]\tLoss: 116.31\n",
      "[900000/1433083 (63%)]\tLoss: 118.38\n",
      "[1000000/1433083 (70%)]\tLoss: 128.10\n",
      "[1100000/1433083 (77%)]\tLoss: 126.48\n",
      "[1200000/1433083 (84%)]\tLoss: 133.36\n",
      "[1300000/1433083 (91%)]\tLoss: 146.13\n",
      "[1400000/1433083 (98%)]\tLoss: 209.59\n"
     ]
    },
    {
     "name": "stderr",
     "output_type": "stream",
     "text": [
      "Epoch:  72%|███████▏  | 18/25 [15:41<06:05, 52.24s/it]"
     ]
    },
    {
     "name": "stdout",
     "output_type": "stream",
     "text": [
      "Test set: Accuracy: 607794/614179 (0.9896040079520791)\n",
      "\n",
      "[100000/1433083 (7%)]\tLoss: 123.89\n",
      "[200000/1433083 (14%)]\tLoss: 101.59\n",
      "[300000/1433083 (21%)]\tLoss: 86.34\n",
      "[400000/1433083 (28%)]\tLoss: 75.98\n",
      "[500000/1433083 (35%)]\tLoss: 76.35\n",
      "[600000/1433083 (42%)]\tLoss: 67.21\n",
      "[700000/1433083 (49%)]\tLoss: 60.37\n",
      "[800000/1433083 (56%)]\tLoss: 55.36\n",
      "[900000/1433083 (63%)]\tLoss: 61.51\n",
      "[1000000/1433083 (70%)]\tLoss: 72.23\n",
      "[1100000/1433083 (77%)]\tLoss: 73.10\n",
      "[1200000/1433083 (84%)]\tLoss: 83.58\n",
      "[1300000/1433083 (91%)]\tLoss: 98.86\n",
      "[1400000/1433083 (98%)]\tLoss: 168.77\n"
     ]
    },
    {
     "name": "stderr",
     "output_type": "stream",
     "text": [
      "Epoch:  76%|███████▌  | 19/25 [16:33<05:13, 52.19s/it]"
     ]
    },
    {
     "name": "stdout",
     "output_type": "stream",
     "text": [
      "Test set: Accuracy: 608141/614179 (0.9901689898221854)\n",
      "\n",
      "[100000/1433083 (7%)]\tLoss: 80.71\n",
      "[200000/1433083 (14%)]\tLoss: 63.69\n",
      "[300000/1433083 (21%)]\tLoss: 57.18\n",
      "[400000/1433083 (28%)]\tLoss: 52.03\n",
      "[500000/1433083 (35%)]\tLoss: 62.64\n",
      "[600000/1433083 (42%)]\tLoss: 55.90\n",
      "[700000/1433083 (49%)]\tLoss: 50.38\n",
      "[800000/1433083 (56%)]\tLoss: 46.42\n",
      "[900000/1433083 (63%)]\tLoss: 51.84\n",
      "[1000000/1433083 (70%)]\tLoss: 61.37\n",
      "[1100000/1433083 (77%)]\tLoss: 62.20\n",
      "[1200000/1433083 (84%)]\tLoss: 71.47\n",
      "[1300000/1433083 (91%)]\tLoss: 88.64\n",
      "[1400000/1433083 (98%)]\tLoss: 159.74\n"
     ]
    },
    {
     "name": "stderr",
     "output_type": "stream",
     "text": [
      "Epoch:  80%|████████  | 20/25 [17:26<04:21, 52.33s/it]"
     ]
    },
    {
     "name": "stdout",
     "output_type": "stream",
     "text": [
      "Test set: Accuracy: 607946/614179 (0.9898514928058433)\n",
      "\n",
      "[100000/1433083 (7%)]\tLoss: 68.76\n",
      "[200000/1433083 (14%)]\tLoss: 55.08\n",
      "[300000/1433083 (21%)]\tLoss: 49.28\n",
      "[400000/1433083 (28%)]\tLoss: 44.67\n",
      "[500000/1433083 (35%)]\tLoss: 57.48\n",
      "[600000/1433083 (42%)]\tLoss: 52.45\n",
      "[700000/1433083 (49%)]\tLoss: 47.56\n",
      "[800000/1433083 (56%)]\tLoss: 43.83\n",
      "[900000/1433083 (63%)]\tLoss: 48.62\n",
      "[1000000/1433083 (70%)]\tLoss: 58.65\n",
      "[1100000/1433083 (77%)]\tLoss: 61.69\n",
      "[1200000/1433083 (84%)]\tLoss: 68.94\n",
      "[1300000/1433083 (91%)]\tLoss: 83.13\n",
      "[1400000/1433083 (98%)]\tLoss: 167.90\n"
     ]
    },
    {
     "name": "stderr",
     "output_type": "stream",
     "text": [
      "Epoch:  84%|████████▍ | 21/25 [18:17<03:28, 52.19s/it]"
     ]
    },
    {
     "name": "stdout",
     "output_type": "stream",
     "text": [
      "Test set: Accuracy: 607299/614179 (0.9887980539875183)\n",
      "\n",
      "[100000/1433083 (7%)]\tLoss: 60.16\n",
      "[200000/1433083 (14%)]\tLoss: 48.93\n",
      "[300000/1433083 (21%)]\tLoss: 45.08\n",
      "[400000/1433083 (28%)]\tLoss: 40.91\n",
      "[500000/1433083 (35%)]\tLoss: 43.07\n",
      "[600000/1433083 (42%)]\tLoss: 38.31\n",
      "[700000/1433083 (49%)]\tLoss: 34.69\n",
      "[800000/1433083 (56%)]\tLoss: 32.08\n",
      "[900000/1433083 (63%)]\tLoss: 37.44\n",
      "[1000000/1433083 (70%)]\tLoss: 47.39\n",
      "[1100000/1433083 (77%)]\tLoss: 48.50\n",
      "[1200000/1433083 (84%)]\tLoss: 55.05\n",
      "[1300000/1433083 (91%)]\tLoss: 68.18\n",
      "[1400000/1433083 (98%)]\tLoss: 129.10\n"
     ]
    },
    {
     "name": "stderr",
     "output_type": "stream",
     "text": [
      "Epoch:  88%|████████▊ | 22/25 [19:09<02:36, 52.04s/it]"
     ]
    },
    {
     "name": "stdout",
     "output_type": "stream",
     "text": [
      "Test set: Accuracy: 608361/614179 (0.9905271915842124)\n",
      "\n",
      "[100000/1433083 (7%)]\tLoss: 55.26\n",
      "[200000/1433083 (14%)]\tLoss: 58.54\n",
      "[300000/1433083 (21%)]\tLoss: 57.37\n",
      "[400000/1433083 (28%)]\tLoss: 49.89\n",
      "[500000/1433083 (35%)]\tLoss: 49.58\n",
      "[600000/1433083 (42%)]\tLoss: 43.60\n",
      "[700000/1433083 (49%)]\tLoss: 39.07\n",
      "[800000/1433083 (56%)]\tLoss: 35.80\n",
      "[900000/1433083 (63%)]\tLoss: 39.83\n",
      "[1000000/1433083 (70%)]\tLoss: 58.10\n",
      "[1100000/1433083 (77%)]\tLoss: 61.14\n",
      "[1200000/1433083 (84%)]\tLoss: 66.87\n",
      "[1300000/1433083 (91%)]\tLoss: 77.58\n",
      "[1400000/1433083 (98%)]\tLoss: 135.65\n"
     ]
    },
    {
     "name": "stderr",
     "output_type": "stream",
     "text": [
      "Epoch:  92%|█████████▏| 23/25 [20:01<01:44, 52.02s/it]"
     ]
    },
    {
     "name": "stdout",
     "output_type": "stream",
     "text": [
      "Test set: Accuracy: 608559/614179 (0.9908495731700367)\n",
      "\n",
      "[100000/1433083 (7%)]\tLoss: 51.53\n",
      "[200000/1433083 (14%)]\tLoss: 39.30\n",
      "[300000/1433083 (21%)]\tLoss: 42.11\n",
      "[400000/1433083 (28%)]\tLoss: 37.25\n",
      "[500000/1433083 (35%)]\tLoss: 39.11\n",
      "[600000/1433083 (42%)]\tLoss: 34.51\n",
      "[700000/1433083 (49%)]\tLoss: 31.00\n",
      "[800000/1433083 (56%)]\tLoss: 28.48\n",
      "[900000/1433083 (63%)]\tLoss: 32.18\n",
      "[1000000/1433083 (70%)]\tLoss: 43.80\n",
      "[1100000/1433083 (77%)]\tLoss: 44.34\n",
      "[1200000/1433083 (84%)]\tLoss: 49.22\n",
      "[1300000/1433083 (91%)]\tLoss: 59.53\n",
      "[1400000/1433083 (98%)]\tLoss: 137.67\n"
     ]
    },
    {
     "name": "stderr",
     "output_type": "stream",
     "text": [
      "Epoch:  96%|█████████▌| 24/25 [20:53<00:52, 52.05s/it]"
     ]
    },
    {
     "name": "stdout",
     "output_type": "stream",
     "text": [
      "Test set: Accuracy: 608538/614179 (0.9908153811836614)\n",
      "\n",
      "[100000/1433083 (7%)]\tLoss: 49.31\n",
      "[200000/1433083 (14%)]\tLoss: 37.99\n",
      "[300000/1433083 (21%)]\tLoss: 34.08\n",
      "[400000/1433083 (28%)]\tLoss: 30.50\n",
      "[500000/1433083 (35%)]\tLoss: 34.72\n",
      "[600000/1433083 (42%)]\tLoss: 30.86\n",
      "[700000/1433083 (49%)]\tLoss: 27.81\n",
      "[800000/1433083 (56%)]\tLoss: 25.58\n",
      "[900000/1433083 (63%)]\tLoss: 30.53\n",
      "[1000000/1433083 (70%)]\tLoss: 40.70\n",
      "[1100000/1433083 (77%)]\tLoss: 40.98\n",
      "[1200000/1433083 (84%)]\tLoss: 45.19\n",
      "[1300000/1433083 (91%)]\tLoss: 53.17\n",
      "[1400000/1433083 (98%)]\tLoss: 107.95\n"
     ]
    },
    {
     "name": "stderr",
     "output_type": "stream",
     "text": [
      "Epoch: 100%|██████████| 25/25 [21:46<00:00, 52.25s/it]"
     ]
    },
    {
     "name": "stdout",
     "output_type": "stream",
     "text": [
      "Test set: Accuracy: 608960/614179 (0.9915024772908224)\n",
      "\n",
      "CPU times: user 17min 44s, sys: 5min 59s, total: 23min 44s\n",
      "Wall time: 21min 48s\n"
     ]
    },
    {
     "name": "stderr",
     "output_type": "stream",
     "text": [
      "\n"
     ]
    }
   ],
   "source": [
    "%%time\n",
    "dd.train_model(train_data, labels, batch_size=BATCH_SIZE, epochs=EPOCHS, train_size=0.7)"
   ]
  },
  {
   "cell_type": "markdown",
   "metadata": {},
   "source": [
    "### Save Model\n",
    "Save pretrained model to a given output location."
   ]
  },
  {
   "cell_type": "code",
   "execution_count": 10,
   "metadata": {},
   "outputs": [
    {
     "name": "stdout",
     "output_type": "stream",
     "text": [
      "Pretrained model saved to location: 'models/rnn_classifier_2021-05-03_04_39_31.bin'\n"
     ]
    }
   ],
   "source": [
    "if not os.path.exists(MODELS_DIR):\n",
    "    print(\"Creating directory '{}'\".format(MODELS_DIR))\n",
    "    os.makedirs(MODELS_DIR)\n",
    "\n",
    "now = datetime.now()\n",
    "model_filename = \"rnn_classifier_{}.bin\".format(now.strftime(\"%Y-%m-%d_%H_%M_%S\"))\n",
    "model_filepath = os.path.join(MODELS_DIR, model_filename)\n",
    "dd.save_model(model_filepath)\n",
    "print(\"Pretrained model saved to location: '{}'\".format(model_filepath))"
   ]
  },
  {
   "cell_type": "markdown",
   "metadata": {},
   "source": [
    "### Inference"
   ]
  },
  {
   "cell_type": "markdown",
   "metadata": {},
   "source": [
    "Using the model generated above, we now score the test dataset against the model to determine if the domain is likely generated by a DGA or benign."
   ]
  },
  {
   "cell_type": "code",
   "execution_count": 11,
   "metadata": {},
   "outputs": [
    {
     "name": "stdout",
     "output_type": "stream",
     "text": [
      "Model accuracy: 0.9928001445832567\n"
     ]
    }
   ],
   "source": [
    "dga_detector = DGADetector()\n",
    "dga_detector.load_model(model_filepath)\n",
    "\n",
    "domain_train, domain_test, type_train, type_test = train_test_split(gdf, \"type\", train_size=0.7)\n",
    "test_df = cudf.DataFrame()\n",
    "test_df[\"type\"] = type_test.reset_index(drop=True)\n",
    "test_df[\"domain\"] = domain_test.reset_index(drop=True)\n",
    "\n",
    "test_dataset = DGADataset(test_df)\n",
    "test_dataloader = DataLoader(test_dataset, batchsize=BATCH_SIZE)\n",
    "\n",
    "pred_results = []\n",
    "true_results = []\n",
    "for chunk in test_dataloader.get_chunks():\n",
    "    pred_results.append(list(dga_detector.predict(chunk['domain']).values_host))\n",
    "    true_results.append(list(chunk['type'].values_host))\n",
    "pred_results = np.concatenate(pred_results)\n",
    "true_results = np.concatenate(true_results)\n",
    "accuracy_score = accuracy_score(pred_results, true_results)\n",
    "\n",
    "print('Model accuracy: %s'%(accuracy_score))"
   ]
  },
  {
   "cell_type": "code",
   "execution_count": 12,
   "metadata": {},
   "outputs": [
    {
     "name": "stdout",
     "output_type": "stream",
     "text": [
      "Average precision score: 0.980\n"
     ]
    }
   ],
   "source": [
    "average_precision = average_precision_score(true_results, pred_results)\n",
    "\n",
    "print('Average precision score: {0:0.3f}'.format(average_precision))"
   ]
  },
  {
   "cell_type": "markdown",
   "metadata": {},
   "source": [
    "## Conclusion"
   ]
  },
  {
   "cell_type": "markdown",
   "metadata": {},
   "source": [
    "DGA detector in CLX enables users to train their models for detection and also use existing models. This capability could also be used in conjunction with log parsing efforts if the logs contain domain names. DGA detection done with CLX and RAPIDS keeps data in GPU memory, removing unnecessary copy/converts and providing a 4X speed advantage over CPU only implementations. This is esepcially true with large batch sizes."
   ]
  }
 ],
 "metadata": {
  "kernelspec": {
   "display_name": "Python 3",
   "language": "python",
   "name": "python3"
  },
  "language_info": {
   "codemirror_mode": {
    "name": "ipython",
    "version": 3
   },
   "file_extension": ".py",
   "mimetype": "text/x-python",
   "name": "python",
   "nbconvert_exporter": "python",
   "pygments_lexer": "ipython3",
   "version": "3.7.10"
  }
 },
 "nbformat": 4,
 "nbformat_minor": 4
}
